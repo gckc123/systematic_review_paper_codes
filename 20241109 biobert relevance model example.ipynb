{
 "cells": [
  {
   "cell_type": "code",
   "execution_count": 3,
   "id": "7cb9a6df-ce90-4755-ab3f-421a6c7bea0f",
   "metadata": {},
   "outputs": [],
   "source": [
    "import pandas as pd\n",
    "import numpy as np\n",
    "import matplotlib.pyplot as plt\n",
    "from datasets import Dataset, DatasetDict\n",
    "\n",
    "from transformers import AutoModelForSequenceClassification\n",
    "from transformers import AutoTokenizer\n",
    "\n",
    "import torch\n",
    "from torch.utils.data import DataLoader\n",
    "import logging\n",
    "import numpy as np\n",
    "import re\n",
    "\n",
    "from tqdm.auto import tqdm\n",
    "from tqdm.notebook import tqdm\n",
    "from transformers import AutoModel, AutoTokenizer"
   ]
  },
  {
   "cell_type": "code",
   "execution_count": 4,
   "id": "0886ba79-a93e-4253-9109-e79d2d6e4c27",
   "metadata": {},
   "outputs": [],
   "source": [
    "device = torch.device(\"cuda\" if torch.cuda.is_available() else \"cpu\")"
   ]
  },
  {
   "cell_type": "code",
   "execution_count": 5,
   "id": "97d72f40-201d-413a-bb54-f97e7213855c",
   "metadata": {},
   "outputs": [],
   "source": [
    "#set the data folder\n",
    "data_folder = \"/home/gckc123/Documents/Testing/data\""
   ]
  },
  {
   "cell_type": "code",
   "execution_count": 6,
   "id": "4bcf95a8-07cd-4787-b812-64c470f80dac",
   "metadata": {},
   "outputs": [],
   "source": [
    "#set the file name\n",
    "dev_file_name = \"20240827_dev_set.csv\""
   ]
  },
  {
   "cell_type": "code",
   "execution_count": 7,
   "id": "9bf12436-a3dc-40d7-8af7-23940a08646e",
   "metadata": {},
   "outputs": [],
   "source": [
    "dev_file = pd.read_csv(data_folder + \"/\" + dev_file_name)"
   ]
  },
  {
   "cell_type": "code",
   "execution_count": 8,
   "id": "003919d1-efca-4443-90f2-cb279cfff727",
   "metadata": {},
   "outputs": [],
   "source": [
    "dev_file[\"obj_sel\"] = \"[RTI] \" + dev_file[\"Review_Title\"].fillna(\"\") + \"[BG] \" + dev_file[\"Background\"].fillna(\"\") + \"[OBJ] \" + dev_file[\"Objective\"].fillna(\"\") + \"[SEL] \" + dev_file[\"Selection_criteria\"].fillna(\"\")\n",
    "dev_file[\"tit_abs\"] = \"[TIT] \" + dev_file[\"Title\"].fillna(\"\") + \"[ABS] \" + dev_file[\"Abstract_clean\"].fillna(\"\")"
   ]
  },
  {
   "cell_type": "code",
   "execution_count": 238,
   "id": "408fd1bb-bf72-40f6-8c21-2b0520bebc79",
   "metadata": {},
   "outputs": [
    {
     "name": "stderr",
     "output_type": "stream",
     "text": [
      "/home/gckc123/anaconda3/envs/Sierra/lib/python3.12/site-packages/transformers/tokenization_utils_base.py:1601: FutureWarning: `clean_up_tokenization_spaces` was not set. It will be set to `True` by default. This behavior will be depracted in transformers v4.45, and will be then set to `False` by default. For more details check this issue: https://github.com/huggingface/transformers/issues/31884\n",
      "  warnings.warn(\n"
     ]
    }
   ],
   "source": [
    "model_ckpt = \"dmis-lab/biobert-large-cased-v1.1\"\n",
    "\n",
    "#model_ckpt = \"dmis-lab/biobert-base-cased-v1.1\"\n",
    "\n",
    "#model_ckpt = \"microsoft/BiomedNLP-BiomedBERT-base-uncased-abstract-fulltext\"\n",
    "tokenizer = AutoTokenizer.from_pretrained(model_ckpt)\n",
    "model = AutoModel.from_pretrained(model_ckpt)\n",
    "\n",
    "new_tokens = [\"[RTI]\", \"[BG]\", \"[OBJ]\", \"[SEL]\", \"[TIT]\", \"[ABS]\"]"
   ]
  },
  {
   "cell_type": "code",
   "execution_count": 240,
   "id": "e63f093f-3a84-4a52-acb3-d74e4bdf039d",
   "metadata": {},
   "outputs": [],
   "source": [
    "dev_set = Dataset.from_pandas(dev_file)"
   ]
  },
  {
   "cell_type": "code",
   "execution_count": 241,
   "id": "33dbbb0f-f103-4906-9b43-802166e40c42",
   "metadata": {},
   "outputs": [
    {
     "data": {
      "application/vnd.jupyter.widget-view+json": {
       "model_id": "d338ca639a914cef9e6a140894e733cc",
       "version_major": 2,
       "version_minor": 0
      },
      "text/plain": [
       "Map:   0%|          | 0/466745 [00:00<?, ? examples/s]"
      ]
     },
     "metadata": {},
     "output_type": "display_data"
    },
    {
     "data": {
      "application/vnd.jupyter.widget-view+json": {
       "model_id": "a56ceedad45747e28ae9ceb96c7da1f2",
       "version_major": 2,
       "version_minor": 0
      },
      "text/plain": [
       "Map:   0%|          | 0/466745 [00:00<?, ? examples/s]"
      ]
     },
     "metadata": {},
     "output_type": "display_data"
    }
   ],
   "source": [
    "for part in [\"obj_sel\", \"tit_abs\"]:\n",
    "    dev_set = dev_set.map(\n",
    "        lambda x: tokenizer(\n",
    "            x[part], max_length = 512, padding = True, truncation = True),\n",
    "        batched = True, batch_size = None\n",
    "    )\n",
    "    for col in ['input_ids', 'attention_mask']:\n",
    "        dev_set = dev_set.rename_column(\n",
    "            col, part+\"_\"+col\n",
    "        )\n",
    "\n",
    "all_cols = ['label', 'obj_sel_input_ids', 'obj_sel_attention_mask', 'tit_abs_input_ids', 'tit_abs_attention_mask']\n",
    "dev_set.set_format(type = 'torch', columns = all_cols)"
   ]
  },
  {
   "cell_type": "code",
   "execution_count": null,
   "id": "c7ad71d6-5f82-4f6e-986a-1ce91ef3f2b4",
   "metadata": {},
   "outputs": [],
   "source": []
  },
  {
   "cell_type": "code",
   "execution_count": 242,
   "id": "f93c0e8f-6afa-40c4-a988-a8b6a437b694",
   "metadata": {},
   "outputs": [],
   "source": [
    "batch_size = 64\n",
    "loader = torch.utils.data.DataLoader(\n",
    "    dev_set, batch_size = batch_size, shuffle = True)"
   ]
  },
  {
   "cell_type": "code",
   "execution_count": 243,
   "id": "805ec169-f1dd-413f-93ec-6d3e50c804fc",
   "metadata": {},
   "outputs": [],
   "source": [
    "def mean_pool(token_embeds, attention_mask):\n",
    "    in_mask = attention_mask.unsqueeze(-1).expand(token_embeds.size()).float()\n",
    "    pool = torch.sum(token_embeds * in_mask, 1) / torch.clamp(\n",
    "        in_mask.sum(1), min=1e-9\n",
    "    )\n",
    "    return pool"
   ]
  },
  {
   "cell_type": "code",
   "execution_count": 244,
   "id": "0b9a11d6-0123-4e88-ba02-e97290e8af8c",
   "metadata": {},
   "outputs": [],
   "source": [
    "ffnn = torch.nn.Linear(1024*3, 1)\n",
    "\n",
    "#ffnn = torch.nn.Linear(768*3, 1)\n",
    "loss_func = torch.nn.MSELoss()"
   ]
  },
  {
   "cell_type": "code",
   "execution_count": 245,
   "id": "df0d5206-2861-4f8e-af3e-fecd0532cdd4",
   "metadata": {},
   "outputs": [],
   "source": [
    "from transformers.optimization import get_linear_schedule_with_warmup\n",
    "\n",
    "optim = torch.optim.Adam(model.parameters(), lr = 2e-5)\n",
    "total_steps = int(len(dev_set) / batch_size)\n",
    "warmup_steps = 500\n",
    "scheduler = get_linear_schedule_with_warmup(\n",
    "    optim, num_warmup_steps=warmup_steps,\n",
    "    num_training_steps=total_steps - warmup_steps\n",
    ")\n",
    "\n"
   ]
  },
  {
   "cell_type": "code",
   "execution_count": 246,
   "id": "85d10081-3297-49c9-921d-68defa761ed0",
   "metadata": {},
   "outputs": [],
   "source": [
    "import torch.nn as nn\n",
    "\n",
    "model = nn.DataParallel(model)\n",
    "ffnn = nn.DataParallel(ffnn)\n",
    "\n",
    "model = model.to(device)\n",
    "ffnn = ffnn.to(device)"
   ]
  },
  {
   "cell_type": "code",
   "execution_count": null,
   "id": "0d6fca67-ad2f-4a8a-a398-e62f1b1094e5",
   "metadata": {},
   "outputs": [],
   "source": []
  },
  {
   "cell_type": "code",
   "execution_count": 247,
   "id": "095a9d3a-88c1-4a4f-b881-cad7de386d68",
   "metadata": {},
   "outputs": [
    {
     "data": {
      "application/vnd.jupyter.widget-view+json": {
       "model_id": "7325d8ee43cd4e0d9c428f1ba5a3f077",
       "version_major": 2,
       "version_minor": 0
      },
      "text/plain": [
       "  0%|          | 0/7293 [00:00<?, ?it/s]"
      ]
     },
     "metadata": {},
     "output_type": "display_data"
    },
    {
     "name": "stderr",
     "output_type": "stream",
     "text": [
      "/home/gckc123/anaconda3/envs/Sierra/lib/python3.12/site-packages/torch/nn/parallel/parallel_apply.py:79: FutureWarning: `torch.cuda.amp.autocast(args...)` is deprecated. Please use `torch.amp.autocast('cuda', args...)` instead.\n",
      "  with torch.cuda.device(device), torch.cuda.stream(stream), autocast(enabled=autocast_enabled):\n"
     ]
    },
    {
     "name": "stdout",
     "output_type": "stream",
     "text": [
      "Step 0, Loss: 0.6500090956687927\n",
      "Step 100, Loss: 0.12030091136693954\n",
      "Step 200, Loss: 0.06970946490764618\n",
      "Step 300, Loss: 0.053962960839271545\n",
      "Step 400, Loss: 0.06465943902730942\n",
      "Step 500, Loss: 0.052706994116306305\n",
      "Step 600, Loss: 0.05833008885383606\n",
      "Step 700, Loss: 0.06320291012525558\n",
      "Step 800, Loss: 0.04279603436589241\n",
      "Step 900, Loss: 0.058049559593200684\n",
      "Step 1000, Loss: 0.06046520173549652\n",
      "Step 1100, Loss: 0.024503251537680626\n",
      "Step 1200, Loss: 0.08358778059482574\n",
      "Step 1300, Loss: 0.059533871710300446\n",
      "Step 1400, Loss: 0.04453762620687485\n",
      "Step 1500, Loss: 0.05321890860795975\n",
      "Step 1600, Loss: 0.06352779269218445\n",
      "Step 1700, Loss: 0.05680865794420242\n",
      "Step 1800, Loss: 0.04784209653735161\n",
      "Step 1900, Loss: 0.062095992267131805\n",
      "Step 2000, Loss: 0.04491308331489563\n",
      "Step 2100, Loss: 0.06464462727308273\n",
      "Step 2200, Loss: 0.0373610258102417\n",
      "Step 2300, Loss: 0.05767640843987465\n",
      "Step 2400, Loss: 0.029944488778710365\n",
      "Step 2500, Loss: 0.06343723833560944\n",
      "Step 2600, Loss: 0.04289017990231514\n",
      "Step 2700, Loss: 0.0435878187417984\n",
      "Step 2800, Loss: 0.07772383093833923\n",
      "Step 2900, Loss: 0.03919702768325806\n",
      "Step 3000, Loss: 0.05884857475757599\n",
      "Step 3100, Loss: 0.025842618197202682\n",
      "Step 3200, Loss: 0.048101991415023804\n",
      "Step 3300, Loss: 0.06493821740150452\n",
      "Step 3400, Loss: 0.030186671763658524\n",
      "Step 3500, Loss: 0.03151615336537361\n",
      "Step 3600, Loss: 0.04934382811188698\n",
      "Step 3700, Loss: 0.052580613642930984\n",
      "Step 3800, Loss: 0.03565039485692978\n",
      "Step 3900, Loss: 0.03597690910100937\n",
      "Step 4000, Loss: 0.0281569492071867\n",
      "Step 4100, Loss: 0.059619881212711334\n",
      "Step 4200, Loss: 0.062407612800598145\n",
      "Step 4300, Loss: 0.04991110786795616\n",
      "Step 4400, Loss: 0.047650717198848724\n",
      "Step 4500, Loss: 0.043104588985443115\n",
      "Step 4600, Loss: 0.047726236283779144\n",
      "Step 4700, Loss: 0.05785349756479263\n",
      "Step 4800, Loss: 0.03305387869477272\n",
      "Step 4900, Loss: 0.04308883845806122\n",
      "Step 5000, Loss: 0.037225883454084396\n",
      "Step 5100, Loss: 0.04373859614133835\n",
      "Step 5200, Loss: 0.03733516484498978\n",
      "Step 5300, Loss: 0.041480228304862976\n",
      "Step 5400, Loss: 0.026550354436039925\n",
      "Step 5500, Loss: 0.03238452225923538\n",
      "Step 5600, Loss: 0.037744857370853424\n",
      "Step 5700, Loss: 0.039713360369205475\n",
      "Step 5800, Loss: 0.025115910917520523\n",
      "Step 5900, Loss: 0.04552502557635307\n",
      "Step 6000, Loss: 0.03531128540635109\n",
      "Step 6100, Loss: 0.03454705327749252\n",
      "Step 6200, Loss: 0.04231314733624458\n",
      "Step 6300, Loss: 0.042612768709659576\n",
      "Step 6400, Loss: 0.05804768204689026\n",
      "Step 6500, Loss: 0.03222562000155449\n",
      "Step 6600, Loss: 0.032038308680057526\n",
      "Step 6700, Loss: 0.03804578259587288\n",
      "Step 6800, Loss: 0.033569738268852234\n",
      "Step 6900, Loss: 0.04925890639424324\n",
      "Step 7000, Loss: 0.04404980689287186\n",
      "Step 7100, Loss: 0.044504545629024506\n",
      "Step 7200, Loss: 0.03633889555931091\n"
     ]
    }
   ],
   "source": [
    "for epoch in range(1):\n",
    "    model.train()\n",
    "    loop = tqdm(loader, leave= True)\n",
    "    step = 0\n",
    "    for batch in loop:\n",
    "        optim.zero_grad()\n",
    "        inputs_ids_a = batch['obj_sel_input_ids'].to(device)\n",
    "        inputs_ids_b = batch['tit_abs_input_ids'].to(device)\n",
    "        attention_a = batch['obj_sel_attention_mask'].to(device)\n",
    "        attention_b = batch['tit_abs_attention_mask'].to(device)\n",
    "        label = batch['label'].to(device)\n",
    "        u = model(inputs_ids_a, attention_mask = attention_a)[0]\n",
    "        v = model(inputs_ids_b, attention_mask = attention_b)[0]\n",
    "        u = mean_pool(u, attention_a)\n",
    "        v = mean_pool(v, attention_b)\n",
    "        uv = torch.sub(u, v)\n",
    "        uv_abs = torch.abs(uv)\n",
    "        x = torch.cat([u, v, uv_abs], dim = -1)\n",
    "        x = ffnn(x)\n",
    "        x = x.squeeze()\n",
    "        loss = loss_func(x, label)\n",
    "        optim.zero_grad()\n",
    "        loss.backward()\n",
    "        optim.step()\n",
    "        scheduler.step()\n",
    "\n",
    "        if step % 100 == 0:\n",
    "            print(f\"Step {step}, Loss: {loss.item()}\")\n",
    "\n",
    "        step = step + 1\n",
    "        loop.set_description(f'Epoch {epoch}')\n",
    "        loop.set_postfix(loss=loss.item())"
   ]
  },
  {
   "cell_type": "code",
   "execution_count": null,
   "id": "447912b3-cce5-449a-aaa8-eb3a8cec6349",
   "metadata": {},
   "outputs": [],
   "source": []
  },
  {
   "cell_type": "code",
   "execution_count": 21,
   "id": "5314d087-ee34-4464-af9e-bb506a47f581",
   "metadata": {},
   "outputs": [],
   "source": [
    "######################################################################################################"
   ]
  },
  {
   "cell_type": "code",
   "execution_count": null,
   "id": "e8b36fc3-2b25-430d-8ffd-f787efab23f3",
   "metadata": {},
   "outputs": [],
   "source": []
  }
 ],
 "metadata": {
  "kernelspec": {
   "display_name": "Python 3 (ipykernel)",
   "language": "python",
   "name": "python3"
  },
  "language_info": {
   "codemirror_mode": {
    "name": "ipython",
    "version": 3
   },
   "file_extension": ".py",
   "mimetype": "text/x-python",
   "name": "python",
   "nbconvert_exporter": "python",
   "pygments_lexer": "ipython3",
   "version": "3.12.3"
  }
 },
 "nbformat": 4,
 "nbformat_minor": 5
}
