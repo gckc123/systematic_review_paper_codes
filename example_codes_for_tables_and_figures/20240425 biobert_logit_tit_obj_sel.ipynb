{
 "cells": [
  {
   "cell_type": "code",
   "execution_count": 1,
   "id": "1172218e-ead0-42bb-b2ee-dddd8232ffb5",
   "metadata": {},
   "outputs": [],
   "source": [
    "import pandas as pd\n",
    "import matplotlib.pyplot as plt\n",
    "from datasets import Dataset, DatasetDict\n",
    "\n",
    "from transformers import AutoModelForSequenceClassification\n",
    "from transformers import AutoTokenizer\n",
    "\n",
    "import torch\n",
    "#from sentence_transformers import SentenceTransformer, InputExample, losses, models, evaluation\n",
    "from torch.utils.data import DataLoader\n",
    "#from sentence_transformers import LoggingHandler\n",
    "#from sentence_transformers.evaluation import EmbeddingSimilarityEvaluator\n",
    "import logging\n",
    "import numpy as np\n",
    "import re\n",
    "\n",
    "#from sklearn.metrics import roc_curve, auc\n",
    "\n",
    "from tqdm.auto import tqdm\n",
    "from tqdm.notebook import tqdm\n",
    "from transformers import AutoModel, AutoTokenizer\n",
    "from sklearn.metrics import roc_curve, auc\n",
    "\n",
    "\n",
    "device = torch.device(\"cuda\" if torch.cuda.is_available() else \"cpu\")\n",
    "\n",
    "data_folder = \"C:\\\\Users\\\\gckc1\\\\My Drive\\\\My programs\\\\Sierra\\\\full_auto_review_data\\\\20240115_for_model_training\"\n",
    "model_folder = \"C:\\\\Users\\\\gckc1\\\\My Drive\\\\My programs\\\\Sierra\\\\model_training\"\n",
    "review_data_folder = \"C:\\\\Users\\\\gckc1\\\\My Drive\\\\My programs\\\\Sierra\\\\review_list\"\n"
   ]
  },
  {
   "cell_type": "code",
   "execution_count": 2,
   "id": "646a480b-382c-4f13-8378-1122090b337e",
   "metadata": {},
   "outputs": [],
   "source": [
    "val_file_location = \"20240417_val_set.csv\"\n",
    "val_file = pd.read_csv(data_folder + \"\\\\\" + val_file_location)\n",
    "\n",
    "dev_file_location = \"20240417_dev_set_shuffled.csv\"\n",
    "dev_file = pd.read_csv(data_folder + \"\\\\\" + dev_file_location)\n",
    "\n",
    "val_heart_file_location = \"20240417_val_heart_set.csv\"\n",
    "val_heart_file = pd.read_csv(data_folder + \"\\\\\" + val_heart_file_location) \n",
    "\n",
    "val_HIV_file_location = \"20240417_val_HIV_set.csv\"\n",
    "val_HIV_file = pd.read_csv(data_folder + \"\\\\\" + val_HIV_file_location) "
   ]
  },
  {
   "cell_type": "code",
   "execution_count": 3,
   "id": "b94e68e5-5554-41a9-ab08-b37ceafa1fc2",
   "metadata": {},
   "outputs": [],
   "source": [
    "recode_dict = {0:0, 0.5:1, 1:2}\n",
    "dev_file[\"label\"] = dev_file[\"label\"].replace(recode_dict)\n"
   ]
  },
  {
   "cell_type": "code",
   "execution_count": 4,
   "id": "1a57e73b-0053-48d3-a1c6-fd68126fad7a",
   "metadata": {},
   "outputs": [
    {
     "data": {
      "text/plain": [
       "label\n",
       "0.0    224711\n",
       "1.0    161074\n",
       "2.0     81190\n",
       "Name: count, dtype: int64"
      ]
     },
     "execution_count": 4,
     "metadata": {},
     "output_type": "execute_result"
    }
   ],
   "source": [
    "dev_file['label'].value_counts()"
   ]
  },
  {
   "cell_type": "code",
   "execution_count": 5,
   "id": "64412af2-dbc0-49cf-8bb4-2a153fcaf877",
   "metadata": {},
   "outputs": [],
   "source": [
    "dev_file[\"obj_sel\"] = dev_file[\"obj_sel\"].str.replace(r'^\\[OA\\]', '', regex=True)\n",
    "dev_file[\"tit_abs\"] = dev_file[\"tit_abs\"].str.replace(r'^ \\[OA\\]', '', regex=True)\n",
    "\n",
    "val_file[\"obj_sel\"] = val_file[\"obj_sel\"].str.replace(r'^\\[OA\\]', '', regex=True)\n",
    "val_file[\"tit_abs\"] = val_file[\"tit_abs\"].str.replace(r'^ \\[OA\\]', '', regex=True)\n",
    "\n",
    "val_heart_file[\"obj_sel\"] = val_heart_file[\"obj_sel\"].str.replace(r'^\\[OA\\]', '', regex=True)\n",
    "val_heart_file[\"tit_abs\"] = val_heart_file[\"tit_abs\"].str.replace(r'^ \\[OA\\]', '', regex=True)\n",
    "\n",
    "val_HIV_file[\"obj_sel\"] = val_HIV_file[\"obj_sel\"].str.replace(r'^\\[OA\\]', '', regex=True)\n",
    "val_HIV_file[\"tit_abs\"] = val_HIV_file[\"tit_abs\"].str.replace(r'^ \\[OA\\]', '', regex=True)\n",
    "\n",
    "dev_file[\"obj_sel\"] = dev_file[\"obj_sel\"].str.replace(r'^\\[BG\\]', ' [BG] ', regex=True)\n",
    "val_file[\"obj_sel\"] = val_file[\"obj_sel\"].str.replace(r'^\\[BG\\]', ' [BG] ', regex=True)\n",
    "val_heart_file[\"obj_sel\"] = val_heart_file[\"obj_sel\"].str.replace(r'^\\[BG\\]', ' [BG] ', regex=True)\n",
    "val_HIV_file[\"obj_sel\"] = val_HIV_file[\"obj_sel\"].str.replace(r'^\\[BG\\]', ' [BG] ', regex=True)"
   ]
  },
  {
   "cell_type": "code",
   "execution_count": 7,
   "id": "65e781a3-7221-4a30-87eb-027d4585f5d8",
   "metadata": {},
   "outputs": [
    {
     "data": {
      "text/plain": [
       "' [BG] Abdominal decompression was developed as a means of pain relief during labour. It has also been used for complications of pregnancy, and in healthy pregnant women in an attempt to improve fetal wellbeing and intellectual development. [OBJ] The objective of this review was to assess the effects of antenatal abdominal decompression for maternal hypertension or impaired fetal growth, on perinatal outcome. [SEL] Randomised or quasi‐randomised trials comparing abdominal decompression with no decompression in women with pre‐eclampsia and/or fetuses thought to be compromised.'"
      ]
     },
     "execution_count": 7,
     "metadata": {},
     "output_type": "execute_result"
    }
   ],
   "source": [
    "val_file[\"obj_sel\"][0]"
   ]
  },
  {
   "cell_type": "code",
   "execution_count": 8,
   "id": "ae1bfa79-de28-4ce6-bc51-30a7e8e2ec74",
   "metadata": {},
   "outputs": [],
   "source": [
    "dev_file[\"obj_sel\"] = \"[RTI] \" + dev_file[\"Review_Title\"] + \" [OBJ] \" + dev_file[\"Objective\"].fillna(\"\") + \" [SEL] \" + dev_file[\"Selection_criteria\"].fillna(\"\")"
   ]
  },
  {
   "cell_type": "code",
   "execution_count": 9,
   "id": "223de468-5185-414c-8ed5-afb0bdf29e06",
   "metadata": {},
   "outputs": [
    {
     "data": {
      "text/plain": [
       "'[RTI] Single‐dose intravenous ketorolac for acute postoperative pain in adults [OBJ] To assess the analgesic efficacy and adverse effects of single‐dose intravenous ketorolac, compared with placebo or an active comparator, for moderate to severe postoperative pain in adults. [SEL] Randomized double‐blind trials that compared a single postoperative dose of intravenous ketorolac with placebo or another active treatment, for treating acute postoperative pain in adults following any surgery.'"
      ]
     },
     "execution_count": 9,
     "metadata": {},
     "output_type": "execute_result"
    }
   ],
   "source": [
    "dev_file[\"obj_sel\"][0]"
   ]
  },
  {
   "cell_type": "code",
   "execution_count": 10,
   "id": "57aea4a3-314e-415e-8571-5c3459804fb3",
   "metadata": {},
   "outputs": [],
   "source": [
    "dev_file_1 = dev_file[0:100000].copy()\n",
    "dev_file_2 = dev_file[100000:200000].copy()\n",
    "dev_file_3 = dev_file[200000:300000].copy()\n",
    "dev_file_4 = dev_file[300000:466975].copy()\n",
    "#val_file = val_file.sample(10000).copy()\n",
    "#val_file = val_file.sample(5000).copy()"
   ]
  },
  {
   "cell_type": "code",
   "execution_count": 11,
   "id": "6dddd3a2-d416-44ab-b3d0-0ca51068fe15",
   "metadata": {},
   "outputs": [],
   "source": [
    "dev_set_1 = Dataset.from_pandas(dev_file_1)\n",
    "dev_set_2 = Dataset.from_pandas(dev_file_2)\n",
    "dev_set_3 = Dataset.from_pandas(dev_file_3)\n",
    "dev_set_4 = Dataset.from_pandas(dev_file_4)"
   ]
  },
  {
   "cell_type": "code",
   "execution_count": 12,
   "id": "4435b782-99e3-4b76-8e80-f5da5823c529",
   "metadata": {},
   "outputs": [],
   "source": [
    "model_ckpt = \"dmis-lab/biobert-large-cased-v1.1\"\n",
    "tokenizer = AutoTokenizer.from_pretrained(model_ckpt)\n",
    "model = AutoModel.from_pretrained(model_ckpt)"
   ]
  },
  {
   "cell_type": "code",
   "execution_count": 13,
   "id": "42a92504-a0a7-4ae3-8d70-778f68fb3f29",
   "metadata": {},
   "outputs": [],
   "source": [
    "new_tokens = [\"[RIT]\", \"[OBJ]\", \"[BG]\", \"[SEL]\", \"[TIT]\", \"[ABS]\"]\n",
    "num_added_toks = tokenizer.add_tokens(new_tokens)"
   ]
  },
  {
   "cell_type": "code",
   "execution_count": 14,
   "id": "15d199fe-79a2-48d0-8551-f643eca21994",
   "metadata": {},
   "outputs": [
    {
     "name": "stdout",
     "output_type": "stream",
     "text": [
      "Token [RIT] is in the vocabulary.\n",
      "Token [OBJ] is in the vocabulary.\n",
      "Token [BG] is in the vocabulary.\n",
      "Token [SEL] is in the vocabulary.\n",
      "Token [TIT] is in the vocabulary.\n",
      "Token [ABS] is in the vocabulary.\n",
      "New embedding size: 58996\n"
     ]
    },
    {
     "data": {
      "text/plain": [
       "Embedding(59002, 1024)"
      ]
     },
     "execution_count": 14,
     "metadata": {},
     "output_type": "execute_result"
    }
   ],
   "source": [
    "# Check if the new tokens are in the tokenizer\n",
    "for token in new_tokens:\n",
    "    if token in tokenizer.get_vocab():\n",
    "        print(f\"Token {token} is in the vocabulary.\")\n",
    "    else:\n",
    "        print(f\"Token {token} is not in the vocabulary.\")\n",
    "\n",
    "# Check the size of the new embeddings\n",
    "print(f\"New embedding size: {model.get_input_embeddings().num_embeddings}\")\n",
    "\n",
    "model.resize_token_embeddings(len(tokenizer))"
   ]
  },
  {
   "cell_type": "code",
   "execution_count": 15,
   "id": "47999229-34c4-438c-9d1a-b6987d3f0743",
   "metadata": {},
   "outputs": [],
   "source": [
    "def token(df_input):\n",
    "    df = Dataset.from_pandas(df_input.copy())\n",
    "    for part in [\"obj_sel\", \"tit_abs\"]:\n",
    "        df = df.map(\n",
    "            lambda x:  tokenizer(\n",
    "                x[part], max_length = 512, padding = True, truncation = True\n",
    "            ), batched = True, batch_size = None\n",
    "        )\n",
    "        for col in ['input_ids', 'attention_mask']:\n",
    "            df = df.rename_column(\n",
    "                col, part+\"_\"+col\n",
    "            )\n",
    "    return(df)"
   ]
  },
  {
   "cell_type": "code",
   "execution_count": 16,
   "id": "14cd48b5-7b02-43cf-9b8a-e9befb8d364a",
   "metadata": {},
   "outputs": [
    {
     "data": {
      "application/vnd.jupyter.widget-view+json": {
       "model_id": "",
       "version_major": 2,
       "version_minor": 0
      },
      "text/plain": [
       "Map:   0%|          | 0/100000 [00:00<?, ? examples/s]"
      ]
     },
     "metadata": {},
     "output_type": "display_data"
    },
    {
     "data": {
      "application/vnd.jupyter.widget-view+json": {
       "model_id": "",
       "version_major": 2,
       "version_minor": 0
      },
      "text/plain": [
       "Map:   0%|          | 0/100000 [00:00<?, ? examples/s]"
      ]
     },
     "metadata": {},
     "output_type": "display_data"
    },
    {
     "data": {
      "application/vnd.jupyter.widget-view+json": {
       "model_id": "",
       "version_major": 2,
       "version_minor": 0
      },
      "text/plain": [
       "Map:   0%|          | 0/100000 [00:00<?, ? examples/s]"
      ]
     },
     "metadata": {},
     "output_type": "display_data"
    },
    {
     "data": {
      "application/vnd.jupyter.widget-view+json": {
       "model_id": "",
       "version_major": 2,
       "version_minor": 0
      },
      "text/plain": [
       "Map:   0%|          | 0/100000 [00:00<?, ? examples/s]"
      ]
     },
     "metadata": {},
     "output_type": "display_data"
    },
    {
     "data": {
      "application/vnd.jupyter.widget-view+json": {
       "model_id": "",
       "version_major": 2,
       "version_minor": 0
      },
      "text/plain": [
       "Map:   0%|          | 0/100000 [00:00<?, ? examples/s]"
      ]
     },
     "metadata": {},
     "output_type": "display_data"
    },
    {
     "data": {
      "application/vnd.jupyter.widget-view+json": {
       "model_id": "",
       "version_major": 2,
       "version_minor": 0
      },
      "text/plain": [
       "Map:   0%|          | 0/100000 [00:00<?, ? examples/s]"
      ]
     },
     "metadata": {},
     "output_type": "display_data"
    },
    {
     "data": {
      "application/vnd.jupyter.widget-view+json": {
       "model_id": "",
       "version_major": 2,
       "version_minor": 0
      },
      "text/plain": [
       "Map:   0%|          | 0/166975 [00:00<?, ? examples/s]"
      ]
     },
     "metadata": {},
     "output_type": "display_data"
    },
    {
     "data": {
      "application/vnd.jupyter.widget-view+json": {
       "model_id": "",
       "version_major": 2,
       "version_minor": 0
      },
      "text/plain": [
       "Map:   0%|          | 0/166975 [00:00<?, ? examples/s]"
      ]
     },
     "metadata": {},
     "output_type": "display_data"
    }
   ],
   "source": [
    "dev_set_1 = token(dev_file_1)\n",
    "dev_set_2 = token(dev_file_2)\n",
    "dev_set_3 = token(dev_file_3)\n",
    "dev_set_4 = token(dev_file_4)"
   ]
  },
  {
   "cell_type": "code",
   "execution_count": 17,
   "id": "a692d581-4267-4464-9c0c-7586f6e3a0e2",
   "metadata": {},
   "outputs": [],
   "source": [
    "all_cols = ['label', 'obj_sel_input_ids', 'obj_sel_attention_mask', 'tit_abs_input_ids', 'tit_abs_attention_mask']\n"
   ]
  },
  {
   "cell_type": "code",
   "execution_count": 18,
   "id": "b83f24d8-928b-46a9-8b9c-0b7814e47e6c",
   "metadata": {},
   "outputs": [],
   "source": [
    "tmp1 = dev_set_1.to_pandas()\n",
    "tmp2 = dev_set_2.to_pandas()\n",
    "tmp3 = dev_set_3.to_pandas()\n",
    "tmp4 = dev_set_4.to_pandas()\n",
    "\n",
    "tmp = pd.concat([tmp1, tmp2, tmp3, tmp4], ignore_index = True)\n",
    "\n",
    "dev_set = Dataset.from_pandas(tmp)"
   ]
  },
  {
   "cell_type": "code",
   "execution_count": 19,
   "id": "3fcb2a47-efd7-4514-a56a-0af7dbe0baa3",
   "metadata": {},
   "outputs": [],
   "source": [
    "dev_set.set_format(type = 'torch', columns = all_cols)"
   ]
  },
  {
   "cell_type": "code",
   "execution_count": null,
   "id": "bc079f13-a0c5-484a-b117-13425a578eb5",
   "metadata": {},
   "outputs": [],
   "source": []
  },
  {
   "cell_type": "code",
   "execution_count": null,
   "id": "b58233f1-2d74-4794-ad21-b85cf7865297",
   "metadata": {},
   "outputs": [],
   "source": []
  },
  {
   "cell_type": "code",
   "execution_count": null,
   "id": "2071059c-32f3-45f3-ad60-6b37d045a9e5",
   "metadata": {},
   "outputs": [],
   "source": []
  },
  {
   "cell_type": "code",
   "execution_count": 20,
   "id": "4c3856a1-7bad-4a4f-bbf3-c6e18412f894",
   "metadata": {},
   "outputs": [],
   "source": [
    "batch_size = 32\n",
    "loader = torch.utils.data.DataLoader(\n",
    "    dev_set, batch_size=batch_size, shuffle = True)"
   ]
  },
  {
   "cell_type": "code",
   "execution_count": null,
   "id": "e49bc64c-44a6-4111-8ff9-4a4fe7ddb9d4",
   "metadata": {},
   "outputs": [],
   "source": []
  },
  {
   "cell_type": "code",
   "execution_count": 21,
   "id": "f23b40ba-23f8-40b5-b585-19b34635119e",
   "metadata": {},
   "outputs": [],
   "source": [
    "def mean_pool(token_embeds, attention_mask):\n",
    "    in_mask = attention_mask.unsqueeze(-1).expand(token_embeds.size()).float()\n",
    "    pool = torch.sum(token_embeds * in_mask, 1) / torch.clamp(\n",
    "        in_mask.sum(1), min=1e-9\n",
    "    )\n",
    "    return pool\n",
    "    "
   ]
  },
  {
   "cell_type": "code",
   "execution_count": null,
   "id": "39c988de-ecde-4eac-b368-17327488bf20",
   "metadata": {},
   "outputs": [],
   "source": []
  },
  {
   "cell_type": "code",
   "execution_count": 22,
   "id": "e4a1a02e-fce3-45e6-8814-6c27842e922f",
   "metadata": {},
   "outputs": [],
   "source": [
    "ffnn = torch.nn.Linear(1024*3, 3)\n",
    "loss_func = torch.nn.CrossEntropyLoss()"
   ]
  },
  {
   "cell_type": "code",
   "execution_count": null,
   "id": "b331c99e-38af-4f88-a05b-b8ccb64017e5",
   "metadata": {},
   "outputs": [],
   "source": []
  },
  {
   "cell_type": "code",
   "execution_count": 23,
   "id": "2682213f-335e-407f-a436-3e829c512668",
   "metadata": {},
   "outputs": [],
   "source": [
    "from transformers.optimization import get_linear_schedule_with_warmup\n",
    "\n",
    "optim = torch.optim.Adam(model.parameters(), lr = 2e-5)\n",
    "total_steps = int(len(dev_set) / batch_size)\n",
    "warmup_steps = 500\n",
    "scheduler = get_linear_schedule_with_warmup(\n",
    "    optim, num_warmup_steps=warmup_steps,\n",
    "    num_training_steps=total_steps - warmup_steps\n",
    ")\n",
    "\n",
    "\n"
   ]
  },
  {
   "cell_type": "code",
   "execution_count": 24,
   "id": "7301f268-2767-4fe8-8540-db6105811581",
   "metadata": {},
   "outputs": [],
   "source": [
    "import torch.nn as nn\n",
    "\n",
    "model = nn.DataParallel(model)\n",
    "ffnn = nn.DataParallel(ffnn)"
   ]
  },
  {
   "cell_type": "code",
   "execution_count": null,
   "id": "8fc74370-5694-461a-9831-953ffb958083",
   "metadata": {},
   "outputs": [],
   "source": []
  },
  {
   "cell_type": "code",
   "execution_count": 25,
   "id": "005ec8d4-8225-4cd4-9149-f5a0b438ffd2",
   "metadata": {},
   "outputs": [],
   "source": [
    "model = model.to(device)\n",
    "ffnn = ffnn.to(device)"
   ]
  },
  {
   "cell_type": "code",
   "execution_count": 26,
   "id": "e1251656-62f3-475e-a86b-b26bf741240f",
   "metadata": {},
   "outputs": [
    {
     "data": {
      "application/vnd.jupyter.widget-view+json": {
       "model_id": "b01710109ce24919a13ec7f7a0fa0c4c",
       "version_major": 2,
       "version_minor": 0
      },
      "text/plain": [
       "  0%|          | 0/14593 [00:00<?, ?it/s]"
      ]
     },
     "metadata": {},
     "output_type": "display_data"
    },
    {
     "name": "stderr",
     "output_type": "stream",
     "text": [
      "C:\\Users\\gckc1\\anaconda3\\envs\\Sierra\\Lib\\site-packages\\torch\\cuda\\nccl.py:15: UserWarning: PyTorch is not compiled with NCCL support\n",
      "  warnings.warn(\"PyTorch is not compiled with NCCL support\")\n"
     ]
    }
   ],
   "source": [
    "for epoch in range(1):\n",
    "    model.train()\n",
    "    loop = tqdm(loader, leave= True)\n",
    "    for batch in loop:\n",
    "        optim.zero_grad()\n",
    "        inputs_ids_a = batch['obj_sel_input_ids'].to(device)\n",
    "        inputs_ids_b = batch['tit_abs_input_ids'].to(device)\n",
    "        attention_a = batch['obj_sel_attention_mask'].to(device)\n",
    "        attention_b = batch['tit_abs_attention_mask'].to(device)\n",
    "        label = batch['label'].to(device).long()\n",
    "        u = model(inputs_ids_a, attention_mask = attention_a)[0]\n",
    "        v = model(inputs_ids_b, attention_mask = attention_b)[0]\n",
    "        u = mean_pool(u, attention_a)\n",
    "        v = mean_pool(v, attention_b)\n",
    "        uv = torch.sub(u, v)\n",
    "        uv_abs = torch.abs(uv)\n",
    "        x = torch.cat([u, v, uv_abs], dim = -1)\n",
    "        x = ffnn(x)\n",
    "        loss = loss_func(x, label)\n",
    "        loss.backward()\n",
    "        optim.step()\n",
    "        scheduler.step()\n",
    "        loop.set_description(f'Epoch {epoch}')\n",
    "        loop.set_postfix(loss=loss.item())"
   ]
  },
  {
   "cell_type": "code",
   "execution_count": null,
   "id": "7af77331-8438-4181-8c85-3b95a57f6d0a",
   "metadata": {},
   "outputs": [],
   "source": []
  },
  {
   "cell_type": "code",
   "execution_count": 27,
   "id": "fa08cf41-761b-475c-9142-2d57270127bc",
   "metadata": {},
   "outputs": [],
   "source": [
    "torch.save(model, model_folder + \"\\\\20240425_biobert_tit_obj_sel_logit\\\\\" + '20240425_biobert_tit_obj_sel_logit.pth')\n",
    "torch.save(ffnn, model_folder + \"\\\\20240425_biobert_tit_obj_sel_logit\\\\\" + '20240425_ffnn_tit_obj_sel_logit.pth')"
   ]
  },
  {
   "cell_type": "code",
   "execution_count": null,
   "id": "1db555c2-1027-4a66-a769-64a3fb7f4495",
   "metadata": {},
   "outputs": [],
   "source": []
  },
  {
   "cell_type": "code",
   "execution_count": null,
   "id": "bc918e24-e925-427f-8166-6ebe955abe83",
   "metadata": {},
   "outputs": [],
   "source": [
    "####################################################################"
   ]
  },
  {
   "cell_type": "code",
   "execution_count": 2,
   "id": "d8bc4c4c-3f8e-472b-ada6-cca63153bf9d",
   "metadata": {},
   "outputs": [],
   "source": [
    "model_ckpt = \"dmis-lab/biobert-large-cased-v1.1\"\n",
    "tokenizer = AutoTokenizer.from_pretrained(model_ckpt)\n"
   ]
  },
  {
   "cell_type": "code",
   "execution_count": 3,
   "id": "65bf0226-0f45-4933-a6c2-eb29043f9e3d",
   "metadata": {},
   "outputs": [],
   "source": [
    "new_tokens = [\"[RIT]\", \"[OBJ]\", \"[BG]\", \"[SEL]\", \"[TIT]\", \"[ABS]\"]\n",
    "num_added_toks = tokenizer.add_tokens(new_tokens)"
   ]
  },
  {
   "cell_type": "code",
   "execution_count": 4,
   "id": "b74c8a5b-7a66-4272-91c6-14c532c97587",
   "metadata": {},
   "outputs": [],
   "source": [
    "model = torch.load(model_folder + \"\\\\20240425_biobert_tit_obj_sel_logit\\\\\" + '20240425_biobert_tit_obj_sel_logit.pth')\n",
    "ffnn = torch.load(model_folder + \"\\\\20240425_biobert_tit_obj_sel_logit\\\\\" + '20240425_ffnn_tit_obj_sel_logit.pth')"
   ]
  },
  {
   "cell_type": "code",
   "execution_count": 5,
   "id": "37b7cd89-b766-49dc-84b9-06e6a909fb78",
   "metadata": {},
   "outputs": [],
   "source": [
    "import torch.nn as nn\n",
    "\n",
    "loss_func = torch.nn.CrossEntropyLoss()\n",
    "\n",
    "model = model.to(device)\n",
    "ffnn = ffnn.to(device)"
   ]
  },
  {
   "cell_type": "code",
   "execution_count": 6,
   "id": "61640663-e65a-46a0-b333-31ab2e0e933c",
   "metadata": {},
   "outputs": [],
   "source": [
    "def mean_pool(token_embeds, attention_mask):\n",
    "    in_mask = attention_mask.unsqueeze(-1).expand(token_embeds.size()).float()\n",
    "    pool = torch.sum(token_embeds * in_mask, 1) / torch.clamp(\n",
    "        in_mask.sum(1), min=1e-9\n",
    "    )\n",
    "    return pool"
   ]
  },
  {
   "cell_type": "code",
   "execution_count": null,
   "id": "1eb434f7-5439-4040-b40d-6148f66f4358",
   "metadata": {},
   "outputs": [],
   "source": []
  },
  {
   "cell_type": "code",
   "execution_count": 7,
   "id": "082ea3fa-186e-40e8-9322-8e61e8754236",
   "metadata": {},
   "outputs": [],
   "source": [
    "val_1_file_location = \"20240419_val_1_rti_bg_obj_sel_output.csv\"\n",
    "val_1_file = pd.read_csv(data_folder + \"\\\\\" + val_1_file_location)\n",
    "\n",
    "val_2_file_location = \"20240419_val_2_rti_bg_obj_sel_output.csv\"\n",
    "val_2_file = pd.read_csv(data_folder + \"\\\\\" + val_2_file_location)\n",
    "\n",
    "val_heart_file_location = \"20240419_val_heart_rti_bg_obj_sel_output.csv\"\n",
    "val_heart_file = pd.read_csv(data_folder + \"\\\\\" + val_heart_file_location) \n",
    "\n",
    "val_HIV_file_location = \"20240419_val_HIV_rti_bg_obj_sel_output.csv\"\n",
    "val_HIV_file = pd.read_csv(data_folder + \"\\\\\" + val_HIV_file_location) "
   ]
  },
  {
   "cell_type": "code",
   "execution_count": 8,
   "id": "46efe3f0-ac88-459a-9804-55d6ed0a1731",
   "metadata": {},
   "outputs": [],
   "source": [
    "val_HIV_file = val_HIV_file.drop(['obj_sel_input_ids', 'token_type_ids', \"obj_sel_attention_mask\", \"tit_abs_input_ids\",\"tit_abs_attention_mask\"], axis=1).copy()\n",
    "val_heart_file = val_heart_file.drop(['obj_sel_input_ids', 'token_type_ids', \"obj_sel_attention_mask\", \"tit_abs_input_ids\",\"tit_abs_attention_mask\"], axis=1).copy()\n",
    "val_1_file = val_1_file.drop(['obj_sel_input_ids', 'token_type_ids', \"obj_sel_attention_mask\", \"tit_abs_input_ids\",\"tit_abs_attention_mask\"], axis=1).copy()\n",
    "val_2_file = val_2_file.drop(['obj_sel_input_ids', 'token_type_ids', \"obj_sel_attention_mask\", \"tit_abs_input_ids\",\"tit_abs_attention_mask\"], axis=1).copy()"
   ]
  },
  {
   "cell_type": "code",
   "execution_count": 9,
   "id": "1331aac7-29d3-4987-bd36-3bfc9a8c0123",
   "metadata": {},
   "outputs": [],
   "source": [
    "val_1_file[\"obj_sel\"] = \"[RTI] \" + val_1_file[\"Review_Title\"] + \" [OBJ] \" + val_1_file[\"Objective\"].fillna(\"\") + \" [SEL] \" + val_1_file[\"Selection_criteria\"].fillna(\"\")\n",
    "val_2_file[\"obj_sel\"] = \"[RTI] \" + val_2_file[\"Review_Title\"] + \" [OBJ] \" + val_2_file[\"Objective\"].fillna(\"\") + \" [SEL] \" + val_2_file[\"Selection_criteria\"].fillna(\"\")\n",
    "val_heart_file[\"obj_sel\"] = \"[RTI] \" + val_heart_file[\"Review_Title\"] + \" [OBJ] \" + val_heart_file[\"Objective\"].fillna(\"\") + \" [SEL] \" + val_heart_file[\"Selection_criteria\"].fillna(\"\")\n",
    "val_HIV_file[\"obj_sel\"] = \"[RTI] \" + val_HIV_file[\"Review_Title\"] + \" [OBJ] \" + val_HIV_file[\"Objective\"].fillna(\"\") + \" [SEL] \" + val_HIV_file[\"Selection_criteria\"].fillna(\"\")"
   ]
  },
  {
   "cell_type": "code",
   "execution_count": 10,
   "id": "6f2d68e8-4b5c-4216-812f-c32c23b6072e",
   "metadata": {},
   "outputs": [],
   "source": [
    "val_1_set = Dataset.from_pandas(val_1_file)\n",
    "val_2_set = Dataset.from_pandas(val_2_file)\n",
    "val_heart_set = Dataset.from_pandas(val_heart_file)\n",
    "val_HIV_set = Dataset.from_pandas(val_HIV_file)"
   ]
  },
  {
   "cell_type": "code",
   "execution_count": 11,
   "id": "5cc023c9-87b9-44e2-9d67-fa68dc3d1c9a",
   "metadata": {},
   "outputs": [],
   "source": [
    "def token(df_input):\n",
    "    df = Dataset.from_pandas(df_input.copy())\n",
    "    for part in [\"obj_sel\", \"tit_abs\"]:\n",
    "        df = df.map(\n",
    "            lambda x:  tokenizer(\n",
    "                x[part], max_length = 512, padding = True, truncation = True\n",
    "            ), batched = True, batch_size = None\n",
    "        )\n",
    "        for col in ['input_ids', 'attention_mask']:\n",
    "            df = df.rename_column(\n",
    "                col, part+\"_\"+col\n",
    "            )\n",
    "    return(df)"
   ]
  },
  {
   "cell_type": "code",
   "execution_count": 12,
   "id": "31d0f9fd-6c9b-4b7c-833c-13a112c8c3eb",
   "metadata": {},
   "outputs": [
    {
     "data": {
      "application/vnd.jupyter.widget-view+json": {
       "model_id": "",
       "version_major": 2,
       "version_minor": 0
      },
      "text/plain": [
       "Map:   0%|          | 0/4400 [00:00<?, ? examples/s]"
      ]
     },
     "metadata": {},
     "output_type": "display_data"
    },
    {
     "data": {
      "application/vnd.jupyter.widget-view+json": {
       "model_id": "",
       "version_major": 2,
       "version_minor": 0
      },
      "text/plain": [
       "Map:   0%|          | 0/4400 [00:00<?, ? examples/s]"
      ]
     },
     "metadata": {},
     "output_type": "display_data"
    },
    {
     "data": {
      "application/vnd.jupyter.widget-view+json": {
       "model_id": "",
       "version_major": 2,
       "version_minor": 0
      },
      "text/plain": [
       "Map:   0%|          | 0/26892 [00:00<?, ? examples/s]"
      ]
     },
     "metadata": {},
     "output_type": "display_data"
    },
    {
     "data": {
      "application/vnd.jupyter.widget-view+json": {
       "model_id": "",
       "version_major": 2,
       "version_minor": 0
      },
      "text/plain": [
       "Map:   0%|          | 0/26892 [00:00<?, ? examples/s]"
      ]
     },
     "metadata": {},
     "output_type": "display_data"
    },
    {
     "data": {
      "application/vnd.jupyter.widget-view+json": {
       "model_id": "",
       "version_major": 2,
       "version_minor": 0
      },
      "text/plain": [
       "Map:   0%|          | 0/27051 [00:00<?, ? examples/s]"
      ]
     },
     "metadata": {},
     "output_type": "display_data"
    },
    {
     "data": {
      "application/vnd.jupyter.widget-view+json": {
       "model_id": "",
       "version_major": 2,
       "version_minor": 0
      },
      "text/plain": [
       "Map:   0%|          | 0/27051 [00:00<?, ? examples/s]"
      ]
     },
     "metadata": {},
     "output_type": "display_data"
    },
    {
     "data": {
      "application/vnd.jupyter.widget-view+json": {
       "model_id": "",
       "version_major": 2,
       "version_minor": 0
      },
      "text/plain": [
       "Map:   0%|          | 0/19069 [00:00<?, ? examples/s]"
      ]
     },
     "metadata": {},
     "output_type": "display_data"
    },
    {
     "data": {
      "application/vnd.jupyter.widget-view+json": {
       "model_id": "",
       "version_major": 2,
       "version_minor": 0
      },
      "text/plain": [
       "Map:   0%|          | 0/19069 [00:00<?, ? examples/s]"
      ]
     },
     "metadata": {},
     "output_type": "display_data"
    }
   ],
   "source": [
    "val_HIV_set = token(val_HIV_file)\n",
    "val_1_set = token(val_1_file)\n",
    "val_2_set = token(val_2_file)\n",
    "val_heart_set = token(val_heart_file)"
   ]
  },
  {
   "cell_type": "code",
   "execution_count": 13,
   "id": "2a4081f8-70f4-4191-a3d6-4ac05101056d",
   "metadata": {},
   "outputs": [],
   "source": [
    "all_cols = ['label', 'obj_sel_input_ids', 'obj_sel_attention_mask', 'tit_abs_input_ids', 'tit_abs_attention_mask']"
   ]
  },
  {
   "cell_type": "code",
   "execution_count": 14,
   "id": "e47169ea-fdbf-46a9-acce-87599de9cd7e",
   "metadata": {},
   "outputs": [],
   "source": [
    "val_1_set.set_format(type = 'torch', columns = all_cols)\n",
    "val_2_set.set_format(type = 'torch', columns = all_cols)\n",
    "val_heart_set.set_format(type = 'torch', columns = all_cols)\n",
    "val_HIV_set.set_format(type = 'torch', columns = all_cols)"
   ]
  },
  {
   "cell_type": "code",
   "execution_count": null,
   "id": "0222f32b-ef7b-4cd9-9ae5-4031916fdd45",
   "metadata": {},
   "outputs": [],
   "source": []
  },
  {
   "cell_type": "code",
   "execution_count": 16,
   "id": "a4eb7cb0-6e5c-4f59-ae69-848767006834",
   "metadata": {},
   "outputs": [],
   "source": [
    "from torch.utils.data import DataLoader\n",
    "val_1_loader = DataLoader(val_1_set, batch_size = 64, shuffle = False)\n",
    "val_2_loader = DataLoader(val_2_set, batch_size = 64, shuffle = False)\n",
    "val_heart_loader = DataLoader(val_heart_set, batch_size = 64, shuffle = False)\n",
    "val_HIV_loader = DataLoader(val_HIV_set, batch_size = 64, shuffle = False)"
   ]
  },
  {
   "cell_type": "code",
   "execution_count": 17,
   "id": "d4ca80fc-da11-4bd7-940b-2f9956d38b89",
   "metadata": {},
   "outputs": [],
   "source": [
    "def evaluate_model(model, ffnn, data_loader, device):\n",
    "    model.eval()\n",
    "    ffnn.eval()\n",
    "    all_outputs = []\n",
    "    predictions = []\n",
    "    all_labels = []\n",
    "    with torch.no_grad():\n",
    "        for batch in tqdm(data_loader, desc=\"Evaluating\", leave = True):\n",
    "            inputs_ids_a = batch['obj_sel_input_ids'].to(device)\n",
    "            inputs_ids_b = batch['tit_abs_input_ids'].to(device)\n",
    "            attention_a = batch['obj_sel_attention_mask'].to(device)\n",
    "            attention_b = batch['tit_abs_attention_mask'].to(device)\n",
    "            labels = batch['label'].to(device).long()\n",
    "\n",
    "            u = model(inputs_ids_a, attention_mask = attention_a)[0]\n",
    "            v = model(inputs_ids_b, attention_mask = attention_b)[0]\n",
    "            u = mean_pool(u, attention_a)\n",
    "            v = mean_pool(v, attention_b)\n",
    "            uv = torch.sub(u, v)\n",
    "            uv_abs = torch.abs(uv)\n",
    "            outputs = torch.cat([u, v, uv_abs], dim= -1)\n",
    "            outputs = ffnn(outputs)\n",
    "\n",
    "            _, predicted = torch.max(outputs, 1)\n",
    "\n",
    "            predictions.extend(predicted.cpu().numpy())\n",
    "            all_labels.extend(labels.cpu().numpy())\n",
    "            all_outputs.append(outputs.cpu().numpy())\n",
    "    all_outputs = np.vstack(all_outputs)\n",
    "    return predictions, all_labels, all_outputs"
   ]
  },
  {
   "cell_type": "code",
   "execution_count": 18,
   "id": "795938cf-77e1-4745-b7d5-f778c3b27a9f",
   "metadata": {},
   "outputs": [
    {
     "data": {
      "application/vnd.jupyter.widget-view+json": {
       "model_id": "aab3f788ef7a42dcb142190b23339978",
       "version_major": 2,
       "version_minor": 0
      },
      "text/plain": [
       "Evaluating:   0%|          | 0/421 [00:00<?, ?it/s]"
      ]
     },
     "metadata": {},
     "output_type": "display_data"
    },
    {
     "data": {
      "application/vnd.jupyter.widget-view+json": {
       "model_id": "49e744a4b62d4279a214b526d817b939",
       "version_major": 2,
       "version_minor": 0
      },
      "text/plain": [
       "Evaluating:   0%|          | 0/423 [00:00<?, ?it/s]"
      ]
     },
     "metadata": {},
     "output_type": "display_data"
    },
    {
     "data": {
      "application/vnd.jupyter.widget-view+json": {
       "model_id": "77565710698b422aafd125f16d008d36",
       "version_major": 2,
       "version_minor": 0
      },
      "text/plain": [
       "Evaluating:   0%|          | 0/298 [00:00<?, ?it/s]"
      ]
     },
     "metadata": {},
     "output_type": "display_data"
    },
    {
     "data": {
      "application/vnd.jupyter.widget-view+json": {
       "model_id": "854626652b214011b04b4419ee731921",
       "version_major": 2,
       "version_minor": 0
      },
      "text/plain": [
       "Evaluating:   0%|          | 0/69 [00:00<?, ?it/s]"
      ]
     },
     "metadata": {},
     "output_type": "display_data"
    }
   ],
   "source": [
    "val_1_predictions, val_1_labels, val_1_outputs = evaluate_model(model, ffnn, val_1_loader, device)\n",
    "val_2_predictions, val_2_labels, val_2_outputs = evaluate_model(model, ffnn, val_2_loader, device)\n",
    "val_heart_predictions, val_heart_labels, val_heart_outputs = evaluate_model(model, ffnn, val_heart_loader, device)\n",
    "val_HIV_predictions, val_HIV_labels, val_HIV_outputs = evaluate_model(model, ffnn, val_HIV_loader, device)\n"
   ]
  },
  {
   "cell_type": "code",
   "execution_count": 19,
   "id": "d6893dd6-f671-4fa3-b152-b8ab97fb05fe",
   "metadata": {},
   "outputs": [],
   "source": [
    "def evaluate_prediction(df, predictions):\n",
    "    df_tmp = df.copy()\n",
    "    ct = pd.crosstab(df_tmp[\"Actual Labels\"], df_tmp[predictions])\n",
    "    print(ct)\n",
    "    row_percentage = ct.div(ct.sum(axis = 1), axis = 0)\n",
    "    print(row_percentage)"
   ]
  },
  {
   "cell_type": "code",
   "execution_count": null,
   "id": "b580edc4-f873-411a-8227-7e9bbd69ebfc",
   "metadata": {},
   "outputs": [],
   "source": []
  },
  {
   "cell_type": "code",
   "execution_count": null,
   "id": "4ee360f5-a5f2-43f7-b090-b7cddcd611eb",
   "metadata": {},
   "outputs": [],
   "source": []
  },
  {
   "cell_type": "code",
   "execution_count": 39,
   "id": "5db348ed-f68e-41fe-8674-c1fd30fc5210",
   "metadata": {},
   "outputs": [],
   "source": [
    "################# Evaluation 20240425 #########################"
   ]
  },
  {
   "cell_type": "code",
   "execution_count": 20,
   "id": "2c0f8f57-0c02-4184-b663-f75485ae334e",
   "metadata": {},
   "outputs": [],
   "source": [
    "val_1_pd = val_1_set.to_pandas()\n",
    "val_2_pd = val_2_set.to_pandas()\n",
    "val_heart_set_pd = val_heart_set.to_pandas()\n",
    "val_HIV_set_pd = val_HIV_set.to_pandas()"
   ]
  },
  {
   "cell_type": "code",
   "execution_count": 21,
   "id": "8ecf70fb-6cc7-41fd-9f23-c457ed9ffb99",
   "metadata": {},
   "outputs": [],
   "source": [
    "val_1_pd = val_1_pd.drop(\"Outputs\", axis = 1)\n",
    "val_2_pd = val_2_pd.drop(\"Outputs\", axis = 1)\n",
    "val_heart_set_pd = val_heart_set_pd.drop(\"Outputs\", axis = 1)\n",
    "val_HIV_set_pd = val_HIV_set_pd.drop(\"Outputs\", axis = 1)"
   ]
  },
  {
   "cell_type": "code",
   "execution_count": 22,
   "id": "b21093bc-2edd-4938-b2bd-11edd8a88f29",
   "metadata": {},
   "outputs": [],
   "source": [
    "def combine_outputs(df, labels, predictions):\n",
    "    predictions_df = pd.DataFrame({\n",
    "        'Predictions': predictions,\n",
    "    })  \n",
    "    combined = pd.concat([df, predictions_df], axis = 1)\n",
    "    return combined.copy()"
   ]
  },
  {
   "cell_type": "code",
   "execution_count": 23,
   "id": "711a4765-0706-4869-8069-4350b072f15f",
   "metadata": {},
   "outputs": [],
   "source": [
    "val_1_pd = combine_outputs(val_1_pd, val_1_labels, val_1_predictions)\n",
    "val_2_pd = combine_outputs(val_2_pd, val_2_labels, val_2_predictions)\n",
    "val_heart_set_pd = combine_outputs(val_heart_set_pd, val_heart_labels, val_heart_predictions)\n",
    "val_HIV_set_pd = combine_outputs(val_HIV_set_pd, val_HIV_labels, val_HIV_predictions)"
   ]
  },
  {
   "cell_type": "code",
   "execution_count": null,
   "id": "22d98fc9-fd16-42d4-b9f3-f79dd4476a33",
   "metadata": {},
   "outputs": [],
   "source": []
  },
  {
   "cell_type": "code",
   "execution_count": 26,
   "id": "d9a5af72-25da-4cd2-b6a3-119b34ba0ad1",
   "metadata": {},
   "outputs": [],
   "source": [
    "#Only need to run it once#\n",
    "\n",
    "val_1_pd['DOI'] = val_1_pd['Review_URL'].str.extract(r'(10\\.\\d{4,9}/[-._;()/:A-Z0-9]+)', flags=re.IGNORECASE)\n",
    "val_1_pd['DOI'] = val_1_pd['DOI'].str.replace(r'/full$', '', regex=True)\n",
    "\n",
    "val_2_pd['DOI'] = val_2_pd['Review_URL'].str.extract(r'(10\\.\\d{4,9}/[-._;()/:A-Z0-9]+)', flags=re.IGNORECASE)\n",
    "val_2_pd['DOI'] = val_2_pd['DOI'].str.replace(r'/full$', '', regex=True)\n",
    "\n",
    "#Only need to run it once#\n",
    "\n",
    "val_heart_set_pd['DOI'] = val_heart_set_pd['Review_URL'].str.extract(r'(10\\.\\d{4,9}/[-._;()/:A-Z0-9]+)', flags=re.IGNORECASE)\n",
    "val_heart_set_pd['DOI'] = val_heart_set_pd['DOI'].str.replace(r'/full$', '', regex=True)\n",
    "\n",
    "val_HIV_set_pd['DOI'] = val_HIV_set_pd['Review_URL'].str.extract(r'(10\\.\\d{4,9}/[-._;()/:A-Z0-9]+)', flags=re.IGNORECASE)\n",
    "val_HIV_set_pd['DOI'] = val_HIV_set_pd['DOI'].str.replace(r'/full$', '', regex=True)"
   ]
  },
  {
   "cell_type": "code",
   "execution_count": 27,
   "id": "b3a8bdaa-b852-4294-a6ca-da8925d2aed1",
   "metadata": {},
   "outputs": [],
   "source": [
    "review_record = pd.read_csv(review_data_folder + \"\\\\\" + \"20231218_cochrane_review_expertise.csv\")"
   ]
  },
  {
   "cell_type": "code",
   "execution_count": 28,
   "id": "82e894a3-06d6-4cb2-94e2-d07397f6ead9",
   "metadata": {},
   "outputs": [],
   "source": [
    "val_1_pd[\"expertise\"] = val_1_pd['DOI'].isin(review_record['DOI'])\n",
    "val_2_pd[\"expertise\"] = val_2_pd['DOI'].isin(review_record['DOI'])\n",
    "val_heart_set_pd[\"expertise\"] = val_heart_set_pd['DOI'].isin(review_record['DOI'])\n",
    "val_HIV_set_pd[\"expertise\"] = val_HIV_set_pd['DOI'].isin(review_record['DOI'])"
   ]
  },
  {
   "cell_type": "code",
   "execution_count": 29,
   "id": "e5cc2df2-7dd6-4947-a52a-fb0a5752b338",
   "metadata": {},
   "outputs": [],
   "source": [
    "val_1_pd.to_csv(data_folder + \"\\\\\" + \"20240419_val_1_rti_obj_sel_logit.csv\")\n",
    "val_2_pd.to_csv(data_folder + \"\\\\\" + \"20240419_val_2_rti_obj_sel_logit.csv\")\n",
    "val_heart_set_pd.to_csv(data_folder + \"\\\\\" + \"20240419_val_heart_rti_obj_sel_logit.csv\")\n",
    "val_HIV_set_pd.to_csv(data_folder + \"\\\\\" + \"20240419_val_HIV_rti_obj_sel_logit.csv\")"
   ]
  },
  {
   "cell_type": "code",
   "execution_count": null,
   "id": "9b6c6c5f-3990-49d4-8b20-b39d1c3b1414",
   "metadata": {},
   "outputs": [],
   "source": []
  },
  {
   "cell_type": "code",
   "execution_count": null,
   "id": "72d5721d-a1a9-4950-aac2-1384278e254a",
   "metadata": {},
   "outputs": [],
   "source": [
    "val_1_pd = pd.read_csv(data_folder + \"\\\\\" + \"20240419_val_1_rti_obj_sel_output.csv\")\n",
    "val_2_pd = pd.read_csv(data_folder + \"\\\\\" + \"20240419_val_2_rti_obj_sel_output.csv\")\n",
    "val_heart_set_pd = pd.read_csv(data_folder + \"\\\\\" + \"20240419_val_heart_rti_obj_sel_output.csv\")\n",
    "val_HIV_set_pd = pd.read_csv(data_folder + \"\\\\\" + \"20240419_val_HIV_rti_obj_sel_output.csv\")"
   ]
  },
  {
   "cell_type": "code",
   "execution_count": 24,
   "id": "e06b9020-5a30-4560-bf5f-dca0423ce189",
   "metadata": {},
   "outputs": [],
   "source": [
    "def evaluate_prediction(df, predictions):\n",
    "    df_tmp = df.copy()\n",
    "    ct = pd.crosstab(df_tmp[\"Actual Labels\"], df_tmp[predictions])\n",
    "    print(ct)\n",
    "    row_percentage = ct.div(ct.sum(axis = 1), axis = 0)\n",
    "    print(row_percentage)"
   ]
  },
  {
   "cell_type": "code",
   "execution_count": 25,
   "id": "fd1adfc8-6e24-4cad-9c17-9df5cc831b2a",
   "metadata": {
    "scrolled": true
   },
   "outputs": [
    {
     "name": "stdout",
     "output_type": "stream",
     "text": [
      "*************************************************\n",
      "Val 1\n",
      "*************************************************\n",
      "Predictions        0     1     2\n",
      "Actual Labels                   \n",
      "0.0            11417   747   261\n",
      "0.5             1460  6809  1653\n",
      "1.0              130  1983  2432\n",
      "Predictions           0         1         2\n",
      "Actual Labels                              \n",
      "0.0            0.918873  0.060121  0.021006\n",
      "0.5            0.147148  0.686253  0.166599\n",
      "1.0            0.028603  0.436304  0.535094\n",
      "*************************************************\n",
      "Val 2\n",
      "*************************************************\n",
      "Predictions        0     1     2\n",
      "Actual Labels                   \n",
      "0.0            11670  1055   295\n",
      "0.5             1270  6428  1750\n",
      "1.0               92  1713  2778\n",
      "Predictions           0         1         2\n",
      "Actual Labels                              \n",
      "0.0            0.896313  0.081029  0.022657\n",
      "0.5            0.134420  0.680356  0.185224\n",
      "1.0            0.020074  0.373773  0.606153\n",
      "*************************************************\n",
      "Heart\n",
      "*************************************************\n",
      "Predictions       0     1    2\n",
      "Actual Labels                 \n",
      "0.0            6194   769  100\n",
      "0.5            1386  7493  621\n",
      "1.0              75  1481  950\n",
      "Predictions           0         1         2\n",
      "Actual Labels                              \n",
      "0.0            0.876964  0.108877  0.014158\n",
      "0.5            0.145895  0.788737  0.065368\n",
      "1.0            0.029928  0.590982  0.379090\n",
      "*************************************************\n",
      "HIV\n",
      "*************************************************\n",
      "Predictions       0    1    2\n",
      "Actual Labels                \n",
      "0.0            1933  297  100\n",
      "0.5             458  831  202\n",
      "1.0              41  288  250\n",
      "Predictions           0         1         2\n",
      "Actual Labels                              \n",
      "0.0            0.829614  0.127468  0.042918\n",
      "0.5            0.307176  0.557344  0.135480\n",
      "1.0            0.070812  0.497409  0.431779\n"
     ]
    }
   ],
   "source": [
    "print(\"*************************************************\")\n",
    "print(\"Val 1\")\n",
    "print(\"*************************************************\")\n",
    "evaluate_prediction(val_1_pd, \"Predictions\")\n",
    "print(\"*************************************************\")\n",
    "print(\"Val 2\")\n",
    "print(\"*************************************************\")\n",
    "evaluate_prediction(val_2_pd, \"Predictions\")\n",
    "print(\"*************************************************\")\n",
    "print(\"Heart\")\n",
    "print(\"*************************************************\")\n",
    "evaluate_prediction(val_heart_set_pd, \"Predictions\")\n",
    "print(\"*************************************************\")\n",
    "print(\"HIV\")\n",
    "print(\"*************************************************\")\n",
    "evaluate_prediction(val_HIV_set_pd, \"Predictions\")"
   ]
  },
  {
   "cell_type": "code",
   "execution_count": null,
   "id": "5ec366ab-ea99-4d62-aa8d-0a007bca395e",
   "metadata": {},
   "outputs": [],
   "source": []
  },
  {
   "cell_type": "code",
   "execution_count": null,
   "id": "d63c1b20-54ef-41b8-82ef-ef7bf3c12608",
   "metadata": {},
   "outputs": [],
   "source": []
  },
  {
   "cell_type": "code",
   "execution_count": null,
   "id": "778c2689-0615-40f0-9677-606ed247d93a",
   "metadata": {},
   "outputs": [],
   "source": []
  },
  {
   "cell_type": "code",
   "execution_count": 54,
   "id": "1b001677-8a71-4603-a53a-3db40e5f0d58",
   "metadata": {},
   "outputs": [],
   "source": [
    "def evaluate_cutoff(df, column, cutoff):\n",
    "    df_tmp = df.copy()\n",
    "    df_tmp[\"cutoff\"] = (df_tmp[column] > cutoff)\n",
    "    ct = pd.crosstab(df_tmp[\"Actual Labels\"], df_tmp[\"cutoff\"])\n",
    "    \n",
    "    print(ct)\n",
    "    \n",
    "    row_percentage = ct.div(ct.sum(axis = 1), axis = 0)\n",
    "    \n",
    "    print(row_percentage)\n",
    "    \n"
   ]
  },
  {
   "cell_type": "code",
   "execution_count": null,
   "id": "bf6fa4ef-5e6c-4027-b2cf-e676982d94b0",
   "metadata": {},
   "outputs": [],
   "source": []
  },
  {
   "cell_type": "code",
   "execution_count": null,
   "id": "df9b5d79-87cd-4ec6-925a-45c44b8e90d8",
   "metadata": {},
   "outputs": [],
   "source": [
    "#2.8%: 0.425; 3% 0.442."
   ]
  },
  {
   "cell_type": "code",
   "execution_count": 55,
   "id": "43ff275b-2eb9-4651-8572-d0e2161554ae",
   "metadata": {},
   "outputs": [],
   "source": [
    "k = 0.442"
   ]
  },
  {
   "cell_type": "code",
   "execution_count": 56,
   "id": "eb56ed47-caa5-4892-b5ed-867306491a6e",
   "metadata": {},
   "outputs": [
    {
     "name": "stdout",
     "output_type": "stream",
     "text": [
      "cutoff         False  True \n",
      "Actual Labels              \n",
      "0.0            11807    618\n",
      "0.5             3004   6918\n",
      "1.0              137   4408\n",
      "cutoff            False     True \n",
      "Actual Labels                    \n",
      "0.0            0.950262  0.049738\n",
      "0.5            0.302762  0.697238\n",
      "1.0            0.030143  0.969857\n"
     ]
    }
   ],
   "source": [
    "evaluate_cutoff(val_1_pd, \"Outputs\", k)"
   ]
  },
  {
   "cell_type": "code",
   "execution_count": 57,
   "id": "2d291f76-d082-46c5-b3a0-8f0d8fb0c500",
   "metadata": {},
   "outputs": [
    {
     "name": "stdout",
     "output_type": "stream",
     "text": [
      "cutoff         False  True \n",
      "Actual Labels              \n",
      "0.0            12220    800\n",
      "0.5             2611   6837\n",
      "1.0              178   4405\n",
      "cutoff            False     True \n",
      "Actual Labels                    \n",
      "0.0            0.938556  0.061444\n",
      "0.5            0.276355  0.723645\n",
      "1.0            0.038839  0.961161\n"
     ]
    }
   ],
   "source": [
    "evaluate_cutoff(val_2_pd, \"Outputs\", k)"
   ]
  },
  {
   "cell_type": "code",
   "execution_count": 58,
   "id": "0389ec95-67e1-4733-86e2-08a1f4b3dab2",
   "metadata": {},
   "outputs": [
    {
     "name": "stdout",
     "output_type": "stream",
     "text": [
      "cutoff         False  True \n",
      "Actual Labels              \n",
      "0.0             6540    434\n",
      "0.5             2567   6862\n",
      "1.0               94   2342\n",
      "cutoff            False     True \n",
      "Actual Labels                    \n",
      "0.0            0.937769  0.062231\n",
      "0.5            0.272245  0.727755\n",
      "1.0            0.038588  0.961412\n"
     ]
    }
   ],
   "source": [
    "evaluate_cutoff(val_heart_set_pd, \"Outputs\", k)"
   ]
  },
  {
   "cell_type": "code",
   "execution_count": 59,
   "id": "582897b9-e0d4-4147-8e00-bbbf1151de98",
   "metadata": {},
   "outputs": [
    {
     "name": "stdout",
     "output_type": "stream",
     "text": [
      "cutoff         False  True \n",
      "Actual Labels              \n",
      "0.0             2016    314\n",
      "0.5              639    852\n",
      "1.0               61    518\n",
      "cutoff            False     True \n",
      "Actual Labels                    \n",
      "0.0            0.865236  0.134764\n",
      "0.5            0.428571  0.571429\n",
      "1.0            0.105354  0.894646\n"
     ]
    }
   ],
   "source": [
    "evaluate_cutoff(val_HIV_set_pd, \"Outputs\", k)"
   ]
  },
  {
   "cell_type": "code",
   "execution_count": null,
   "id": "5a1febda-4531-41f6-b4b9-78520e37e3f7",
   "metadata": {},
   "outputs": [],
   "source": []
  },
  {
   "cell_type": "code",
   "execution_count": null,
   "id": "a1a46656-9b3c-4ccc-8f1f-65dfddc9db15",
   "metadata": {},
   "outputs": [],
   "source": [
    "def calculate_norm(df_relevance, output_column):\n",
    "    df_tmp = df_relevance.copy()\n",
    "    groups = [df1 for _, df1 in df_tmp.groupby(\"Objective\")]\n",
    "    for i in range(0, len(groups)):\n",
    "        maximum = groups[i][output_column].max()\n",
    "        minimum = groups[i][output_column].min()\n",
    "        groups[i][\"Normed relevance\"] = (groups[i][output_column] - minimum)/(maximum - minimum)\n",
    "        p95 = groups[i][output_column].quantile(0.95)\n",
    "        p90 = groups[i][output_column].quantile(0.90)\n",
    "        groups[i][\"Normed relevance 95\"] = (groups[i][output_column] - minimum)/(p95 - minimum)\n",
    "        groups[i].loc[groups[i][\"Normed relevance 95\"] > 1, 'Normed relevance 95'] = 1 \n",
    "        groups[i][\"Normed relevance 90\"] = (groups[i][output_column] - minimum)/(p90 - minimum)\n",
    "        groups[i].loc[groups[i][\"Normed relevance 90\"] > 1, 'Normed relevance 90'] = 1\n",
    "    df_norm = pd.concat(groups, ignore_index = True)\n",
    "    return df_norm.copy()\n",
    "    "
   ]
  },
  {
   "cell_type": "code",
   "execution_count": null,
   "id": "9d3c5006-67a4-4ea8-ad94-6d8cd8af0173",
   "metadata": {},
   "outputs": [],
   "source": []
  },
  {
   "cell_type": "code",
   "execution_count": null,
   "id": "5ca4c930-7472-4554-a3cb-a7f6c3e23ac5",
   "metadata": {},
   "outputs": [],
   "source": [
    "val_1_pd_n9095 = calculate_norm(val_1_pd, \"Outputs\")\n",
    "val_2_pd_n9095 = calculate_norm(val_2_pd, \"Outputs\")\n",
    "val_heart_pd_n9095 = calculate_norm(val_heart_set_pd, \"Outputs\")\n",
    "val_HIV_pd_n9095 = calculate_norm(val_HIV_set_pd, \"Outputs\")"
   ]
  },
  {
   "cell_type": "code",
   "execution_count": null,
   "id": "7e2e311d-d8c5-4507-bc27-0e4f2358fc90",
   "metadata": {},
   "outputs": [],
   "source": [
    "len(val_heart_set_pd)"
   ]
  },
  {
   "cell_type": "code",
   "execution_count": null,
   "id": "59e49135-c70c-41bb-b043-cc90322228ef",
   "metadata": {},
   "outputs": [],
   "source": [
    "print(\"******************************************\")\n",
    "print(\"Val 1\")\n",
    "print(\"******************************************\")\n",
    "roc_analysis(val_1_pd_n9095, \"Normed relevance\", save = True)\n",
    "print(\"******************************************\")\n",
    "print(\"Val 2\")\n",
    "print(\"******************************************\")\n",
    "roc_analysis(val_2_pd_n9095, \"Normed relevance\")\n",
    "print(\"******************************************\")\n",
    "print(\"Val Heart\")\n",
    "print(\"******************************************\")\n",
    "roc_analysis(val_heart_pd_n9095, \"Normed relevance\")\n",
    "print(\"******************************************\")\n",
    "print(\"Val HIV\")\n",
    "print(\"******************************************\")\n",
    "roc_analysis(val_HIV_pd_n9095, \"Normed relevance\")"
   ]
  },
  {
   "cell_type": "code",
   "execution_count": null,
   "id": "4cf9e7b7-ac9a-43da-8bd3-460910652480",
   "metadata": {},
   "outputs": [],
   "source": [
    "evaluate_cutoff(val_1_pd_n9095, \"Normed relevance\", 0.566)"
   ]
  },
  {
   "cell_type": "code",
   "execution_count": null,
   "id": "ad93dfc3-0c11-46fc-b164-445a83137a1b",
   "metadata": {},
   "outputs": [],
   "source": [
    "evaluate_cutoff(val_2_pd_n9095, \"Normed relevance\", 0.566)"
   ]
  },
  {
   "cell_type": "code",
   "execution_count": null,
   "id": "52a7105a-5dce-4169-91ca-28c0b1f62b10",
   "metadata": {},
   "outputs": [],
   "source": [
    "evaluate_cutoff(val_heart_pd_n9095, \"Normed relevance\", 0.566)"
   ]
  },
  {
   "cell_type": "code",
   "execution_count": null,
   "id": "811c6688-27ac-43e2-b29c-b25ed11d8ebd",
   "metadata": {},
   "outputs": [],
   "source": [
    "evaluate_cutoff(val_HIV_pd_n9095, \"Normed relevance\", 0.566)"
   ]
  }
 ],
 "metadata": {
  "kernelspec": {
   "display_name": "Python 3 (ipykernel)",
   "language": "python",
   "name": "python3"
  },
  "language_info": {
   "codemirror_mode": {
    "name": "ipython",
    "version": 3
   },
   "file_extension": ".py",
   "mimetype": "text/x-python",
   "name": "python",
   "nbconvert_exporter": "python",
   "pygments_lexer": "ipython3",
   "version": "3.9.16"
  }
 },
 "nbformat": 4,
 "nbformat_minor": 5
}
