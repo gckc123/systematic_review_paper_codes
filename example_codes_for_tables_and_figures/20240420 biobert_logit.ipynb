{
 "cells": [
  {
   "cell_type": "code",
   "execution_count": 1,
   "id": "1172218e-ead0-42bb-b2ee-dddd8232ffb5",
   "metadata": {},
   "outputs": [],
   "source": [
    "import pandas as pd\n",
    "import matplotlib.pyplot as plt\n",
    "from datasets import Dataset, DatasetDict\n",
    "\n",
    "from transformers import AutoModelForSequenceClassification\n",
    "from transformers import AutoTokenizer\n",
    "\n",
    "import torch\n",
    "#from sentence_transformers import SentenceTransformer, InputExample, losses, models, evaluation\n",
    "from torch.utils.data import DataLoader\n",
    "#from sentence_transformers import LoggingHandler\n",
    "#from sentence_transformers.evaluation import EmbeddingSimilarityEvaluator\n",
    "import logging\n",
    "import numpy as np\n",
    "import re\n",
    "\n",
    "#from sklearn.metrics import roc_curve, auc\n",
    "\n",
    "from tqdm.auto import tqdm\n",
    "from tqdm.notebook import tqdm\n",
    "from transformers import AutoModel, AutoTokenizer\n",
    "\n",
    "\n",
    "device = torch.device(\"cuda\" if torch.cuda.is_available() else \"cpu\")\n",
    "\n",
    "data_folder = \"C:\\\\Users\\\\gckc1\\\\My Drive\\\\My programs\\\\Sierra\\\\full_auto_review_data\\\\20240115_for_model_training\"\n",
    "model_folder = \"C:\\\\Users\\\\gckc1\\\\My Drive\\\\My programs\\\\Sierra\\\\model_training\"\n",
    "review_data_folder = \"C:\\\\Users\\\\gckc1\\\\My Drive\\\\My programs\\\\Sierra\\\\review_list\"\n"
   ]
  },
  {
   "cell_type": "code",
   "execution_count": 2,
   "id": "646a480b-382c-4f13-8378-1122090b337e",
   "metadata": {},
   "outputs": [],
   "source": [
    "val_1_file_location = \"20240419_val_1_rti_bg_obj_sel_output.csv\"\n",
    "val_1_file = pd.read_csv(data_folder + \"\\\\\" + val_1_file_location)\n",
    "\n",
    "val_2_file_location = \"20240419_val_2_rti_bg_obj_sel_output.csv\"\n",
    "val_2_file = pd.read_csv(data_folder + \"\\\\\" + val_2_file_location)\n",
    "\n",
    "dev_file_location = \"20240417_dev_set_shuffled.csv\"\n",
    "dev_file = pd.read_csv(data_folder + \"\\\\\" + dev_file_location)\n",
    "\n",
    "val_heart_file_location = \"20240419_val_heart_rti_bg_obj_sel_output.csv\"\n",
    "val_heart_file = pd.read_csv(data_folder + \"\\\\\" + val_heart_file_location) \n",
    "\n",
    "val_HIV_file_location = \"20240419_val_HIV_rti_bg_obj_sel_output.csv\"\n",
    "val_HIV_file = pd.read_csv(data_folder + \"\\\\\" + val_HIV_file_location) \n"
   ]
  },
  {
   "cell_type": "code",
   "execution_count": 3,
   "id": "5447b5cb-70b7-4c65-b62d-ee054f83a2fb",
   "metadata": {},
   "outputs": [],
   "source": [
    "val_HIV_file = val_HIV_file.drop(['obj_sel_input_ids', 'token_type_ids', \"obj_sel_attention_mask\", \"tit_abs_input_ids\",\"tit_abs_attention_mask\"], axis=1).copy()\n",
    "val_heart_file = val_heart_file.drop(['obj_sel_input_ids', 'token_type_ids', \"obj_sel_attention_mask\", \"tit_abs_input_ids\",\"tit_abs_attention_mask\"], axis=1).copy()\n",
    "val_1_file = val_1_file.drop(['obj_sel_input_ids', 'token_type_ids', \"obj_sel_attention_mask\", \"tit_abs_input_ids\",\"tit_abs_attention_mask\"], axis=1).copy()\n",
    "val_2_file = val_2_file.drop(['obj_sel_input_ids', 'token_type_ids', \"obj_sel_attention_mask\", \"tit_abs_input_ids\",\"tit_abs_attention_mask\"], axis=1).copy()"
   ]
  },
  {
   "cell_type": "code",
   "execution_count": 4,
   "id": "b94e68e5-5554-41a9-ab08-b37ceafa1fc2",
   "metadata": {},
   "outputs": [],
   "source": [
    "recode_dict = {0:0, 0.5:1, 1:2}\n",
    "dev_file[\"label\"] = dev_file[\"label\"].replace(recode_dict)\n",
    "\n",
    "\n"
   ]
  },
  {
   "cell_type": "code",
   "execution_count": 5,
   "id": "e04c67ba-c19f-499c-9c3d-08c0681f643f",
   "metadata": {},
   "outputs": [
    {
     "data": {
      "text/plain": [
       "label\n",
       "0.0    224711\n",
       "1.0    161074\n",
       "2.0     81190\n",
       "Name: count, dtype: int64"
      ]
     },
     "execution_count": 5,
     "metadata": {},
     "output_type": "execute_result"
    }
   ],
   "source": [
    "dev_file['label'].value_counts()"
   ]
  },
  {
   "cell_type": "code",
   "execution_count": 6,
   "id": "64412af2-dbc0-49cf-8bb4-2a153fcaf877",
   "metadata": {},
   "outputs": [],
   "source": [
    "dev_file[\"obj_sel\"] = dev_file[\"obj_sel\"].str.replace(r'^\\[OA\\]', '', regex=True)\n",
    "dev_file[\"tit_abs\"] = dev_file[\"tit_abs\"].str.replace(r'^ \\[OA\\]', '', regex=True)"
   ]
  },
  {
   "cell_type": "code",
   "execution_count": 7,
   "id": "ae1bfa79-de28-4ce6-bc51-30a7e8e2ec74",
   "metadata": {},
   "outputs": [],
   "source": [
    "dev_file[\"obj_sel\"] = \"[RTI]\" + dev_file[\"Review_Title\"] + dev_file[\"obj_sel\"]"
   ]
  },
  {
   "cell_type": "code",
   "execution_count": 8,
   "id": "57aea4a3-314e-415e-8571-5c3459804fb3",
   "metadata": {},
   "outputs": [],
   "source": [
    "dev_file_1 = dev_file[0:100000].copy()\n",
    "dev_file_2 = dev_file[100000:200000].copy()\n",
    "dev_file_3 = dev_file[200000:300000].copy()\n",
    "dev_file_4 = dev_file[300000:466975].copy()\n"
   ]
  },
  {
   "cell_type": "code",
   "execution_count": 9,
   "id": "6dddd3a2-d416-44ab-b3d0-0ca51068fe15",
   "metadata": {},
   "outputs": [],
   "source": [
    "val_HIV_set = Dataset.from_pandas(val_HIV_file)\n",
    "val_1_set = Dataset.from_pandas(val_1_file)\n",
    "val_2_set = Dataset.from_pandas(val_2_file)\n",
    "dev_set_1 = Dataset.from_pandas(dev_file_1)\n",
    "dev_set_2 = Dataset.from_pandas(dev_file_2)\n",
    "dev_set_3 = Dataset.from_pandas(dev_file_3)\n",
    "dev_set_4 = Dataset.from_pandas(dev_file_4)\n",
    "val_heart_set = Dataset.from_pandas(val_heart_file)\n"
   ]
  },
  {
   "cell_type": "code",
   "execution_count": 10,
   "id": "4435b782-99e3-4b76-8e80-f5da5823c529",
   "metadata": {},
   "outputs": [],
   "source": [
    "model_ckpt = \"dmis-lab/biobert-large-cased-v1.1\"\n",
    "tokenizer = AutoTokenizer.from_pretrained(model_ckpt)\n",
    "model = AutoModel.from_pretrained(model_ckpt)"
   ]
  },
  {
   "cell_type": "code",
   "execution_count": 11,
   "id": "42a92504-a0a7-4ae3-8d70-778f68fb3f29",
   "metadata": {},
   "outputs": [],
   "source": [
    "new_tokens = [\"[RIT]\", \"[OBJ]\", \"[BG]\", \"[SEL]\", \"[TIT]\", \"[ABS]\"]\n",
    "num_added_toks = tokenizer.add_tokens(new_tokens)"
   ]
  },
  {
   "cell_type": "code",
   "execution_count": 12,
   "id": "15d199fe-79a2-48d0-8551-f643eca21994",
   "metadata": {},
   "outputs": [
    {
     "name": "stdout",
     "output_type": "stream",
     "text": [
      "Token [RIT] is in the vocabulary.\n",
      "Token [OBJ] is in the vocabulary.\n",
      "Token [BG] is in the vocabulary.\n",
      "Token [SEL] is in the vocabulary.\n",
      "Token [TIT] is in the vocabulary.\n",
      "Token [ABS] is in the vocabulary.\n",
      "New embedding size: 58996\n"
     ]
    },
    {
     "data": {
      "text/plain": [
       "Embedding(59002, 1024)"
      ]
     },
     "execution_count": 12,
     "metadata": {},
     "output_type": "execute_result"
    }
   ],
   "source": [
    "# Check if the new tokens are in the tokenizer\n",
    "for token in new_tokens:\n",
    "    if token in tokenizer.get_vocab():\n",
    "        print(f\"Token {token} is in the vocabulary.\")\n",
    "    else:\n",
    "        print(f\"Token {token} is not in the vocabulary.\")\n",
    "\n",
    "# Check the size of the new embeddings\n",
    "print(f\"New embedding size: {model.get_input_embeddings().num_embeddings}\")\n",
    "\n",
    "model.resize_token_embeddings(len(tokenizer))"
   ]
  },
  {
   "cell_type": "code",
   "execution_count": 13,
   "id": "a692d581-4267-4464-9c0c-7586f6e3a0e2",
   "metadata": {},
   "outputs": [
    {
     "data": {
      "application/vnd.jupyter.widget-view+json": {
       "model_id": "",
       "version_major": 2,
       "version_minor": 0
      },
      "text/plain": [
       "Map:   0%|          | 0/4400 [00:00<?, ? examples/s]"
      ]
     },
     "metadata": {},
     "output_type": "display_data"
    },
    {
     "data": {
      "application/vnd.jupyter.widget-view+json": {
       "model_id": "",
       "version_major": 2,
       "version_minor": 0
      },
      "text/plain": [
       "Map:   0%|          | 0/4400 [00:00<?, ? examples/s]"
      ]
     },
     "metadata": {},
     "output_type": "display_data"
    },
    {
     "data": {
      "application/vnd.jupyter.widget-view+json": {
       "model_id": "",
       "version_major": 2,
       "version_minor": 0
      },
      "text/plain": [
       "Map:   0%|          | 0/100000 [00:00<?, ? examples/s]"
      ]
     },
     "metadata": {},
     "output_type": "display_data"
    },
    {
     "data": {
      "application/vnd.jupyter.widget-view+json": {
       "model_id": "",
       "version_major": 2,
       "version_minor": 0
      },
      "text/plain": [
       "Map:   0%|          | 0/100000 [00:00<?, ? examples/s]"
      ]
     },
     "metadata": {},
     "output_type": "display_data"
    },
    {
     "data": {
      "application/vnd.jupyter.widget-view+json": {
       "model_id": "",
       "version_major": 2,
       "version_minor": 0
      },
      "text/plain": [
       "Map:   0%|          | 0/100000 [00:00<?, ? examples/s]"
      ]
     },
     "metadata": {},
     "output_type": "display_data"
    },
    {
     "data": {
      "application/vnd.jupyter.widget-view+json": {
       "model_id": "",
       "version_major": 2,
       "version_minor": 0
      },
      "text/plain": [
       "Map:   0%|          | 0/100000 [00:00<?, ? examples/s]"
      ]
     },
     "metadata": {},
     "output_type": "display_data"
    },
    {
     "data": {
      "application/vnd.jupyter.widget-view+json": {
       "model_id": "",
       "version_major": 2,
       "version_minor": 0
      },
      "text/plain": [
       "Map:   0%|          | 0/100000 [00:00<?, ? examples/s]"
      ]
     },
     "metadata": {},
     "output_type": "display_data"
    },
    {
     "data": {
      "application/vnd.jupyter.widget-view+json": {
       "model_id": "",
       "version_major": 2,
       "version_minor": 0
      },
      "text/plain": [
       "Map:   0%|          | 0/100000 [00:00<?, ? examples/s]"
      ]
     },
     "metadata": {},
     "output_type": "display_data"
    },
    {
     "data": {
      "application/vnd.jupyter.widget-view+json": {
       "model_id": "",
       "version_major": 2,
       "version_minor": 0
      },
      "text/plain": [
       "Map:   0%|          | 0/166975 [00:00<?, ? examples/s]"
      ]
     },
     "metadata": {},
     "output_type": "display_data"
    },
    {
     "data": {
      "application/vnd.jupyter.widget-view+json": {
       "model_id": "",
       "version_major": 2,
       "version_minor": 0
      },
      "text/plain": [
       "Map:   0%|          | 0/166975 [00:00<?, ? examples/s]"
      ]
     },
     "metadata": {},
     "output_type": "display_data"
    },
    {
     "data": {
      "application/vnd.jupyter.widget-view+json": {
       "model_id": "",
       "version_major": 2,
       "version_minor": 0
      },
      "text/plain": [
       "Map:   0%|          | 0/26892 [00:00<?, ? examples/s]"
      ]
     },
     "metadata": {},
     "output_type": "display_data"
    },
    {
     "data": {
      "application/vnd.jupyter.widget-view+json": {
       "model_id": "",
       "version_major": 2,
       "version_minor": 0
      },
      "text/plain": [
       "Map:   0%|          | 0/26892 [00:00<?, ? examples/s]"
      ]
     },
     "metadata": {},
     "output_type": "display_data"
    },
    {
     "data": {
      "application/vnd.jupyter.widget-view+json": {
       "model_id": "",
       "version_major": 2,
       "version_minor": 0
      },
      "text/plain": [
       "Map:   0%|          | 0/27051 [00:00<?, ? examples/s]"
      ]
     },
     "metadata": {},
     "output_type": "display_data"
    },
    {
     "data": {
      "application/vnd.jupyter.widget-view+json": {
       "model_id": "",
       "version_major": 2,
       "version_minor": 0
      },
      "text/plain": [
       "Map:   0%|          | 0/27051 [00:00<?, ? examples/s]"
      ]
     },
     "metadata": {},
     "output_type": "display_data"
    },
    {
     "data": {
      "application/vnd.jupyter.widget-view+json": {
       "model_id": "",
       "version_major": 2,
       "version_minor": 0
      },
      "text/plain": [
       "Map:   0%|          | 0/18839 [00:00<?, ? examples/s]"
      ]
     },
     "metadata": {},
     "output_type": "display_data"
    },
    {
     "data": {
      "application/vnd.jupyter.widget-view+json": {
       "model_id": "",
       "version_major": 2,
       "version_minor": 0
      },
      "text/plain": [
       "Map:   0%|          | 0/18839 [00:00<?, ? examples/s]"
      ]
     },
     "metadata": {},
     "output_type": "display_data"
    }
   ],
   "source": [
    "for part in [\"obj_sel\", \"tit_abs\"]:\n",
    "    val_HIV_set = val_HIV_set.map(\n",
    "        lambda x:  tokenizer(\n",
    "            x[part], max_length = 512, padding = True, truncation = True\n",
    "        ), batched = True, batch_size = None\n",
    "    )\n",
    "    for col in ['input_ids', 'attention_mask']:\n",
    "        val_HIV_set = val_HIV_set.rename_column(\n",
    "            col, part+\"_\"+col\n",
    "        )\n",
    "\n",
    "\n",
    "for part in [\"obj_sel\", \"tit_abs\"]:\n",
    "    dev_set_1 = dev_set_1.map(\n",
    "        lambda x:  tokenizer(\n",
    "            x[part], max_length = 512, padding = True, truncation = True\n",
    "        ), batched = True, batch_size = None\n",
    "    )\n",
    "    for col in ['input_ids', 'attention_mask']:\n",
    "        dev_set_1 = dev_set_1.rename_column(\n",
    "            col, part+\"_\"+col\n",
    "        )\n",
    "\n",
    "for part in [\"obj_sel\", \"tit_abs\"]:\n",
    "    dev_set_2 = dev_set_2.map(\n",
    "        lambda x:  tokenizer(\n",
    "            x[part], max_length = 512, padding = True, truncation = True\n",
    "        ), batched = True, batch_size = None\n",
    "    )\n",
    "    for col in ['input_ids', 'attention_mask']:\n",
    "        dev_set_2 = dev_set_2.rename_column(\n",
    "            col, part+\"_\"+col\n",
    "        )\n",
    "\n",
    "for part in [\"obj_sel\", \"tit_abs\"]:\n",
    "    dev_set_3 = dev_set_3.map(\n",
    "        lambda x:  tokenizer(\n",
    "            x[part], max_length = 512, padding = True, truncation = True\n",
    "        ), batched = True, batch_size = None\n",
    "    )\n",
    "    for col in ['input_ids', 'attention_mask']:\n",
    "        dev_set_3 = dev_set_3.rename_column(\n",
    "            col, part+\"_\"+col\n",
    "        )\n",
    "\n",
    "for part in [\"obj_sel\", \"tit_abs\"]:\n",
    "    dev_set_4 = dev_set_4.map(\n",
    "        lambda x:  tokenizer(\n",
    "            x[part], max_length = 512, padding = True, truncation = True\n",
    "        ), batched = True, batch_size = None\n",
    "    )\n",
    "    for col in ['input_ids', 'attention_mask']:\n",
    "        dev_set_4 = dev_set_4.rename_column(\n",
    "            col, part+\"_\"+col\n",
    "        )\n",
    "\n",
    "for part in [\"obj_sel\", \"tit_abs\"]:\n",
    "    val_1_set = val_1_set.map(\n",
    "        lambda x:  tokenizer(\n",
    "            x[part], max_length = 512, padding = True, truncation = True\n",
    "        ), batched = True, batch_size = None\n",
    "    )\n",
    "    for col in ['input_ids', 'attention_mask']:\n",
    "        val_1_set = val_1_set.rename_column(\n",
    "            col, part+\"_\"+col\n",
    "        )\n",
    "\n",
    "for part in [\"obj_sel\", \"tit_abs\"]:\n",
    "    val_2_set = val_2_set.map(\n",
    "        lambda x:  tokenizer(\n",
    "            x[part], max_length = 512, padding = True, truncation = True\n",
    "        ), batched = True, batch_size = None\n",
    "    )\n",
    "    for col in ['input_ids', 'attention_mask']:\n",
    "        val_2_set = val_2_set.rename_column(\n",
    "            col, part+\"_\"+col\n",
    "        )\n",
    "\n",
    "for part in [\"obj_sel\", \"tit_abs\"]:\n",
    "    val_heart_set = val_heart_set.map(\n",
    "        lambda x:  tokenizer(\n",
    "            x[part], max_length = 512, padding = True, truncation = True\n",
    "        ), batched = True, batch_size = None\n",
    "    )\n",
    "    for col in ['input_ids', 'attention_mask']:\n",
    "        val_heart_set = val_heart_set.rename_column(\n",
    "            col, part+\"_\"+col\n",
    "        )\n",
    "\n",
    "all_cols = ['label', 'obj_sel_input_ids', 'obj_sel_attention_mask', 'tit_abs_input_ids', 'tit_abs_attention_mask']\n"
   ]
  },
  {
   "cell_type": "code",
   "execution_count": 14,
   "id": "b83f24d8-928b-46a9-8b9c-0b7814e47e6c",
   "metadata": {},
   "outputs": [],
   "source": [
    "tmp1 = dev_set_1.to_pandas()\n",
    "tmp2 = dev_set_2.to_pandas()\n",
    "tmp3 = dev_set_3.to_pandas()\n",
    "tmp4 = dev_set_4.to_pandas()\n",
    "\n",
    "tmp = pd.concat([tmp1, tmp2, tmp3, tmp4], ignore_index = True)\n",
    "\n",
    "dev_set = Dataset.from_pandas(tmp)"
   ]
  },
  {
   "cell_type": "code",
   "execution_count": 15,
   "id": "3fcb2a47-efd7-4514-a56a-0af7dbe0baa3",
   "metadata": {},
   "outputs": [],
   "source": [
    "dev_set.set_format(type = 'torch', columns = all_cols)"
   ]
  },
  {
   "cell_type": "code",
   "execution_count": null,
   "id": "bc079f13-a0c5-484a-b117-13425a578eb5",
   "metadata": {},
   "outputs": [],
   "source": []
  },
  {
   "cell_type": "code",
   "execution_count": 16,
   "id": "4c3856a1-7bad-4a4f-bbf3-c6e18412f894",
   "metadata": {},
   "outputs": [],
   "source": [
    "batch_size = 32\n",
    "loader = torch.utils.data.DataLoader(\n",
    "    dev_set, batch_size=batch_size, shuffle = True)"
   ]
  },
  {
   "cell_type": "code",
   "execution_count": null,
   "id": "e49bc64c-44a6-4111-8ff9-4a4fe7ddb9d4",
   "metadata": {},
   "outputs": [],
   "source": []
  },
  {
   "cell_type": "code",
   "execution_count": 17,
   "id": "f23b40ba-23f8-40b5-b585-19b34635119e",
   "metadata": {},
   "outputs": [],
   "source": [
    "def mean_pool(token_embeds, attention_mask):\n",
    "    in_mask = attention_mask.unsqueeze(-1).expand(token_embeds.size()).float()\n",
    "    pool = torch.sum(token_embeds * in_mask, 1) / torch.clamp(\n",
    "        in_mask.sum(1), min=1e-9\n",
    "    )\n",
    "    return pool\n",
    "    "
   ]
  },
  {
   "cell_type": "code",
   "execution_count": 18,
   "id": "e4a1a02e-fce3-45e6-8814-6c27842e922f",
   "metadata": {},
   "outputs": [],
   "source": [
    "ffnn = torch.nn.Linear(1024*3, 3)\n",
    "loss_func = torch.nn.CrossEntropyLoss()"
   ]
  },
  {
   "cell_type": "code",
   "execution_count": null,
   "id": "b331c99e-38af-4f88-a05b-b8ccb64017e5",
   "metadata": {},
   "outputs": [],
   "source": []
  },
  {
   "cell_type": "code",
   "execution_count": 19,
   "id": "2682213f-335e-407f-a436-3e829c512668",
   "metadata": {},
   "outputs": [],
   "source": [
    "from transformers.optimization import get_linear_schedule_with_warmup\n",
    "\n",
    "optim = torch.optim.Adam(model.parameters(), lr = 2e-5)\n",
    "total_steps = int(len(dev_set) / batch_size)\n",
    "warmup_steps = 500\n",
    "scheduler = get_linear_schedule_with_warmup(\n",
    "    optim, num_warmup_steps=warmup_steps,\n",
    "    num_training_steps=total_steps - warmup_steps\n",
    ")\n",
    "\n",
    "\n"
   ]
  },
  {
   "cell_type": "code",
   "execution_count": 20,
   "id": "7301f268-2767-4fe8-8540-db6105811581",
   "metadata": {},
   "outputs": [],
   "source": [
    "import torch.nn as nn\n",
    "\n",
    "model = nn.DataParallel(model)\n",
    "ffnn = nn.DataParallel(ffnn)"
   ]
  },
  {
   "cell_type": "code",
   "execution_count": null,
   "id": "8fc74370-5694-461a-9831-953ffb958083",
   "metadata": {},
   "outputs": [],
   "source": []
  },
  {
   "cell_type": "code",
   "execution_count": 21,
   "id": "005ec8d4-8225-4cd4-9149-f5a0b438ffd2",
   "metadata": {},
   "outputs": [],
   "source": [
    "model = model.to(device)\n",
    "ffnn = ffnn.to(device)"
   ]
  },
  {
   "cell_type": "code",
   "execution_count": 22,
   "id": "e1251656-62f3-475e-a86b-b26bf741240f",
   "metadata": {},
   "outputs": [
    {
     "data": {
      "application/vnd.jupyter.widget-view+json": {
       "model_id": "a1a75d3a5a904080b585c86fafd79b8f",
       "version_major": 2,
       "version_minor": 0
      },
      "text/plain": [
       "  0%|          | 0/14593 [00:00<?, ?it/s]"
      ]
     },
     "metadata": {},
     "output_type": "display_data"
    },
    {
     "name": "stderr",
     "output_type": "stream",
     "text": [
      "C:\\Users\\gckc1\\anaconda3\\envs\\Sierra\\Lib\\site-packages\\torch\\cuda\\nccl.py:15: UserWarning: PyTorch is not compiled with NCCL support\n",
      "  warnings.warn(\"PyTorch is not compiled with NCCL support\")\n"
     ]
    }
   ],
   "source": [
    "for epoch in range(1):\n",
    "    model.train()\n",
    "    loop = tqdm(loader, leave= True)\n",
    "    for batch in loop:\n",
    "        optim.zero_grad()\n",
    "        inputs_ids_a = batch['obj_sel_input_ids'].to(device)\n",
    "        inputs_ids_b = batch['tit_abs_input_ids'].to(device)\n",
    "        attention_a = batch['obj_sel_attention_mask'].to(device)\n",
    "        attention_b = batch['tit_abs_attention_mask'].to(device)\n",
    "        label = batch['label'].to(device).long()\n",
    "        u = model(inputs_ids_a, attention_mask = attention_a)[0]\n",
    "        v = model(inputs_ids_b, attention_mask = attention_b)[0]\n",
    "        u = mean_pool(u, attention_a)\n",
    "        v = mean_pool(v, attention_b)\n",
    "        uv = torch.sub(u, v)\n",
    "        uv_abs = torch.abs(uv)\n",
    "        x = torch.cat([u, v, uv_abs], dim = -1)\n",
    "        x = ffnn(x)\n",
    "        loss = loss_func(x, label)\n",
    "        loss.backward()\n",
    "        optim.step()\n",
    "        scheduler.step()\n",
    "        loop.set_description(f'Epoch {epoch}')\n",
    "        loop.set_postfix(loss=loss.item())"
   ]
  },
  {
   "cell_type": "code",
   "execution_count": null,
   "id": "7af77331-8438-4181-8c85-3b95a57f6d0a",
   "metadata": {},
   "outputs": [],
   "source": []
  },
  {
   "cell_type": "code",
   "execution_count": 23,
   "id": "fa08cf41-761b-475c-9142-2d57270127bc",
   "metadata": {},
   "outputs": [],
   "source": [
    "torch.save(model, model_folder + \"\\\\20240420_biobert_logit_title_bg\\\\\" + '20240420_biobert_logit_466975.pth')\n",
    "torch.save(ffnn, model_folder + \"\\\\20240420_biobert_logit_title_bg\\\\\" + '20240420_ffnn_logit_466975.pth')"
   ]
  },
  {
   "cell_type": "code",
   "execution_count": null,
   "id": "56157117-7d42-45de-9812-e8aa96348e87",
   "metadata": {},
   "outputs": [],
   "source": []
  },
  {
   "cell_type": "code",
   "execution_count": null,
   "id": "e47169ea-fdbf-46a9-acce-87599de9cd7e",
   "metadata": {},
   "outputs": [],
   "source": [
    "val_1_file_location = \"20240419_val_1_rti_bg_obj_sel_output.csv\"\n",
    "val_1_file = pd.read_csv(data_folder + \"\\\\\" + val_1_file_location)\n",
    "\n",
    "val_2_file_location = \"20240419_val_2_rti_bg_obj_sel_output.csv\"\n",
    "val_2_file = pd.read_csv(data_folder + \"\\\\\" + val_2_file_location)\n",
    "\n",
    "val_heart_file_location = \"20240419_val_heart_rti_bg_obj_sel_output.csv\"\n",
    "val_heart_file = pd.read_csv(data_folder + \"\\\\\" + val_heart_file_location) \n",
    "\n",
    "val_HIV_file_location = \"20240419_val_HIV_rti_bg_obj_sel_output.csv\"\n",
    "val_HIV_file = pd.read_csv(data_folder + \"\\\\\" + val_HIV_file_location) \n",
    "\n",
    "val_HIV_file = val_HIV_file.drop(['obj_sel_input_ids', 'token_type_ids', \"obj_sel_attention_mask\", \"tit_abs_input_ids\",\"tit_abs_attention_mask\"], axis=1).copy()\n",
    "val_heart_file = val_heart_file.drop(['obj_sel_input_ids', 'token_type_ids', \"obj_sel_attention_mask\", \"tit_abs_input_ids\",\"tit_abs_attention_mask\"], axis=1).copy()\n",
    "val_1_file = val_1_file.drop(['obj_sel_input_ids', 'token_type_ids', \"obj_sel_attention_mask\", \"tit_abs_input_ids\",\"tit_abs_attention_mask\"], axis=1).copy()\n",
    "val_2_file = val_2_file.drop(['obj_sel_input_ids', 'token_type_ids', \"obj_sel_attention_mask\", \"tit_abs_input_ids\",\"tit_abs_attention_mask\"], axis=1).copy()\n",
    "\n",
    "val_1_set = Dataset.from_pandas(val_1_file)\n",
    "val_2_set = Dataset.from_pandas(val_2_file)\n",
    "val_heart_set = Dataset.from_pandas(val_heart_file)\n",
    "val_HIV_set = Dataset.from_pandas(val_HIV_file)\n",
    "\n",
    "for part in [\"obj_sel\", \"tit_abs\"]:\n",
    "    val_1_set = val_1_set.map(\n",
    "        lambda x:  tokenizer(\n",
    "            x[part], max_length = 512, padding = True, truncation = True\n",
    "        ), batched = True, batch_size = None\n",
    "    )\n",
    "    for col in ['input_ids', 'attention_mask']:\n",
    "        val_1_set = val_1_set.rename_column(\n",
    "            col, part+\"_\"+col\n",
    "        )\n",
    "\n",
    "for part in [\"obj_sel\", \"tit_abs\"]:\n",
    "    val_2_set = val_2_set.map(\n",
    "        lambda x:  tokenizer(\n",
    "            x[part], max_length = 512, padding = True, truncation = True\n",
    "        ), batched = True, batch_size = None\n",
    "    )\n",
    "    for col in ['input_ids', 'attention_mask']:\n",
    "        val_2_set = val_2_set.rename_column(\n",
    "            col, part+\"_\"+col\n",
    "        )\n",
    "\n",
    "for part in [\"obj_sel\", \"tit_abs\"]:\n",
    "    val_heart_set = val_heart_set.map(\n",
    "        lambda x:  tokenizer(\n",
    "            x[part], max_length = 512, padding = True, truncation = True\n",
    "        ), batched = True, batch_size = None\n",
    "    )\n",
    "    for col in ['input_ids', 'attention_mask']:\n",
    "        val_heart_set = val_heart_set.rename_column(\n",
    "            col, part+\"_\"+col\n",
    "        )\n",
    "\n",
    "for part in [\"obj_sel\", \"tit_abs\"]:\n",
    "    val_HIV_set = val_HIV_set.map(\n",
    "        lambda x:  tokenizer(\n",
    "            x[part], max_length = 512, padding = True, truncation = True\n",
    "        ), batched = True, batch_size = None\n",
    "    )\n",
    "    for col in ['input_ids', 'attention_mask']:\n",
    "        val_HIV_set = val_HIV_set.rename_column(\n",
    "            col, part+\"_\"+col\n",
    "        )\n",
    "\n"
   ]
  },
  {
   "cell_type": "code",
   "execution_count": 24,
   "id": "0222f32b-ef7b-4cd9-9ae5-4031916fdd45",
   "metadata": {},
   "outputs": [],
   "source": [
    "val_1_set.set_format(type = 'torch', columns = all_cols)\n",
    "val_2_set.set_format(type = 'torch', columns = all_cols)\n",
    "val_heart_set.set_format(type = 'torch', columns = all_cols)\n",
    "val_HIV_set.set_format(type = 'torch', columns = all_cols)"
   ]
  },
  {
   "cell_type": "code",
   "execution_count": 25,
   "id": "a4eb7cb0-6e5c-4f59-ae69-848767006834",
   "metadata": {},
   "outputs": [],
   "source": [
    "from torch.utils.data import DataLoader\n",
    "val_1_loader = DataLoader(val_1_set, batch_size = 32, shuffle = False)\n",
    "val_2_loader = DataLoader(val_2_set, batch_size = 32, shuffle = False)\n",
    "val_heart_loader = DataLoader(val_heart_set, batch_size = 32, shuffle = False)\n",
    "val_HIV_loader = DataLoader(val_HIV_set, batch_size = 32, shuffle = False)"
   ]
  },
  {
   "cell_type": "code",
   "execution_count": 26,
   "id": "d4ca80fc-da11-4bd7-940b-2f9956d38b89",
   "metadata": {},
   "outputs": [],
   "source": [
    "def evaluate_model(model, ffnn, data_loader, device):\n",
    "    model.eval()\n",
    "    ffnn.eval()\n",
    "    all_outputs = []\n",
    "    predictions = []\n",
    "    all_labels = []\n",
    "    with torch.no_grad():\n",
    "        for batch in tqdm(data_loader, desc=\"Evaluating\", leave = True):\n",
    "            inputs_ids_a = batch['obj_sel_input_ids'].to(device)\n",
    "            inputs_ids_b = batch['tit_abs_input_ids'].to(device)\n",
    "            attention_a = batch['obj_sel_attention_mask'].to(device)\n",
    "            attention_b = batch['tit_abs_attention_mask'].to(device)\n",
    "            labels = batch['label'].to(device).long()\n",
    "\n",
    "            u = model(inputs_ids_a, attention_mask = attention_a)[0]\n",
    "            v = model(inputs_ids_b, attention_mask = attention_b)[0]\n",
    "            u = mean_pool(u, attention_a)\n",
    "            v = mean_pool(v, attention_b)\n",
    "            uv = torch.sub(u, v)\n",
    "            uv_abs = torch.abs(uv)\n",
    "            outputs = torch.cat([u, v, uv_abs], dim= -1)\n",
    "            outputs = ffnn(outputs)\n",
    "\n",
    "            _, predicted = torch.max(outputs, 1)\n",
    "\n",
    "            predictions.extend(predicted.cpu().numpy())\n",
    "            all_labels.extend(labels.cpu().numpy())\n",
    "            all_outputs.append(outputs.cpu().numpy())\n",
    "    all_outputs = np.vstack(all_outputs)\n",
    "    return predictions, all_labels, all_outputs"
   ]
  },
  {
   "cell_type": "code",
   "execution_count": 27,
   "id": "795938cf-77e1-4745-b7d5-f778c3b27a9f",
   "metadata": {},
   "outputs": [
    {
     "data": {
      "application/vnd.jupyter.widget-view+json": {
       "model_id": "1f54f45cd6354f0c951c05f681012b53",
       "version_major": 2,
       "version_minor": 0
      },
      "text/plain": [
       "Evaluating:   0%|          | 0/841 [00:00<?, ?it/s]"
      ]
     },
     "metadata": {},
     "output_type": "display_data"
    },
    {
     "data": {
      "application/vnd.jupyter.widget-view+json": {
       "model_id": "57f48ab5a4d44952b9b4dbe7ae83b8eb",
       "version_major": 2,
       "version_minor": 0
      },
      "text/plain": [
       "Evaluating:   0%|          | 0/846 [00:00<?, ?it/s]"
      ]
     },
     "metadata": {},
     "output_type": "display_data"
    },
    {
     "data": {
      "application/vnd.jupyter.widget-view+json": {
       "model_id": "7dad0dcd3a5b48a5aa19e6673a0cf1e1",
       "version_major": 2,
       "version_minor": 0
      },
      "text/plain": [
       "Evaluating:   0%|          | 0/589 [00:00<?, ?it/s]"
      ]
     },
     "metadata": {},
     "output_type": "display_data"
    },
    {
     "data": {
      "application/vnd.jupyter.widget-view+json": {
       "model_id": "89181f22fc984d22a0aee2e52c3135f1",
       "version_major": 2,
       "version_minor": 0
      },
      "text/plain": [
       "Evaluating:   0%|          | 0/138 [00:00<?, ?it/s]"
      ]
     },
     "metadata": {},
     "output_type": "display_data"
    }
   ],
   "source": [
    "val_1_predictions, val_1_labels, val_1_outputs = evaluate_model(model, ffnn, val_1_loader, device)\n",
    "val_2_predictions, val_2_labels, val_2_outputs = evaluate_model(model, ffnn, val_2_loader, device)\n",
    "val_heart_predictions, val_heart_labels, val_heart_outputs = evaluate_model(model, ffnn, val_heart_loader, device)\n",
    "val_HIV_predictions, val_HIV_labels, val_HIV_outputs = evaluate_model(model, ffnn, val_HIV_loader, device)\n"
   ]
  },
  {
   "cell_type": "code",
   "execution_count": null,
   "id": "4ee360f5-a5f2-43f7-b090-b7cddcd611eb",
   "metadata": {},
   "outputs": [],
   "source": []
  },
  {
   "cell_type": "code",
   "execution_count": 28,
   "id": "cd213637-cd26-4c2e-b8f2-363c366c44bf",
   "metadata": {},
   "outputs": [],
   "source": [
    "def evaluate_prediction(df, predictions):\n",
    "    df_tmp = df.copy()\n",
    "    ct = pd.crosstab(df_tmp[\"Actual Labels\"], df_tmp[predictions])\n",
    "    print(ct)\n",
    "    row_percentage = ct.div(ct.sum(axis = 1), axis = 0)\n",
    "    print(row_percentage)"
   ]
  },
  {
   "cell_type": "code",
   "execution_count": null,
   "id": "fb04bda2-aa89-446b-859d-921ee93388ca",
   "metadata": {},
   "outputs": [],
   "source": []
  },
  {
   "cell_type": "code",
   "execution_count": null,
   "id": "5db348ed-f68e-41fe-8674-c1fd30fc5210",
   "metadata": {},
   "outputs": [],
   "source": [
    "################# Evaluation 20240421 #########################"
   ]
  },
  {
   "cell_type": "code",
   "execution_count": 34,
   "id": "2c0f8f57-0c02-4184-b663-f75485ae334e",
   "metadata": {},
   "outputs": [],
   "source": [
    "val_1_pd = val_1_set.to_pandas()\n",
    "val_2_pd = val_2_set.to_pandas()\n",
    "val_heart_set_pd = val_heart_set.to_pandas()\n",
    "val_HIV_set_pd = val_HIV_set.to_pandas()"
   ]
  },
  {
   "cell_type": "code",
   "execution_count": 31,
   "id": "b21093bc-2edd-4938-b2bd-11edd8a88f29",
   "metadata": {},
   "outputs": [],
   "source": [
    "def combine_outputs(df, labels, predictions):\n",
    "    predictions_df = pd.DataFrame({\n",
    "        'Predictions': predictions,\n",
    "    })  \n",
    "    combined = pd.concat([df, predictions_df], axis = 1)\n",
    "    return combined.copy()"
   ]
  },
  {
   "cell_type": "code",
   "execution_count": 35,
   "id": "711a4765-0706-4869-8069-4350b072f15f",
   "metadata": {},
   "outputs": [],
   "source": [
    "val_1_pd = combine_outputs(val_1_pd, val_1_labels, val_1_predictions)\n",
    "val_2_pd = combine_outputs(val_2_pd, val_2_labels, val_2_predictions)\n",
    "val_heart_set_pd = combine_outputs(val_heart_set_pd, val_heart_labels, val_heart_predictions)\n",
    "val_HIV_set_pd = combine_outputs(val_HIV_set_pd, val_HIV_labels, val_HIV_predictions)"
   ]
  },
  {
   "cell_type": "code",
   "execution_count": 36,
   "id": "d9a5af72-25da-4cd2-b6a3-119b34ba0ad1",
   "metadata": {},
   "outputs": [],
   "source": [
    "#Only need to run it once#\n",
    "\n",
    "val_1_pd['DOI'] = val_1_pd['Review_URL'].str.extract(r'(10\\.\\d{4,9}/[-._;()/:A-Z0-9]+)', flags=re.IGNORECASE)\n",
    "val_1_pd['DOI'] = val_1_pd['DOI'].str.replace(r'/full$', '', regex=True)\n",
    "\n",
    "val_2_pd['DOI'] = val_2_pd['Review_URL'].str.extract(r'(10\\.\\d{4,9}/[-._;()/:A-Z0-9]+)', flags=re.IGNORECASE)\n",
    "val_2_pd['DOI'] = val_2_pd['DOI'].str.replace(r'/full$', '', regex=True)\n",
    "\n",
    "#Only need to run it once#\n",
    "\n",
    "val_heart_set_pd['DOI'] = val_heart_set_pd['Review_URL'].str.extract(r'(10\\.\\d{4,9}/[-._;()/:A-Z0-9]+)', flags=re.IGNORECASE)\n",
    "val_heart_set_pd['DOI'] = val_heart_set_pd['DOI'].str.replace(r'/full$', '', regex=True)\n",
    "\n",
    "val_HIV_set_pd['DOI'] = val_HIV_set_pd['Review_URL'].str.extract(r'(10\\.\\d{4,9}/[-._;()/:A-Z0-9]+)', flags=re.IGNORECASE)\n",
    "val_HIV_set_pd['DOI'] = val_HIV_set_pd['DOI'].str.replace(r'/full$', '', regex=True)"
   ]
  },
  {
   "cell_type": "code",
   "execution_count": 37,
   "id": "b3a8bdaa-b852-4294-a6ca-da8925d2aed1",
   "metadata": {},
   "outputs": [],
   "source": [
    "review_record = pd.read_csv(review_data_folder + \"\\\\\" + \"20231218_cochrane_review_expertise.csv\")"
   ]
  },
  {
   "cell_type": "code",
   "execution_count": 38,
   "id": "82e894a3-06d6-4cb2-94e2-d07397f6ead9",
   "metadata": {},
   "outputs": [],
   "source": [
    "val_1_pd[\"expertise\"] = val_1_pd['DOI'].isin(review_record['DOI'])\n",
    "val_2_pd[\"expertise\"] = val_2_pd['DOI'].isin(review_record['DOI'])\n",
    "val_heart_set_pd[\"expertise\"] = val_heart_set_pd['DOI'].isin(review_record['DOI'])\n",
    "val_HIV_set_pd[\"expertise\"] = val_HIV_set_pd['DOI'].isin(review_record['DOI'])"
   ]
  },
  {
   "cell_type": "code",
   "execution_count": 39,
   "id": "e5cc2df2-7dd6-4947-a52a-fb0a5752b338",
   "metadata": {},
   "outputs": [],
   "source": [
    "val_1_pd.to_csv(data_folder + \"\\\\\" + \"20240420_val_1_rti_bg_obj_sel_output_logit.csv\")\n",
    "val_2_pd.to_csv(data_folder + \"\\\\\" + \"20240420_val_2_rti_bg_obj_sel_output_logit.csv\")\n",
    "val_heart_set_pd.to_csv(data_folder + \"\\\\\" + \"20240420_val_heart_rti_bg_obj_sel_output_logit.csv\")\n",
    "val_HIV_set_pd.to_csv(data_folder + \"\\\\\" + \"20240420_val_HIV_rti_bg_obj_sel_output_logit.csv\")"
   ]
  },
  {
   "cell_type": "code",
   "execution_count": null,
   "id": "9b6c6c5f-3990-49d4-8b20-b39d1c3b1414",
   "metadata": {},
   "outputs": [],
   "source": []
  },
  {
   "cell_type": "code",
   "execution_count": 41,
   "id": "1af7a3b6-ef61-41fa-8c6c-9d315f9f1528",
   "metadata": {},
   "outputs": [],
   "source": [
    "def evaluate_prediction(df, predictions):\n",
    "    df_tmp = df.copy()\n",
    "    ct = pd.crosstab(df_tmp[\"Actual Labels\"], df_tmp[predictions])\n",
    "    print(ct)\n",
    "    row_percentage = ct.div(ct.sum(axis = 1), axis = 0)\n",
    "    print(row_percentage)"
   ]
  },
  {
   "cell_type": "code",
   "execution_count": null,
   "id": "b8548a3e-8492-4f2d-9618-cc32f84e910b",
   "metadata": {},
   "outputs": [],
   "source": []
  },
  {
   "cell_type": "code",
   "execution_count": 42,
   "id": "7b735fc8-4c16-4ba4-9e98-1ae136800bd9",
   "metadata": {},
   "outputs": [
    {
     "name": "stdout",
     "output_type": "stream",
     "text": [
      "*************************************************\n",
      "Val 1\n",
      "*************************************************\n",
      "Predictions        0     1     2\n",
      "Actual Labels                   \n",
      "0.0            11410   788   227\n",
      "0.5             1427  7178  1317\n",
      "1.0              129  2243  2173\n",
      "Predictions           0         1         2\n",
      "Actual Labels                              \n",
      "0.0            0.918310  0.063421  0.018270\n",
      "0.5            0.143822  0.723443  0.132735\n",
      "1.0            0.028383  0.493509  0.478108\n",
      "*************************************************\n",
      "Val 2\n",
      "*************************************************\n",
      "Predictions        0     1     2\n",
      "Actual Labels                   \n",
      "0.0            11726  1068   226\n",
      "0.5             1279  6668  1501\n",
      "1.0               97  2132  2354\n",
      "Predictions           0         1         2\n",
      "Actual Labels                              \n",
      "0.0            0.900614  0.082028  0.017358\n",
      "0.5            0.135373  0.705758  0.158870\n",
      "1.0            0.021165  0.465197  0.513637\n",
      "*************************************************\n",
      "Heart\n",
      "*************************************************\n",
      "Predictions       0     1    2\n",
      "Actual Labels                 \n",
      "0.0            6137   768   69\n",
      "0.5            1307  7682  440\n",
      "1.0              82  1683  671\n",
      "Predictions           0         1         2\n",
      "Actual Labels                              \n",
      "0.0            0.879983  0.110123  0.009894\n",
      "0.5            0.138615  0.814721  0.046665\n",
      "1.0            0.033662  0.690887  0.275452\n",
      "*************************************************\n",
      "HIV\n",
      "*************************************************\n",
      "Predictions       0    1    2\n",
      "Actual Labels                \n",
      "0.0            1880  374   76\n",
      "0.5             430  949  112\n",
      "1.0              42  344  193\n",
      "Predictions           0         1         2\n",
      "Actual Labels                              \n",
      "0.0            0.806867  0.160515  0.032618\n",
      "0.5            0.288397  0.636486  0.075117\n",
      "1.0            0.072539  0.594128  0.333333\n"
     ]
    }
   ],
   "source": [
    "print(\"*************************************************\")\n",
    "print(\"Val 1\")\n",
    "print(\"*************************************************\")\n",
    "evaluate_prediction(val_1_pd, \"Predictions\")\n",
    "print(\"*************************************************\")\n",
    "print(\"Val 2\")\n",
    "print(\"*************************************************\")\n",
    "evaluate_prediction(val_2_pd, \"Predictions\")\n",
    "print(\"*************************************************\")\n",
    "print(\"Heart\")\n",
    "print(\"*************************************************\")\n",
    "evaluate_prediction(val_heart_set_pd, \"Predictions\")\n",
    "print(\"*************************************************\")\n",
    "print(\"HIV\")\n",
    "print(\"*************************************************\")\n",
    "evaluate_prediction(val_HIV_set_pd, \"Predictions\")"
   ]
  },
  {
   "cell_type": "code",
   "execution_count": null,
   "id": "5a1febda-4531-41f6-b4b9-78520e37e3f7",
   "metadata": {},
   "outputs": [],
   "source": []
  },
  {
   "cell_type": "code",
   "execution_count": null,
   "id": "a1a46656-9b3c-4ccc-8f1f-65dfddc9db15",
   "metadata": {},
   "outputs": [],
   "source": [
    "def calculate_norm(df_relevance, output_column):\n",
    "    df_tmp = df_relevance.copy()\n",
    "    groups = [df1 for _, df1 in df_tmp.groupby(\"Objective\")]\n",
    "    for i in range(0, len(groups)):\n",
    "        maximum = groups[i][output_column].max()\n",
    "        minimum = groups[i][output_column].min()\n",
    "        groups[i][\"Normed relevance\"] = (groups[i][output_column] - minimum)/(maximum - minimum)\n",
    "        p95 = groups[i][output_column].quantile(0.95)\n",
    "        p90 = groups[i][output_column].quantile(0.90)\n",
    "        groups[i][\"Normed relevance 95\"] = (groups[i][output_column] - minimum)/(p95 - minimum)\n",
    "        groups[i].loc[groups[i][\"Normed relevance 95\"] > 1, 'Normed relevance 95'] = 1 \n",
    "        groups[i][\"Normed relevance 90\"] = (groups[i][output_column] - minimum)/(p90 - minimum)\n",
    "        groups[i].loc[groups[i][\"Normed relevance 90\"] > 1, 'Normed relevance 90'] = 1\n",
    "    df_norm = pd.concat(groups, ignore_index = True)\n",
    "    return df_norm.copy()\n",
    "    "
   ]
  },
  {
   "cell_type": "code",
   "execution_count": null,
   "id": "9d3c5006-67a4-4ea8-ad94-6d8cd8af0173",
   "metadata": {},
   "outputs": [],
   "source": []
  },
  {
   "cell_type": "code",
   "execution_count": null,
   "id": "5ca4c930-7472-4554-a3cb-a7f6c3e23ac5",
   "metadata": {},
   "outputs": [],
   "source": [
    "val_1_pd_n9095 = calculate_norm(val_1_pd, \"Outputs\")\n",
    "val_2_pd_n9095 = calculate_norm(val_2_pd, \"Outputs\")\n",
    "val_heart_pd_n9095 = calculate_norm(val_heart_set_pd, \"Outputs\")\n",
    "val_HIV_pd_n9095 = calculate_norm(val_HIV_set_pd, \"Outputs\")"
   ]
  },
  {
   "cell_type": "code",
   "execution_count": null,
   "id": "7e2e311d-d8c5-4507-bc27-0e4f2358fc90",
   "metadata": {},
   "outputs": [],
   "source": [
    "len(val_heart_set_pd)"
   ]
  },
  {
   "cell_type": "code",
   "execution_count": null,
   "id": "59e49135-c70c-41bb-b043-cc90322228ef",
   "metadata": {},
   "outputs": [],
   "source": [
    "print(\"******************************************\")\n",
    "print(\"Val 1\")\n",
    "print(\"******************************************\")\n",
    "roc_analysis(val_1_pd_n9095, \"Normed relevance\", save = True)\n",
    "print(\"******************************************\")\n",
    "print(\"Val 2\")\n",
    "print(\"******************************************\")\n",
    "roc_analysis(val_2_pd_n9095, \"Normed relevance\")\n",
    "print(\"******************************************\")\n",
    "print(\"Val Heart\")\n",
    "print(\"******************************************\")\n",
    "roc_analysis(val_heart_pd_n9095, \"Normed relevance\")\n",
    "print(\"******************************************\")\n",
    "print(\"Val HIV\")\n",
    "print(\"******************************************\")\n",
    "roc_analysis(val_HIV_pd_n9095, \"Normed relevance\")"
   ]
  },
  {
   "cell_type": "code",
   "execution_count": null,
   "id": "4cf9e7b7-ac9a-43da-8bd3-460910652480",
   "metadata": {},
   "outputs": [],
   "source": [
    "evaluate_cutoff(val_1_pd_n9095, \"Normed relevance\", 0.566)"
   ]
  },
  {
   "cell_type": "code",
   "execution_count": null,
   "id": "ad93dfc3-0c11-46fc-b164-445a83137a1b",
   "metadata": {},
   "outputs": [],
   "source": [
    "evaluate_cutoff(val_2_pd_n9095, \"Normed relevance\", 0.566)"
   ]
  },
  {
   "cell_type": "code",
   "execution_count": null,
   "id": "52a7105a-5dce-4169-91ca-28c0b1f62b10",
   "metadata": {},
   "outputs": [],
   "source": [
    "evaluate_cutoff(val_heart_pd_n9095, \"Normed relevance\", 0.566)"
   ]
  },
  {
   "cell_type": "code",
   "execution_count": null,
   "id": "811c6688-27ac-43e2-b29c-b25ed11d8ebd",
   "metadata": {},
   "outputs": [],
   "source": [
    "evaluate_cutoff(val_HIV_pd_n9095, \"Normed relevance\", 0.566)"
   ]
  },
  {
   "cell_type": "code",
   "execution_count": null,
   "id": "49057d67-7748-4140-b232-c94254bfcfb8",
   "metadata": {},
   "outputs": [],
   "source": []
  }
 ],
 "metadata": {
  "kernelspec": {
   "display_name": "Python 3 (ipykernel)",
   "language": "python",
   "name": "python3"
  },
  "language_info": {
   "codemirror_mode": {
    "name": "ipython",
    "version": 3
   },
   "file_extension": ".py",
   "mimetype": "text/x-python",
   "name": "python",
   "nbconvert_exporter": "python",
   "pygments_lexer": "ipython3",
   "version": "3.11.8"
  }
 },
 "nbformat": 4,
 "nbformat_minor": 5
}
