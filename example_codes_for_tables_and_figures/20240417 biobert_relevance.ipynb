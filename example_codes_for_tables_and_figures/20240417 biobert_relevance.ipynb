{
 "cells": [
  {
   "cell_type": "code",
   "execution_count": 1,
   "id": "1172218e-ead0-42bb-b2ee-dddd8232ffb5",
   "metadata": {},
   "outputs": [],
   "source": [
    "import pandas as pd\n",
    "import matplotlib.pyplot as plt\n",
    "from datasets import Dataset, DatasetDict\n",
    "\n",
    "from transformers import AutoModelForSequenceClassification\n",
    "from transformers import AutoTokenizer\n",
    "\n",
    "import torch\n",
    "#from sentence_transformers import SentenceTransformer, InputExample, losses, models, evaluation\n",
    "from torch.utils.data import DataLoader\n",
    "#from sentence_transformers import LoggingHandler\n",
    "#from sentence_transformers.evaluation import EmbeddingSimilarityEvaluator\n",
    "import logging\n",
    "import numpy as np\n",
    "import re\n",
    "\n",
    "#from sklearn.metrics import roc_curve, auc\n",
    "\n",
    "from tqdm.auto import tqdm\n",
    "from tqdm.notebook import tqdm\n",
    "from transformers import AutoModel, AutoTokenizer\n",
    "from sklearn.metrics import roc_curve, auc\n",
    "\n",
    "\n",
    "device = torch.device(\"cuda\" if torch.cuda.is_available() else \"cpu\")\n",
    "\n",
    "data_folder = \"C:\\\\Users\\\\gckc1\\\\My Drive\\\\My programs\\\\Sierra\\\\full_auto_review_data\\\\20240115_for_model_training\"\n",
    "model_folder = \"C:\\\\Users\\\\gckc1\\\\My Drive\\\\My programs\\\\Sierra\\\\model_training\"\n",
    "review_data_folder = \"C:\\\\Users\\\\gckc1\\\\My Drive\\\\My programs\\\\Sierra\\\\review_list\"\n"
   ]
  },
  {
   "cell_type": "code",
   "execution_count": 5,
   "id": "646a480b-382c-4f13-8378-1122090b337e",
   "metadata": {},
   "outputs": [],
   "source": [
    "val_file_location = \"20240417_val_set.csv\"\n",
    "val_file = pd.read_csv(data_folder + \"\\\\\" + val_file_location)\n",
    "\n",
    "dev_file_location = \"20240417_dev_set_shuffled.csv\"\n",
    "dev_file = pd.read_csv(data_folder + \"\\\\\" + dev_file_location)\n",
    "\n",
    "val_heart_file_location = \"20240417_val_heart_set.csv\"\n",
    "val_heart_file = pd.read_csv(data_folder + \"\\\\\" + val_heart_file_location) \n",
    "\n",
    "val_HIV_file_location = \"20240417_val_HIV_set.csv\"\n",
    "val_HIV_file = pd.read_csv(data_folder + \"\\\\\" + val_HIV_file_location) "
   ]
  },
  {
   "cell_type": "code",
   "execution_count": 3,
   "id": "b94e68e5-5554-41a9-ab08-b37ceafa1fc2",
   "metadata": {},
   "outputs": [],
   "source": [
    "recode_dict = {0:0, 0.6:0.5, 1:1}\n",
    "dev_file[\"label\"] = dev_file[\"label\"].replace(recode_dict)\n",
    "val_file[\"label\"] = val_file[\"label\"].replace(recode_dict)\n",
    "val_heart_file[\"label\"] = val_heart_file[\"label\"].replace(recode_dict)\n",
    "val_HIV_file[\"label\"] = val_HIV_file[\"label\"].replace(recode_dict)\n",
    "\n"
   ]
  },
  {
   "cell_type": "code",
   "execution_count": 4,
   "id": "64412af2-dbc0-49cf-8bb4-2a153fcaf877",
   "metadata": {},
   "outputs": [],
   "source": [
    "dev_file[\"obj_sel\"] = dev_file[\"obj_sel\"].str.replace(r'^\\[OA\\]', '', regex=True)\n",
    "dev_file[\"tit_abs\"] = dev_file[\"tit_abs\"].str.replace(r'^ \\[OA\\]', '', regex=True)\n",
    "\n",
    "val_file[\"obj_sel\"] = val_file[\"obj_sel\"].str.replace(r'^\\[OA\\]', '', regex=True)\n",
    "val_file[\"tit_abs\"] = val_file[\"tit_abs\"].str.replace(r'^ \\[OA\\]', '', regex=True)\n",
    "\n",
    "val_heart_file[\"obj_sel\"] = val_heart_file[\"obj_sel\"].str.replace(r'^\\[OA\\]', '', regex=True)\n",
    "val_heart_file[\"tit_abs\"] = val_heart_file[\"tit_abs\"].str.replace(r'^ \\[OA\\]', '', regex=True)\n",
    "\n",
    "val_HIV_file[\"obj_sel\"] = val_HIV_file[\"obj_sel\"].str.replace(r'^\\[OA\\]', '', regex=True)\n",
    "val_HIV_file[\"tit_abs\"] = val_HIV_file[\"tit_abs\"].str.replace(r'^ \\[OA\\]', '', regex=True)\n",
    "\n",
    "dev_file[\"obj_sel\"] = dev_file[\"obj_sel\"].str.replace(r'^\\[BG\\]', ' [BG] ', regex=True)\n",
    "val_file[\"obj_sel\"] = val_file[\"obj_sel\"].str.replace(r'^\\[BG\\]', ' [BG] ', regex=True)\n",
    "val_heart_file[\"obj_sel\"] = val_heart_file[\"obj_sel\"].str.replace(r'^\\[BG\\]', ' [BG] ', regex=True)\n",
    "val_HIV_file[\"obj_sel\"] = val_HIV_file[\"obj_sel\"].str.replace(r'^\\[BG\\]', ' [BG] ', regex=True)"
   ]
  },
  {
   "cell_type": "code",
   "execution_count": 7,
   "id": "65e781a3-7221-4a30-87eb-027d4585f5d8",
   "metadata": {},
   "outputs": [
    {
     "data": {
      "text/plain": [
       "'[RTI] Abdominal decompression for suspected fetal compromise/pre‐eclampsia [BG] Abdominal decompression was developed as a means of pain relief during labour. It has also been used for complications of pregnancy, and in healthy pregnant women in an attempt to improve fetal wellbeing and intellectual development. [OBJ] The objective of this review was to assess the effects of antenatal abdominal decompression for maternal hypertension or impaired fetal growth, on perinatal outcome. [SEL] Randomised or quasi‐randomised trials comparing abdominal decompression with no decompression in women with pre‐eclampsia and/or fetuses thought to be compromised.'"
      ]
     },
     "execution_count": 7,
     "metadata": {},
     "output_type": "execute_result"
    }
   ],
   "source": [
    "val_file[\"obj_sel\"][0]"
   ]
  },
  {
   "cell_type": "code",
   "execution_count": 6,
   "id": "ae1bfa79-de28-4ce6-bc51-30a7e8e2ec74",
   "metadata": {},
   "outputs": [],
   "source": [
    "dev_file[\"obj_sel\"] = \"[RTI] \" + dev_file[\"Review_Title\"] + dev_file[\"obj_sel\"]\n",
    "val_file[\"obj_sel\"] = \"[RTI] \" + val_file[\"Review_Title\"] + val_file[\"obj_sel\"]\n",
    "val_heart_file[\"obj_sel\"] = \"[RTI] \" + val_heart_file[\"Review_Title\"] + val_heart_file[\"obj_sel\"]\n",
    "val_HIV_file[\"obj_sel\"] = \"[RTI] \" + val_HIV_file[\"Review_Title\"] + val_HIV_file[\"obj_sel\"]"
   ]
  },
  {
   "cell_type": "code",
   "execution_count": null,
   "id": "223de468-5185-414c-8ed5-afb0bdf29e06",
   "metadata": {},
   "outputs": [],
   "source": []
  },
  {
   "cell_type": "code",
   "execution_count": 8,
   "id": "57aea4a3-314e-415e-8571-5c3459804fb3",
   "metadata": {},
   "outputs": [],
   "source": [
    "dev_file_1 = dev_file[0:100000].copy()\n",
    "dev_file_2 = dev_file[100000:200000].copy()\n",
    "dev_file_3 = dev_file[200000:300000].copy()\n",
    "dev_file_4 = dev_file[300000:466975].copy()\n",
    "#val_file = val_file.sample(10000).copy()\n",
    "#val_file = val_file.sample(5000).copy()"
   ]
  },
  {
   "cell_type": "code",
   "execution_count": 9,
   "id": "6dddd3a2-d416-44ab-b3d0-0ca51068fe15",
   "metadata": {},
   "outputs": [],
   "source": [
    "val_HIV_set = Dataset.from_pandas(val_HIV_file)\n",
    "val_set = Dataset.from_pandas(val_file)\n",
    "dev_set_1 = Dataset.from_pandas(dev_file_1)\n",
    "dev_set_2 = Dataset.from_pandas(dev_file_2)\n",
    "dev_set_3 = Dataset.from_pandas(dev_file_3)\n",
    "dev_set_4 = Dataset.from_pandas(dev_file_4)\n",
    "val_heart_set = Dataset.from_pandas(val_heart_file)"
   ]
  },
  {
   "cell_type": "code",
   "execution_count": 2,
   "id": "4435b782-99e3-4b76-8e80-f5da5823c529",
   "metadata": {},
   "outputs": [],
   "source": [
    "model_ckpt = \"dmis-lab/biobert-large-cased-v1.1\"\n",
    "tokenizer = AutoTokenizer.from_pretrained(model_ckpt)\n",
    "model = AutoModel.from_pretrained(model_ckpt)"
   ]
  },
  {
   "cell_type": "code",
   "execution_count": 3,
   "id": "42a92504-a0a7-4ae3-8d70-778f68fb3f29",
   "metadata": {},
   "outputs": [],
   "source": [
    "new_tokens = [\"[RIT]\", \"[OBJ]\", \"[BG]\", \"[SEL]\", \"[TIT]\", \"[ABS]\"]\n",
    "num_added_toks = tokenizer.add_tokens(new_tokens)"
   ]
  },
  {
   "cell_type": "code",
   "execution_count": 4,
   "id": "15d199fe-79a2-48d0-8551-f643eca21994",
   "metadata": {},
   "outputs": [
    {
     "name": "stdout",
     "output_type": "stream",
     "text": [
      "Token [RIT] is in the vocabulary.\n",
      "Token [OBJ] is in the vocabulary.\n",
      "Token [BG] is in the vocabulary.\n",
      "Token [SEL] is in the vocabulary.\n",
      "Token [TIT] is in the vocabulary.\n",
      "Token [ABS] is in the vocabulary.\n",
      "New embedding size: 58996\n"
     ]
    },
    {
     "data": {
      "text/plain": [
       "Embedding(59002, 1024)"
      ]
     },
     "execution_count": 4,
     "metadata": {},
     "output_type": "execute_result"
    }
   ],
   "source": [
    "# Check if the new tokens are in the tokenizer\n",
    "for token in new_tokens:\n",
    "    if token in tokenizer.get_vocab():\n",
    "        print(f\"Token {token} is in the vocabulary.\")\n",
    "    else:\n",
    "        print(f\"Token {token} is not in the vocabulary.\")\n",
    "\n",
    "# Check the size of the new embeddings\n",
    "print(f\"New embedding size: {model.get_input_embeddings().num_embeddings}\")\n",
    "\n",
    "model.resize_token_embeddings(len(tokenizer))"
   ]
  },
  {
   "cell_type": "code",
   "execution_count": 45,
   "id": "47999229-34c4-438c-9d1a-b6987d3f0743",
   "metadata": {},
   "outputs": [],
   "source": [
    "def token(df_input):\n",
    "    df = Dataset.from_pandas(df_input.copy())\n",
    "    for part in [\"obj_sel\", \"tit_abs\"]:\n",
    "        df = df.map(\n",
    "            lambda x:  tokenizer(\n",
    "                x[part], max_length = 512, padding = True, truncation = True\n",
    "            ), batched = True, batch_size = None\n",
    "        )\n",
    "        for col in ['input_ids', 'attention_mask']:\n",
    "            df = df.rename_column(\n",
    "                col, part+\"_\"+col\n",
    "            )\n",
    "    return(df)"
   ]
  },
  {
   "cell_type": "code",
   "execution_count": 14,
   "id": "14cd48b5-7b02-43cf-9b8a-e9befb8d364a",
   "metadata": {},
   "outputs": [
    {
     "data": {
      "application/vnd.jupyter.widget-view+json": {
       "model_id": "",
       "version_major": 2,
       "version_minor": 0
      },
      "text/plain": [
       "Map:   0%|          | 0/4400 [00:00<?, ? examples/s]"
      ]
     },
     "metadata": {},
     "output_type": "display_data"
    },
    {
     "data": {
      "application/vnd.jupyter.widget-view+json": {
       "model_id": "",
       "version_major": 2,
       "version_minor": 0
      },
      "text/plain": [
       "Map:   0%|          | 0/4400 [00:00<?, ? examples/s]"
      ]
     },
     "metadata": {},
     "output_type": "display_data"
    },
    {
     "data": {
      "application/vnd.jupyter.widget-view+json": {
       "model_id": "",
       "version_major": 2,
       "version_minor": 0
      },
      "text/plain": [
       "Map:   0%|          | 0/53943 [00:00<?, ? examples/s]"
      ]
     },
     "metadata": {},
     "output_type": "display_data"
    },
    {
     "data": {
      "application/vnd.jupyter.widget-view+json": {
       "model_id": "",
       "version_major": 2,
       "version_minor": 0
      },
      "text/plain": [
       "Map:   0%|          | 0/53943 [00:00<?, ? examples/s]"
      ]
     },
     "metadata": {},
     "output_type": "display_data"
    },
    {
     "data": {
      "application/vnd.jupyter.widget-view+json": {
       "model_id": "",
       "version_major": 2,
       "version_minor": 0
      },
      "text/plain": [
       "Map:   0%|          | 0/100000 [00:00<?, ? examples/s]"
      ]
     },
     "metadata": {},
     "output_type": "display_data"
    },
    {
     "data": {
      "application/vnd.jupyter.widget-view+json": {
       "model_id": "",
       "version_major": 2,
       "version_minor": 0
      },
      "text/plain": [
       "Map:   0%|          | 0/100000 [00:00<?, ? examples/s]"
      ]
     },
     "metadata": {},
     "output_type": "display_data"
    },
    {
     "data": {
      "application/vnd.jupyter.widget-view+json": {
       "model_id": "",
       "version_major": 2,
       "version_minor": 0
      },
      "text/plain": [
       "Map:   0%|          | 0/100000 [00:00<?, ? examples/s]"
      ]
     },
     "metadata": {},
     "output_type": "display_data"
    },
    {
     "data": {
      "application/vnd.jupyter.widget-view+json": {
       "model_id": "",
       "version_major": 2,
       "version_minor": 0
      },
      "text/plain": [
       "Map:   0%|          | 0/100000 [00:00<?, ? examples/s]"
      ]
     },
     "metadata": {},
     "output_type": "display_data"
    },
    {
     "data": {
      "application/vnd.jupyter.widget-view+json": {
       "model_id": "",
       "version_major": 2,
       "version_minor": 0
      },
      "text/plain": [
       "Map:   0%|          | 0/100000 [00:00<?, ? examples/s]"
      ]
     },
     "metadata": {},
     "output_type": "display_data"
    },
    {
     "data": {
      "application/vnd.jupyter.widget-view+json": {
       "model_id": "",
       "version_major": 2,
       "version_minor": 0
      },
      "text/plain": [
       "Map:   0%|          | 0/100000 [00:00<?, ? examples/s]"
      ]
     },
     "metadata": {},
     "output_type": "display_data"
    },
    {
     "data": {
      "application/vnd.jupyter.widget-view+json": {
       "model_id": "",
       "version_major": 2,
       "version_minor": 0
      },
      "text/plain": [
       "Map:   0%|          | 0/166975 [00:00<?, ? examples/s]"
      ]
     },
     "metadata": {},
     "output_type": "display_data"
    },
    {
     "data": {
      "application/vnd.jupyter.widget-view+json": {
       "model_id": "",
       "version_major": 2,
       "version_minor": 0
      },
      "text/plain": [
       "Map:   0%|          | 0/166975 [00:00<?, ? examples/s]"
      ]
     },
     "metadata": {},
     "output_type": "display_data"
    },
    {
     "data": {
      "application/vnd.jupyter.widget-view+json": {
       "model_id": "",
       "version_major": 2,
       "version_minor": 0
      },
      "text/plain": [
       "Map:   0%|          | 0/18839 [00:00<?, ? examples/s]"
      ]
     },
     "metadata": {},
     "output_type": "display_data"
    },
    {
     "data": {
      "application/vnd.jupyter.widget-view+json": {
       "model_id": "",
       "version_major": 2,
       "version_minor": 0
      },
      "text/plain": [
       "Map:   0%|          | 0/18839 [00:00<?, ? examples/s]"
      ]
     },
     "metadata": {},
     "output_type": "display_data"
    }
   ],
   "source": [
    "val_HIV_set = token(val_HIV_file)\n",
    "val_set = token(val_file)\n",
    "dev_set_1 = token(dev_file_1)\n",
    "dev_set_2 = token(dev_file_2)\n",
    "dev_set_3 = token(dev_file_3)\n",
    "dev_set_4 = token(dev_file_4)\n",
    "val_heart_set = token(val_heart_file)"
   ]
  },
  {
   "cell_type": "code",
   "execution_count": 15,
   "id": "a692d581-4267-4464-9c0c-7586f6e3a0e2",
   "metadata": {},
   "outputs": [],
   "source": [
    "all_cols = ['label', 'obj_sel_input_ids', 'obj_sel_attention_mask', 'tit_abs_input_ids', 'tit_abs_attention_mask']\n"
   ]
  },
  {
   "cell_type": "code",
   "execution_count": 16,
   "id": "b83f24d8-928b-46a9-8b9c-0b7814e47e6c",
   "metadata": {},
   "outputs": [],
   "source": [
    "tmp1 = dev_set_1.to_pandas()\n",
    "tmp2 = dev_set_2.to_pandas()\n",
    "tmp3 = dev_set_3.to_pandas()\n",
    "tmp4 = dev_set_4.to_pandas()\n",
    "\n",
    "tmp = pd.concat([tmp1, tmp2, tmp3, tmp4], ignore_index = True)\n",
    "\n",
    "dev_set = Dataset.from_pandas(tmp)"
   ]
  },
  {
   "cell_type": "code",
   "execution_count": 17,
   "id": "3fcb2a47-efd7-4514-a56a-0af7dbe0baa3",
   "metadata": {},
   "outputs": [],
   "source": [
    "dev_set.set_format(type = 'torch', columns = all_cols)\n",
    "val_set.set_format(type = 'torch', columns = all_cols)"
   ]
  },
  {
   "cell_type": "code",
   "execution_count": null,
   "id": "bc079f13-a0c5-484a-b117-13425a578eb5",
   "metadata": {},
   "outputs": [],
   "source": []
  },
  {
   "cell_type": "code",
   "execution_count": null,
   "id": "b58233f1-2d74-4794-ad21-b85cf7865297",
   "metadata": {},
   "outputs": [],
   "source": []
  },
  {
   "cell_type": "code",
   "execution_count": null,
   "id": "2071059c-32f3-45f3-ad60-6b37d045a9e5",
   "metadata": {},
   "outputs": [],
   "source": []
  },
  {
   "cell_type": "code",
   "execution_count": 18,
   "id": "4c3856a1-7bad-4a4f-bbf3-c6e18412f894",
   "metadata": {},
   "outputs": [],
   "source": [
    "batch_size = 32\n",
    "loader = torch.utils.data.DataLoader(\n",
    "    dev_set, batch_size=batch_size, shuffle = True)"
   ]
  },
  {
   "cell_type": "code",
   "execution_count": null,
   "id": "e49bc64c-44a6-4111-8ff9-4a4fe7ddb9d4",
   "metadata": {},
   "outputs": [],
   "source": []
  },
  {
   "cell_type": "code",
   "execution_count": 5,
   "id": "f23b40ba-23f8-40b5-b585-19b34635119e",
   "metadata": {},
   "outputs": [],
   "source": [
    "def mean_pool(token_embeds, attention_mask):\n",
    "    in_mask = attention_mask.unsqueeze(-1).expand(token_embeds.size()).float()\n",
    "    pool = torch.sum(token_embeds * in_mask, 1) / torch.clamp(\n",
    "        in_mask.sum(1), min=1e-9\n",
    "    )\n",
    "    return pool\n",
    "    "
   ]
  },
  {
   "cell_type": "code",
   "execution_count": 20,
   "id": "e4a1a02e-fce3-45e6-8814-6c27842e922f",
   "metadata": {},
   "outputs": [],
   "source": [
    "ffnn = torch.nn.Linear(1024*3, 1)"
   ]
  },
  {
   "cell_type": "code",
   "execution_count": null,
   "id": "b331c99e-38af-4f88-a05b-b8ccb64017e5",
   "metadata": {},
   "outputs": [],
   "source": []
  },
  {
   "cell_type": "code",
   "execution_count": 21,
   "id": "8f856000-9bb5-4bc4-ae64-89cad6abc9bb",
   "metadata": {},
   "outputs": [],
   "source": [
    "loss_func = torch.nn.MSELoss()"
   ]
  },
  {
   "cell_type": "code",
   "execution_count": 22,
   "id": "2682213f-335e-407f-a436-3e829c512668",
   "metadata": {},
   "outputs": [],
   "source": [
    "from transformers.optimization import get_linear_schedule_with_warmup\n",
    "\n",
    "optim = torch.optim.Adam(model.parameters(), lr = 2e-5)\n",
    "total_steps = int(len(dev_set) / batch_size)\n",
    "warmup_steps = 500\n",
    "scheduler = get_linear_schedule_with_warmup(\n",
    "    optim, num_warmup_steps=warmup_steps,\n",
    "    num_training_steps=total_steps - warmup_steps\n",
    ")\n",
    "\n",
    "\n"
   ]
  },
  {
   "cell_type": "code",
   "execution_count": 23,
   "id": "7301f268-2767-4fe8-8540-db6105811581",
   "metadata": {},
   "outputs": [],
   "source": [
    "import torch.nn as nn\n",
    "\n",
    "model = nn.DataParallel(model)\n",
    "ffnn = nn.DataParallel(ffnn)"
   ]
  },
  {
   "cell_type": "code",
   "execution_count": null,
   "id": "8fc74370-5694-461a-9831-953ffb958083",
   "metadata": {},
   "outputs": [],
   "source": []
  },
  {
   "cell_type": "code",
   "execution_count": 24,
   "id": "005ec8d4-8225-4cd4-9149-f5a0b438ffd2",
   "metadata": {},
   "outputs": [],
   "source": [
    "model = model.to(device)\n",
    "ffnn = ffnn.to(device)"
   ]
  },
  {
   "cell_type": "code",
   "execution_count": 25,
   "id": "e1251656-62f3-475e-a86b-b26bf741240f",
   "metadata": {},
   "outputs": [
    {
     "data": {
      "application/vnd.jupyter.widget-view+json": {
       "model_id": "d292178cb2404c9da7a43efd59a5bbab",
       "version_major": 2,
       "version_minor": 0
      },
      "text/plain": [
       "  0%|          | 0/14593 [00:00<?, ?it/s]"
      ]
     },
     "metadata": {},
     "output_type": "display_data"
    },
    {
     "name": "stderr",
     "output_type": "stream",
     "text": [
      "C:\\Users\\gckc1\\anaconda3\\envs\\Sierra\\Lib\\site-packages\\torch\\cuda\\nccl.py:15: UserWarning: PyTorch is not compiled with NCCL support\n",
      "  warnings.warn(\"PyTorch is not compiled with NCCL support\")\n"
     ]
    }
   ],
   "source": [
    "for epoch in range(1):\n",
    "    model.train()\n",
    "    loop = tqdm(loader, leave= True)\n",
    "    for batch in loop:\n",
    "        optim.zero_grad()\n",
    "        inputs_ids_a = batch['obj_sel_input_ids'].to(device)\n",
    "        inputs_ids_b = batch['tit_abs_input_ids'].to(device)\n",
    "        attention_a = batch['obj_sel_attention_mask'].to(device)\n",
    "        attention_b = batch['tit_abs_attention_mask'].to(device)\n",
    "        label = batch['label'].to(device)\n",
    "        u = model(inputs_ids_a, attention_mask = attention_a)[0]\n",
    "        v = model(inputs_ids_b, attention_mask = attention_b)[0]\n",
    "        u = mean_pool(u, attention_a)\n",
    "        v = mean_pool(v, attention_b)\n",
    "        uv = torch.sub(u, v)\n",
    "        uv_abs = torch.abs(uv)\n",
    "        x = torch.cat([u, v, uv_abs], dim = -1)\n",
    "        x = ffnn(x)\n",
    "        x = x.squeeze()\n",
    "        loss = loss_func(x, label)\n",
    "        loss.backward()\n",
    "        optim.step()\n",
    "        scheduler.step()\n",
    "        loop.set_description(f'Epoch {epoch}')\n",
    "        loop.set_postfix(loss=loss.item())"
   ]
  },
  {
   "cell_type": "code",
   "execution_count": null,
   "id": "7af77331-8438-4181-8c85-3b95a57f6d0a",
   "metadata": {},
   "outputs": [],
   "source": []
  },
  {
   "cell_type": "code",
   "execution_count": 26,
   "id": "fa08cf41-761b-475c-9142-2d57270127bc",
   "metadata": {},
   "outputs": [],
   "source": [
    "torch.save(model, model_folder + \"\\\\20240417_biobert_relevance_title_bg\\\\\" + '20240417_biobert_relevance.pth')\n",
    "torch.save(ffnn, model_folder + \"\\\\20240417_biobert_relevance_title_bg\\\\\" + '20240417_ffnn_relevance.pth')"
   ]
  },
  {
   "cell_type": "code",
   "execution_count": null,
   "id": "1db555c2-1027-4a66-a769-64a3fb7f4495",
   "metadata": {},
   "outputs": [],
   "source": []
  },
  {
   "cell_type": "code",
   "execution_count": null,
   "id": "bc918e24-e925-427f-8166-6ebe955abe83",
   "metadata": {},
   "outputs": [],
   "source": [
    "####################################################################"
   ]
  },
  {
   "cell_type": "code",
   "execution_count": 6,
   "id": "082ea3fa-186e-40e8-9322-8e61e8754236",
   "metadata": {},
   "outputs": [],
   "source": [
    "val_1_file_location = \"20240419_val_1_rti_bg_obj_sel_output.csv\"\n",
    "val_1_file = pd.read_csv(data_folder + \"\\\\\" + val_1_file_location)\n",
    "\n",
    "val_2_file_location = \"20240419_val_2_rti_bg_obj_sel_output.csv\"\n",
    "val_2_file = pd.read_csv(data_folder + \"\\\\\" + val_2_file_location)\n",
    "\n",
    "val_heart_file_location = \"20240419_val_heart_rti_bg_obj_sel_output.csv\"\n",
    "val_heart_file = pd.read_csv(data_folder + \"\\\\\" + val_heart_file_location) \n",
    "\n",
    "val_HIV_file_location = \"20240419_val_HIV_rti_bg_obj_sel_output.csv\"\n",
    "val_HIV_file = pd.read_csv(data_folder + \"\\\\\" + val_HIV_file_location) "
   ]
  },
  {
   "cell_type": "code",
   "execution_count": 7,
   "id": "46efe3f0-ac88-459a-9804-55d6ed0a1731",
   "metadata": {},
   "outputs": [],
   "source": [
    "val_HIV_file = val_HIV_file.drop(['obj_sel_input_ids', 'token_type_ids', \"obj_sel_attention_mask\", \"tit_abs_input_ids\",\"tit_abs_attention_mask\"], axis=1).copy()\n",
    "val_heart_file = val_heart_file.drop(['obj_sel_input_ids', 'token_type_ids', \"obj_sel_attention_mask\", \"tit_abs_input_ids\",\"tit_abs_attention_mask\"], axis=1).copy()\n",
    "val_1_file = val_1_file.drop(['obj_sel_input_ids', 'token_type_ids', \"obj_sel_attention_mask\", \"tit_abs_input_ids\",\"tit_abs_attention_mask\"], axis=1).copy()\n",
    "val_2_file = val_2_file.drop(['obj_sel_input_ids', 'token_type_ids', \"obj_sel_attention_mask\", \"tit_abs_input_ids\",\"tit_abs_attention_mask\"], axis=1).copy()"
   ]
  },
  {
   "cell_type": "code",
   "execution_count": 8,
   "id": "77942124-46ae-4bf9-abd1-c13e3690917e",
   "metadata": {},
   "outputs": [],
   "source": [
    "val_heart_additional = pd.read_csv(data_folder + \"\\\\\" + \"20240504_val_heart_set_additional.csv\")"
   ]
  },
  {
   "cell_type": "code",
   "execution_count": null,
   "id": "9733eecc-a242-4ccc-bbea-b63994a95365",
   "metadata": {},
   "outputs": [],
   "source": []
  },
  {
   "cell_type": "code",
   "execution_count": 9,
   "id": "b6dbfb76-436b-49de-88b8-cadf716f595b",
   "metadata": {},
   "outputs": [],
   "source": [
    "val_heart_file = val_heart_file[['Review_URL', 'Objective', 'Selection_criteria',\n",
    "       'Title', 'Abstract_clean', 'label', 'obj_sel', 'tit_abs', 'Background','Review_Title']].copy()"
   ]
  },
  {
   "cell_type": "code",
   "execution_count": 10,
   "id": "e943baa2-5061-4fcb-969b-7622e29f64a8",
   "metadata": {},
   "outputs": [],
   "source": [
    "val_heart_additional = val_heart_additional[['Review_URL', 'Objective', 'Selection_criteria',\n",
    "       'Title', 'Abstract_clean', 'label', 'obj_sel', 'tit_abs', 'Background','Review_Title']].copy()"
   ]
  },
  {
   "cell_type": "code",
   "execution_count": 11,
   "id": "42fa07c4-eeb7-494f-bda2-f0204daeb026",
   "metadata": {},
   "outputs": [],
   "source": [
    "val_heart_additional[\"obj_sel\"] = \"[RTI] \" + val_heart_additional[\"Review_Title\"] + \" [BG] \" + val_heart_additional[\"Background\"].fillna(\"\") + \" [OBJ] \" + val_heart_additional[\"Objective\"].fillna(\"\") + \" [SEL] \" + val_heart_additional[\"Selection_criteria\"].fillna(\"\")"
   ]
  },
  {
   "cell_type": "code",
   "execution_count": 12,
   "id": "1331aac7-29d3-4987-bd36-3bfc9a8c0123",
   "metadata": {},
   "outputs": [],
   "source": [
    "val_1_file[\"obj_sel\"] = \"[RTI] \" + val_1_file[\"Review_Title\"] + \" [BG] \" + val_1_file[\"Background\"].fillna(\"\") + \" [OBJ] \" + val_1_file[\"Objective\"].fillna(\"\") + \" [SEL] \" + val_1_file[\"Selection_criteria\"].fillna(\"\")\n",
    "val_2_file[\"obj_sel\"] = \"[RTI] \" + val_2_file[\"Review_Title\"] + \" [BG] \" + val_2_file[\"Background\"].fillna(\"\") + \" [OBJ] \" + val_2_file[\"Objective\"].fillna(\"\") + \" [SEL] \" + val_2_file[\"Selection_criteria\"].fillna(\"\")\n",
    "val_heart_file[\"obj_sel\"] = \"[RTI] \" + val_heart_file[\"Review_Title\"] + \" [BG] \" + val_heart_file[\"Background\"].fillna(\"\") + \" [OBJ] \" + val_heart_file[\"Objective\"].fillna(\"\") + \" [SEL] \" + val_heart_file[\"Selection_criteria\"].fillna(\"\")\n",
    "val_HIV_file[\"obj_sel\"] = \"[RTI] \" + val_HIV_file[\"Review_Title\"] + \" [BG] \" + val_HIV_file[\"Background\"].fillna(\"\") + \" [OBJ] \" + val_HIV_file[\"Objective\"].fillna(\"\") + \" [SEL] \" + val_HIV_file[\"Selection_criteria\"].fillna(\"\")"
   ]
  },
  {
   "cell_type": "code",
   "execution_count": 13,
   "id": "7f08c0d3-966c-44c9-9dbc-dad1867f336f",
   "metadata": {},
   "outputs": [
    {
     "name": "stdout",
     "output_type": "stream",
     "text": [
      "18839\n",
      "230\n"
     ]
    }
   ],
   "source": [
    "print(len(val_heart_file))\n",
    "print(len(val_heart_additional))"
   ]
  },
  {
   "cell_type": "code",
   "execution_count": 15,
   "id": "588875ef-6ccb-4d02-b15a-6ab41eb07a6f",
   "metadata": {},
   "outputs": [],
   "source": [
    "val_heart_file = pd.concat([val_heart_file, val_heart_additional], ignore_index = True)"
   ]
  },
  {
   "cell_type": "code",
   "execution_count": 16,
   "id": "198b9c62-7a76-458e-8c05-894ee6fab3e9",
   "metadata": {},
   "outputs": [
    {
     "name": "stdout",
     "output_type": "stream",
     "text": [
      "19069\n"
     ]
    }
   ],
   "source": [
    "print(len(val_heart_file))"
   ]
  },
  {
   "cell_type": "code",
   "execution_count": 17,
   "id": "6f2d68e8-4b5c-4216-812f-c32c23b6072e",
   "metadata": {},
   "outputs": [],
   "source": [
    "val_1_set = Dataset.from_pandas(val_1_file)\n",
    "val_2_set = Dataset.from_pandas(val_2_file)\n",
    "val_heart_set = Dataset.from_pandas(val_heart_file)\n",
    "val_HIV_set = Dataset.from_pandas(val_HIV_file)"
   ]
  },
  {
   "cell_type": "code",
   "execution_count": 18,
   "id": "5cc023c9-87b9-44e2-9d67-fa68dc3d1c9a",
   "metadata": {},
   "outputs": [],
   "source": [
    "def token(df_input):\n",
    "    df = Dataset.from_pandas(df_input.copy())\n",
    "    for part in [\"obj_sel\", \"tit_abs\"]:\n",
    "        df = df.map(\n",
    "            lambda x:  tokenizer(\n",
    "                x[part], max_length = 512, padding = True, truncation = True\n",
    "            ), batched = True, batch_size = None\n",
    "        )\n",
    "        for col in ['input_ids', 'attention_mask']:\n",
    "            df = df.rename_column(\n",
    "                col, part+\"_\"+col\n",
    "            )\n",
    "    return(df)"
   ]
  },
  {
   "cell_type": "code",
   "execution_count": 19,
   "id": "31d0f9fd-6c9b-4b7c-833c-13a112c8c3eb",
   "metadata": {},
   "outputs": [
    {
     "data": {
      "application/vnd.jupyter.widget-view+json": {
       "model_id": "",
       "version_major": 2,
       "version_minor": 0
      },
      "text/plain": [
       "Map:   0%|          | 0/19069 [00:00<?, ? examples/s]"
      ]
     },
     "metadata": {},
     "output_type": "display_data"
    },
    {
     "data": {
      "application/vnd.jupyter.widget-view+json": {
       "model_id": "",
       "version_major": 2,
       "version_minor": 0
      },
      "text/plain": [
       "Map:   0%|          | 0/19069 [00:00<?, ? examples/s]"
      ]
     },
     "metadata": {},
     "output_type": "display_data"
    },
    {
     "data": {
      "application/vnd.jupyter.widget-view+json": {
       "model_id": "",
       "version_major": 2,
       "version_minor": 0
      },
      "text/plain": [
       "Map:   0%|          | 0/4400 [00:00<?, ? examples/s]"
      ]
     },
     "metadata": {},
     "output_type": "display_data"
    },
    {
     "data": {
      "application/vnd.jupyter.widget-view+json": {
       "model_id": "",
       "version_major": 2,
       "version_minor": 0
      },
      "text/plain": [
       "Map:   0%|          | 0/4400 [00:00<?, ? examples/s]"
      ]
     },
     "metadata": {},
     "output_type": "display_data"
    },
    {
     "data": {
      "application/vnd.jupyter.widget-view+json": {
       "model_id": "",
       "version_major": 2,
       "version_minor": 0
      },
      "text/plain": [
       "Map:   0%|          | 0/26892 [00:00<?, ? examples/s]"
      ]
     },
     "metadata": {},
     "output_type": "display_data"
    },
    {
     "data": {
      "application/vnd.jupyter.widget-view+json": {
       "model_id": "",
       "version_major": 2,
       "version_minor": 0
      },
      "text/plain": [
       "Map:   0%|          | 0/26892 [00:00<?, ? examples/s]"
      ]
     },
     "metadata": {},
     "output_type": "display_data"
    },
    {
     "data": {
      "application/vnd.jupyter.widget-view+json": {
       "model_id": "",
       "version_major": 2,
       "version_minor": 0
      },
      "text/plain": [
       "Map:   0%|          | 0/27051 [00:00<?, ? examples/s]"
      ]
     },
     "metadata": {},
     "output_type": "display_data"
    },
    {
     "data": {
      "application/vnd.jupyter.widget-view+json": {
       "model_id": "",
       "version_major": 2,
       "version_minor": 0
      },
      "text/plain": [
       "Map:   0%|          | 0/27051 [00:00<?, ? examples/s]"
      ]
     },
     "metadata": {},
     "output_type": "display_data"
    }
   ],
   "source": [
    "val_heart_set = token(val_heart_file)\n",
    "val_HIV_set = token(val_HIV_file)\n",
    "val_1_set = token(val_1_file)\n",
    "val_2_set = token(val_2_file)"
   ]
  },
  {
   "cell_type": "code",
   "execution_count": null,
   "id": "f0e1f006-5d04-488f-bf24-1f6be305fac2",
   "metadata": {},
   "outputs": [],
   "source": []
  },
  {
   "cell_type": "code",
   "execution_count": 20,
   "id": "2a4081f8-70f4-4191-a3d6-4ac05101056d",
   "metadata": {},
   "outputs": [],
   "source": [
    "all_cols = ['label', 'obj_sel_input_ids', 'obj_sel_attention_mask', 'tit_abs_input_ids', 'tit_abs_attention_mask']"
   ]
  },
  {
   "cell_type": "code",
   "execution_count": 21,
   "id": "e47169ea-fdbf-46a9-acce-87599de9cd7e",
   "metadata": {},
   "outputs": [],
   "source": [
    "val_1_set.set_format(type = 'torch', columns = all_cols)\n",
    "val_2_set.set_format(type = 'torch', columns = all_cols)\n",
    "val_heart_set.set_format(type = 'torch', columns = all_cols)\n",
    "val_HIV_set.set_format(type = 'torch', columns = all_cols)"
   ]
  },
  {
   "cell_type": "code",
   "execution_count": 22,
   "id": "409a519e-120a-4f45-9965-945b71aa8ddb",
   "metadata": {},
   "outputs": [],
   "source": [
    "model = torch.load(model_folder + \"\\\\20240417_biobert_relevance_title_bg\\\\\" + '20240417_biobert_relevance.pth')\n",
    "ffnn = torch.load(model_folder + \"\\\\20240417_biobert_relevance_title_bg\\\\\" + '20240417_ffnn_relevance.pth')\n",
    "\n",
    "model = model.to(device)\n",
    "ffnn = ffnn.to(device)"
   ]
  },
  {
   "cell_type": "code",
   "execution_count": null,
   "id": "b200bf28-88d8-4872-a632-3807ccfe3198",
   "metadata": {},
   "outputs": [],
   "source": []
  },
  {
   "cell_type": "code",
   "execution_count": 23,
   "id": "a4eb7cb0-6e5c-4f59-ae69-848767006834",
   "metadata": {},
   "outputs": [],
   "source": [
    "from torch.utils.data import DataLoader\n",
    "val_1_loader = DataLoader(val_1_set, batch_size = 64, shuffle = False)\n",
    "val_2_loader = DataLoader(val_2_set, batch_size = 64, shuffle = False)\n",
    "val_heart_loader = DataLoader(val_heart_set, batch_size = 64, shuffle = False)\n",
    "val_HIV_loader = DataLoader(val_HIV_set, batch_size = 64, shuffle = False)"
   ]
  },
  {
   "cell_type": "code",
   "execution_count": 90,
   "id": "60eca554-4562-49a2-a315-fc3e12cdd365",
   "metadata": {},
   "outputs": [],
   "source": []
  },
  {
   "cell_type": "code",
   "execution_count": 24,
   "id": "d4ca80fc-da11-4bd7-940b-2f9956d38b89",
   "metadata": {},
   "outputs": [],
   "source": [
    "def evaluate_model(model, ffnn, data_loader, device):\n",
    "    model.eval()\n",
    "    ffnn.eval()\n",
    "    all_outputs = []\n",
    "    predictions = []\n",
    "    all_labels = []\n",
    "    with torch.no_grad():\n",
    "        for batch in tqdm(data_loader, desc=\"Evaluating\", leave = True):\n",
    "            inputs_ids_a = batch['obj_sel_input_ids'].to(device)\n",
    "            inputs_ids_b = batch['tit_abs_input_ids'].to(device)\n",
    "            attention_a = batch['obj_sel_attention_mask'].to(device)\n",
    "            attention_b = batch['tit_abs_attention_mask'].to(device)\n",
    "            labels = batch['label'].to(device)\n",
    "\n",
    "            u = model(inputs_ids_a, attention_mask = attention_a)[0]\n",
    "            v = model(inputs_ids_b, attention_mask = attention_b)[0]\n",
    "            u = mean_pool(u, attention_a)\n",
    "            v = mean_pool(v, attention_b)\n",
    "            uv = torch.sub(u, v)\n",
    "            uv_abs = torch.abs(uv)\n",
    "            outputs = torch.cat([u, v, uv_abs], dim= -1)\n",
    "            outputs = ffnn(outputs)\n",
    "            \n",
    "            all_labels.extend(labels.cpu().numpy())\n",
    "            all_outputs.append(outputs.cpu().numpy())\n",
    "    all_outputs = np.vstack(all_outputs)\n",
    "    return all_labels, all_outputs"
   ]
  },
  {
   "cell_type": "code",
   "execution_count": 25,
   "id": "795938cf-77e1-4745-b7d5-f778c3b27a9f",
   "metadata": {},
   "outputs": [
    {
     "data": {
      "application/vnd.jupyter.widget-view+json": {
       "model_id": "6e889221f3d44818b53be0c87e064d45",
       "version_major": 2,
       "version_minor": 0
      },
      "text/plain": [
       "Evaluating:   0%|          | 0/298 [00:00<?, ?it/s]"
      ]
     },
     "metadata": {},
     "output_type": "display_data"
    }
   ],
   "source": [
    "val_heart_labels, val_heart_outputs = evaluate_model(model, ffnn, val_heart_loader, device)\n",
    "val_heart_outputs = val_heart_outputs.squeeze()"
   ]
  },
  {
   "cell_type": "code",
   "execution_count": 26,
   "id": "f3657f1a-a20b-4a11-add7-908651f4cffd",
   "metadata": {},
   "outputs": [
    {
     "data": {
      "application/vnd.jupyter.widget-view+json": {
       "model_id": "4a3cd8568f5e48c894cb04892ac5b01e",
       "version_major": 2,
       "version_minor": 0
      },
      "text/plain": [
       "Evaluating:   0%|          | 0/421 [00:00<?, ?it/s]"
      ]
     },
     "metadata": {},
     "output_type": "display_data"
    },
    {
     "data": {
      "application/vnd.jupyter.widget-view+json": {
       "model_id": "68eeb58beb0c4041b5bfc0e6bc468b1d",
       "version_major": 2,
       "version_minor": 0
      },
      "text/plain": [
       "Evaluating:   0%|          | 0/423 [00:00<?, ?it/s]"
      ]
     },
     "metadata": {},
     "output_type": "display_data"
    },
    {
     "data": {
      "application/vnd.jupyter.widget-view+json": {
       "model_id": "57dd854db74b4442b747018cb8c526ab",
       "version_major": 2,
       "version_minor": 0
      },
      "text/plain": [
       "Evaluating:   0%|          | 0/69 [00:00<?, ?it/s]"
      ]
     },
     "metadata": {},
     "output_type": "display_data"
    }
   ],
   "source": [
    "val_1_labels, val_1_outputs = evaluate_model(model, ffnn, val_1_loader, device)\n",
    "val_2_labels, val_2_outputs = evaluate_model(model, ffnn, val_2_loader, device)\n",
    "\n",
    "val_HIV_labels, val_HIV_outputs = evaluate_model(model, ffnn, val_HIV_loader, device)\n"
   ]
  },
  {
   "cell_type": "code",
   "execution_count": 27,
   "id": "9395cc5d-add3-4c92-a6bd-0a3a03f6560f",
   "metadata": {},
   "outputs": [],
   "source": [
    "val_1_outputs = val_1_outputs.squeeze()\n",
    "val_2_outputs = val_2_outputs.squeeze()\n",
    "val_HIV_outputs = val_HIV_outputs.squeeze()"
   ]
  },
  {
   "cell_type": "code",
   "execution_count": 28,
   "id": "d6893dd6-f671-4fa3-b152-b8ab97fb05fe",
   "metadata": {},
   "outputs": [],
   "source": [
    "def summary_stats(labels, outputs):\n",
    "    predictions_df = pd.DataFrame({\n",
    "        'Outputs': outputs,\n",
    "        'Actual Labels': labels\n",
    "    })\n",
    "    print(predictions_df[\"Actual Labels\"].value_counts())\n",
    "    grouped_stats = predictions_df.groupby(\"Actual Labels\")[\"Outputs\"].describe()\n",
    "    print(grouped_stats)"
   ]
  },
  {
   "cell_type": "code",
   "execution_count": 29,
   "id": "f384db0a-db5c-4f7f-8f41-43fefaba50fc",
   "metadata": {},
   "outputs": [
    {
     "name": "stdout",
     "output_type": "stream",
     "text": [
      "Actual Labels\n",
      "0.0    12425\n",
      "0.5     9922\n",
      "1.0     4545\n",
      "Name: count, dtype: int64\n",
      "                 count      mean       std       min       25%       50%  \\\n",
      "Actual Labels                                                              \n",
      "0.0            12425.0  0.065196  0.155275 -0.176678 -0.019180  0.016671   \n",
      "0.5             9922.0  0.527589  0.218224 -0.159220  0.394899  0.566736   \n",
      "1.0             4545.0  0.737404  0.143718 -0.019539  0.654779  0.749799   \n",
      "\n",
      "                    75%       max  \n",
      "Actual Labels                      \n",
      "0.0            0.073987  0.966113  \n",
      "0.5            0.682339  1.082599  \n",
      "1.0            0.835948  1.143566  \n"
     ]
    }
   ],
   "source": [
    "summary_stats(val_1_labels, val_1_outputs)"
   ]
  },
  {
   "cell_type": "code",
   "execution_count": 30,
   "id": "5176872d-65bf-4cb2-b0ff-40f12786ad8c",
   "metadata": {},
   "outputs": [
    {
     "name": "stdout",
     "output_type": "stream",
     "text": [
      "Actual Labels\n",
      "0.0    13020\n",
      "0.5     9448\n",
      "1.0     4583\n",
      "Name: count, dtype: int64\n",
      "                 count      mean       std       min       25%       50%  \\\n",
      "Actual Labels                                                              \n",
      "0.0            13020.0  0.076969  0.170574 -0.230453 -0.016373  0.020869   \n",
      "0.5             9448.0  0.536438  0.209033 -0.158068  0.416911  0.570915   \n",
      "1.0             4583.0  0.731174  0.147334  0.001739  0.643870  0.741005   \n",
      "\n",
      "                    75%       max  \n",
      "Actual Labels                      \n",
      "0.0            0.087171  1.047239  \n",
      "0.5            0.685462  1.010483  \n",
      "1.0            0.832999  1.113363  \n"
     ]
    }
   ],
   "source": [
    "summary_stats(val_2_labels, val_2_outputs)"
   ]
  },
  {
   "cell_type": "code",
   "execution_count": 31,
   "id": "1e91bd70-c605-4a26-b132-d6ed5f314b4a",
   "metadata": {},
   "outputs": [
    {
     "name": "stdout",
     "output_type": "stream",
     "text": [
      "Actual Labels\n",
      "0.5    9500\n",
      "0.0    7063\n",
      "1.0    2506\n",
      "Name: count, dtype: int64\n",
      "                count      mean       std       min       25%       50%  \\\n",
      "Actual Labels                                                             \n",
      "0.0            7063.0  0.088811  0.166890 -0.302011 -0.005941  0.030300   \n",
      "0.5            9500.0  0.515467  0.195144 -0.069821  0.427696  0.552932   \n",
      "1.0            2506.0  0.693340  0.128449  0.085549  0.616934  0.705140   \n",
      "\n",
      "                    75%       max  \n",
      "Actual Labels                      \n",
      "0.0            0.104380  1.014922  \n",
      "0.5            0.649527  0.979660  \n",
      "1.0            0.779150  1.095924  \n"
     ]
    }
   ],
   "source": [
    "summary_stats(val_heart_labels, val_heart_outputs)"
   ]
  },
  {
   "cell_type": "code",
   "execution_count": 32,
   "id": "98f5bacf-c12d-4a39-974e-06bbde3a19c5",
   "metadata": {},
   "outputs": [
    {
     "name": "stdout",
     "output_type": "stream",
     "text": [
      "Actual Labels\n",
      "0.0    2330\n",
      "0.5    1491\n",
      "1.0     579\n",
      "Name: count, dtype: int64\n",
      "                count      mean       std       min       25%       50%  \\\n",
      "Actual Labels                                                             \n",
      "0.0            2330.0  0.149549  0.214155 -0.169424 -0.001087  0.058112   \n",
      "0.5            1491.0  0.447414  0.237472 -0.064069  0.268928  0.494970   \n",
      "1.0             579.0  0.666351  0.161184  0.120728  0.582174  0.700798   \n",
      "\n",
      "                    75%       max  \n",
      "Actual Labels                      \n",
      "0.0            0.239219  0.937969  \n",
      "0.5            0.642124  0.949572  \n",
      "1.0            0.781011  1.000726  \n"
     ]
    }
   ],
   "source": [
    "summary_stats(val_HIV_labels, val_HIV_outputs)"
   ]
  },
  {
   "cell_type": "code",
   "execution_count": null,
   "id": "b580edc4-f873-411a-8227-7e9bbd69ebfc",
   "metadata": {},
   "outputs": [],
   "source": []
  },
  {
   "cell_type": "code",
   "execution_count": null,
   "id": "4ee360f5-a5f2-43f7-b090-b7cddcd611eb",
   "metadata": {},
   "outputs": [],
   "source": []
  },
  {
   "cell_type": "code",
   "execution_count": null,
   "id": "5db348ed-f68e-41fe-8674-c1fd30fc5210",
   "metadata": {},
   "outputs": [],
   "source": [
    "################# Evaluation 20240416 #########################"
   ]
  },
  {
   "cell_type": "code",
   "execution_count": 33,
   "id": "2c0f8f57-0c02-4184-b663-f75485ae334e",
   "metadata": {},
   "outputs": [],
   "source": [
    "val_1_pd = val_1_set.to_pandas()\n",
    "val_2_pd = val_2_set.to_pandas()\n",
    "val_heart_set_pd = val_heart_set.to_pandas()\n",
    "val_HIV_set_pd = val_HIV_set.to_pandas()"
   ]
  },
  {
   "cell_type": "code",
   "execution_count": 38,
   "id": "8ecf70fb-6cc7-41fd-9f23-c457ed9ffb99",
   "metadata": {},
   "outputs": [],
   "source": [
    "#val_1_pd = val_1_pd.drop(\"Actual Labels\", axis = 1)\n",
    "#val_2_pd = val_2_pd.drop(\"Actual Labels\", axis = 1)\n",
    "#val_heart_set_pd = val_heart_set_pd.drop(\"Actual Labels\", axis = 1)\n",
    "#val_HIV_set_pd = val_HIV_set_pd.drop(\"Actual Labels\", axis = 1)\n",
    "\n",
    "#val_1_pd = val_1_pd.drop(\"Outputs\", axis = 1)\n",
    "#val_2_pd = val_2_pd.drop(\"Outputs\", axis = 1)\n",
    "#val_heart_set_pd = val_heart_set_pd.drop(\"Outputs\", axis = 1)\n",
    "#val_HIV_set_pd = val_HIV_set_pd.drop(\"Outputs\", axis = 1)"
   ]
  },
  {
   "cell_type": "code",
   "execution_count": 39,
   "id": "b21093bc-2edd-4938-b2bd-11edd8a88f29",
   "metadata": {},
   "outputs": [],
   "source": [
    "def combine_outputs(df, labels, outputs):\n",
    "    predictions_df = pd.DataFrame({\n",
    "        'Outputs': outputs,\n",
    "        'Actual Labels': labels\n",
    "    })  \n",
    "    combined = pd.concat([df, predictions_df], axis = 1)\n",
    "    return combined.copy()"
   ]
  },
  {
   "cell_type": "code",
   "execution_count": 40,
   "id": "711a4765-0706-4869-8069-4350b072f15f",
   "metadata": {},
   "outputs": [],
   "source": [
    "val_1_pd = combine_outputs(val_1_pd, val_1_labels, val_1_outputs)\n",
    "val_2_pd = combine_outputs(val_2_pd, val_2_labels, val_2_outputs)\n",
    "val_heart_set_pd = combine_outputs(val_heart_set_pd, val_heart_labels, val_heart_outputs)\n"
   ]
  },
  {
   "cell_type": "code",
   "execution_count": 54,
   "id": "a264be3c-b641-49a0-beed-20aee7bddd2c",
   "metadata": {},
   "outputs": [],
   "source": [
    "#val_HIV_set_pd = val_HIV_set_pd[['Review_URL', 'Objective', 'Selection_criteria',\n",
    "#       'Title', 'Abstract_clean', 'label', 'obj_sel', 'tit_abs', 'Background',\n",
    "#       'Unnamed: 0', 'Review_Title', 'DOI',\n",
    "#       'expertise', 'label_1', 'obj_sel_input_ids',\n",
    "#       'token_type_ids', 'obj_sel_attention_mask', 'tit_abs_input_ids',\n",
    "#       'tit_abs_attention_mask']].copy()"
   ]
  },
  {
   "cell_type": "code",
   "execution_count": 53,
   "id": "22d98fc9-fd16-42d4-b9f3-f79dd4476a33",
   "metadata": {},
   "outputs": [],
   "source": [
    "val_HIV_set_pd = combine_outputs(val_HIV_set_pd, val_HIV_labels, val_HIV_outputs)"
   ]
  },
  {
   "cell_type": "code",
   "execution_count": 41,
   "id": "d9a5af72-25da-4cd2-b6a3-119b34ba0ad1",
   "metadata": {},
   "outputs": [],
   "source": [
    "#Only need to run it once#\n",
    "\n",
    "val_1_pd['DOI'] = val_1_pd['Review_URL'].str.extract(r'(10\\.\\d{4,9}/[-._;()/:A-Z0-9]+)', flags=re.IGNORECASE)\n",
    "val_1_pd['DOI'] = val_1_pd['DOI'].str.replace(r'/full$', '', regex=True)\n",
    "\n",
    "val_2_pd['DOI'] = val_2_pd['Review_URL'].str.extract(r'(10\\.\\d{4,9}/[-._;()/:A-Z0-9]+)', flags=re.IGNORECASE)\n",
    "val_2_pd['DOI'] = val_2_pd['DOI'].str.replace(r'/full$', '', regex=True)\n",
    "\n",
    "#Only need to run it once#\n",
    "\n",
    "val_heart_set_pd['DOI'] = val_heart_set_pd['Review_URL'].str.extract(r'(10\\.\\d{4,9}/[-._;()/:A-Z0-9]+)', flags=re.IGNORECASE)\n",
    "val_heart_set_pd['DOI'] = val_heart_set_pd['DOI'].str.replace(r'/full$', '', regex=True)\n",
    "\n",
    "val_HIV_set_pd['DOI'] = val_HIV_set_pd['Review_URL'].str.extract(r'(10\\.\\d{4,9}/[-._;()/:A-Z0-9]+)', flags=re.IGNORECASE)\n",
    "val_HIV_set_pd['DOI'] = val_HIV_set_pd['DOI'].str.replace(r'/full$', '', regex=True)"
   ]
  },
  {
   "cell_type": "code",
   "execution_count": 42,
   "id": "b3a8bdaa-b852-4294-a6ca-da8925d2aed1",
   "metadata": {},
   "outputs": [],
   "source": [
    "review_record = pd.read_csv(review_data_folder + \"\\\\\" + \"20231218_cochrane_review_expertise.csv\")"
   ]
  },
  {
   "cell_type": "code",
   "execution_count": 43,
   "id": "82e894a3-06d6-4cb2-94e2-d07397f6ead9",
   "metadata": {},
   "outputs": [],
   "source": [
    "val_1_pd[\"expertise\"] = val_1_pd['DOI'].isin(review_record['DOI'])\n",
    "val_2_pd[\"expertise\"] = val_2_pd['DOI'].isin(review_record['DOI'])\n",
    "val_heart_set_pd[\"expertise\"] = val_heart_set_pd['DOI'].isin(review_record['DOI'])\n",
    "val_HIV_set_pd[\"expertise\"] = val_HIV_set_pd['DOI'].isin(review_record['DOI'])"
   ]
  },
  {
   "cell_type": "code",
   "execution_count": 56,
   "id": "e5cc2df2-7dd6-4947-a52a-fb0a5752b338",
   "metadata": {},
   "outputs": [],
   "source": [
    "val_1_pd.to_csv(data_folder + \"\\\\\" + \"20240419_val_1_rti_bg_obj_sel_output.csv\")\n",
    "val_2_pd.to_csv(data_folder + \"\\\\\" + \"20240419_val_2_rti_bg_obj_sel_output.csv\")\n",
    "val_heart_set_pd.to_csv(data_folder + \"\\\\\" + \"20240419_val_heart_rti_bg_obj_sel_output.csv\")\n",
    "val_HIV_set_pd.to_csv(data_folder + \"\\\\\" + \"20240419_val_HIV_rti_bg_obj_sel_output.csv\")"
   ]
  },
  {
   "cell_type": "code",
   "execution_count": 55,
   "id": "9b6c6c5f-3990-49d4-8b20-b39d1c3b1414",
   "metadata": {},
   "outputs": [
    {
     "name": "stdout",
     "output_type": "stream",
     "text": [
      "Index(['Unnamed: 0.7', 'Unnamed: 0.6', 'Unnamed: 0.5', 'Unnamed: 0.4',\n",
      "       'Unnamed: 0.3', 'Review_URL', 'Objective', 'Selection_criteria',\n",
      "       'Title', 'Abstract_clean', 'label', 'obj_sel', 'tit_abs', 'Background',\n",
      "       'Unnamed: 0.2', 'Unnamed: 0.1', 'Unnamed: 0', 'Review_Title', 'DOI',\n",
      "       'expertise', 'label_1', 'obj_sel_input_ids', 'token_type_ids',\n",
      "       'obj_sel_attention_mask', 'tit_abs_input_ids', 'tit_abs_attention_mask',\n",
      "       'Outputs', 'Actual Labels'],\n",
      "      dtype='object')\n",
      "Index(['Unnamed: 0.7', 'Unnamed: 0.6', 'Unnamed: 0.5', 'Unnamed: 0.4',\n",
      "       'Unnamed: 0.3', 'Review_URL', 'Objective', 'Selection_criteria',\n",
      "       'Title', 'Abstract_clean', 'label', 'obj_sel', 'tit_abs', 'Background',\n",
      "       'Unnamed: 0.2', 'Unnamed: 0.1', 'Unnamed: 0', 'Review_Title', 'DOI',\n",
      "       'expertise', 'label_1', 'obj_sel_input_ids', 'token_type_ids',\n",
      "       'obj_sel_attention_mask', 'tit_abs_input_ids', 'tit_abs_attention_mask',\n",
      "       'Outputs', 'Actual Labels'],\n",
      "      dtype='object')\n",
      "Index(['Review_URL', 'Objective', 'Selection_criteria', 'Title',\n",
      "       'Abstract_clean', 'label', 'obj_sel', 'tit_abs', 'Background',\n",
      "       'Review_Title', 'obj_sel_input_ids', 'token_type_ids',\n",
      "       'obj_sel_attention_mask', 'tit_abs_input_ids', 'tit_abs_attention_mask',\n",
      "       'Outputs', 'Actual Labels', 'DOI', 'expertise', 'label_1'],\n",
      "      dtype='object')\n",
      "Index(['Review_URL', 'Objective', 'Selection_criteria', 'Title',\n",
      "       'Abstract_clean', 'label', 'obj_sel', 'tit_abs', 'Background',\n",
      "       'Unnamed: 0', 'Review_Title', 'DOI', 'expertise', 'label_1',\n",
      "       'obj_sel_input_ids', 'token_type_ids', 'obj_sel_attention_mask',\n",
      "       'tit_abs_input_ids', 'tit_abs_attention_mask', 'Outputs',\n",
      "       'Actual Labels'],\n",
      "      dtype='object')\n"
     ]
    }
   ],
   "source": [
    "print(val_1_pd.columns)\n",
    "print(val_2_pd.columns)\n",
    "print(val_heart_set_pd.columns)\n",
    "print(val_HIV_set_pd.columns)\n"
   ]
  },
  {
   "cell_type": "code",
   "execution_count": null,
   "id": "5bfee659-9ab0-421e-b185-958fc7fe5ceb",
   "metadata": {},
   "outputs": [],
   "source": []
  },
  {
   "cell_type": "code",
   "execution_count": null,
   "id": "fdc3cc71-e509-4726-8155-12a8298a60ef",
   "metadata": {},
   "outputs": [],
   "source": []
  },
  {
   "cell_type": "code",
   "execution_count": null,
   "id": "7f0d4f94-6425-42d9-af10-258272c4602c",
   "metadata": {},
   "outputs": [],
   "source": [
    "# 20240428 Load evaluation data #"
   ]
  },
  {
   "cell_type": "code",
   "execution_count": 16,
   "id": "72d5721d-a1a9-4950-aac2-1384278e254a",
   "metadata": {},
   "outputs": [],
   "source": [
    "val_1_pd = pd.read_csv(data_folder + \"\\\\\" + \"20240419_val_1_rti_bg_obj_sel_output.csv\")\n",
    "val_2_pd = pd.read_csv(data_folder + \"\\\\\" + \"20240419_val_2_rti_bg_obj_sel_output.csv\")\n",
    "val_heart_set_pd = pd.read_csv(data_folder + \"\\\\\" + \"20240419_val_heart_rti_bg_obj_sel_output.csv\")\n",
    "val_HIV_set_pd = pd.read_csv(data_folder + \"\\\\\" + \"20240419_val_HIV_rti_bg_obj_sel_output.csv\")"
   ]
  },
  {
   "cell_type": "code",
   "execution_count": null,
   "id": "dff5c693-3541-41ac-80c5-07a2b8326355",
   "metadata": {},
   "outputs": [],
   "source": []
  },
  {
   "cell_type": "code",
   "execution_count": 57,
   "id": "e06b9020-5a30-4560-bf5f-dca0423ce189",
   "metadata": {},
   "outputs": [],
   "source": [
    "def roc_analysis(df, output_column, save = False):\n",
    "    df[\"label_1\"] = df[\"Actual Labels\"].copy()\n",
    "    df.loc[df['label_1'] < 0.7, 'label_1'] = 0\n",
    "    fpr_1, tpr_1, tresholds_1 = roc_curve(df[\"label_1\"], df[output_column])\n",
    "    roc_auc_1 = auc(fpr_1, tpr_1)\n",
    "    \n",
    "    plt.figure()\n",
    "    plt.plot(fpr_1, tpr_1, color = 'darkorange', lw = 2, label = \"ROC curve (area = %0.2f)\" % roc_auc_1)\n",
    "    plt.plot([0,1],[0,1], color = 'navy', lw = 2, linestyle = '--')\n",
    "    plt.xlim([0.0, 1.0])\n",
    "    plt.ylim([0.0, 1.05])\n",
    "    plt.xlabel('False Positive Rate')\n",
    "    plt.ylabel('True Positive Rate')\n",
    "    plt.title('Receiver Operating Characteristic')\n",
    "    plt.legend(loc=\"lower right\")\n",
    "    plt.show()\n",
    "    if save:\n",
    "        roc_analysis_1 = pd.DataFrame({\"False Positive Rate\": fpr_1, \"True Positive Rate\":tpr_1, \"Cut off\":tresholds_1})\n",
    "        roc_analysis_1 = roc_analysis_1.sort_values(by = \"True Positive Rate\", ascending = False)\n",
    "        roc_analysis_1.to_csv(data_folder + \"\\\\\" + \"tmp_results_1.csv\")"
   ]
  },
  {
   "cell_type": "code",
   "execution_count": 58,
   "id": "fd1adfc8-6e24-4cad-9c17-9df5cc831b2a",
   "metadata": {},
   "outputs": [
    {
     "name": "stdout",
     "output_type": "stream",
     "text": [
      "******************************************\n",
      "Val 1\n",
      "******************************************\n"
     ]
    },
    {
     "data": {
      "image/png": "[encoded data removed]",
      "text/plain": [
       "<Figure size 640x480 with 1 Axes>"
      ]
     },
     "metadata": {},
     "output_type": "display_data"
    },
    {
     "name": "stdout",
     "output_type": "stream",
     "text": [
      "******************************************\n",
      "Val 2\n",
      "******************************************\n"
     ]
    },
    {
     "data": {
      "image/png": "[encoded data removed]",
      "text/plain": [
       "<Figure size 640x480 with 1 Axes>"
      ]
     },
     "metadata": {},
     "output_type": "display_data"
    },
    {
     "name": "stdout",
     "output_type": "stream",
     "text": [
      "******************************************\n",
      "Val Heart\n",
      "******************************************\n"
     ]
    },
    {
     "data": {
      "image/png": "[encoded data removed]",
      "text/plain": [
       "<Figure size 640x480 with 1 Axes>"
      ]
     },
     "metadata": {},
     "output_type": "display_data"
    },
    {
     "name": "stdout",
     "output_type": "stream",
     "text": [
      "******************************************\n",
      "Val HIV\n",
      "******************************************\n"
     ]
    },
    {
     "data": {
      "image/png": "[encoded data removed]",
      "text/plain": [
       "<Figure size 640x480 with 1 Axes>"
      ]
     },
     "metadata": {},
     "output_type": "display_data"
    }
   ],
   "source": [
    "print(\"******************************************\")\n",
    "print(\"Val 1\")\n",
    "print(\"******************************************\")\n",
    "roc_analysis(val_1_pd, \"Outputs\", save = True)\n",
    "print(\"******************************************\")\n",
    "print(\"Val 2\")\n",
    "print(\"******************************************\")\n",
    "roc_analysis(val_2_pd, \"Outputs\")\n",
    "print(\"******************************************\")\n",
    "print(\"Val Heart\")\n",
    "print(\"******************************************\")\n",
    "roc_analysis(val_heart_set_pd, \"Outputs\")\n",
    "print(\"******************************************\")\n",
    "print(\"Val HIV\")\n",
    "print(\"******************************************\")\n",
    "roc_analysis(val_HIV_set_pd, \"Outputs\")"
   ]
  },
  {
   "cell_type": "code",
   "execution_count": null,
   "id": "5ec366ab-ea99-4d62-aa8d-0a007bca395e",
   "metadata": {},
   "outputs": [],
   "source": []
  },
  {
   "cell_type": "code",
   "execution_count": 60,
   "id": "1b001677-8a71-4603-a53a-3db40e5f0d58",
   "metadata": {},
   "outputs": [],
   "source": [
    "def evaluate_cutoff(df, column, cutoff):\n",
    "    df_tmp = df.copy()\n",
    "    df_tmp[\"cutoff\"] = (df_tmp[column] > cutoff)\n",
    "    ct = pd.crosstab(df_tmp[\"Actual Labels\"], df_tmp[\"cutoff\"])\n",
    "    \n",
    "    print(ct)\n",
    "    \n",
    "    row_percentage = ct.div(ct.sum(axis = 1), axis = 0)\n",
    "    \n",
    "    print(row_percentage)\n",
    "    return ct, row_percentage\n",
    "    \n"
   ]
  },
  {
   "cell_type": "code",
   "execution_count": null,
   "id": "bf6fa4ef-5e6c-4027-b2cf-e676982d94b0",
   "metadata": {},
   "outputs": [],
   "source": []
  },
  {
   "cell_type": "code",
   "execution_count": null,
   "id": "df9b5d79-87cd-4ec6-925a-45c44b8e90d8",
   "metadata": {},
   "outputs": [],
   "source": [
    "#2.5%: 0.423; 3% 0.442."
   ]
  },
  {
   "cell_type": "code",
   "execution_count": 62,
   "id": "43ff275b-2eb9-4651-8572-d0e2161554ae",
   "metadata": {},
   "outputs": [],
   "source": [
    "k = 0.423"
   ]
  },
  {
   "cell_type": "code",
   "execution_count": 21,
   "id": "eb56ed47-caa5-4892-b5ed-867306491a6e",
   "metadata": {},
   "outputs": [
    {
     "name": "stdout",
     "output_type": "stream",
     "text": [
      "cutoff         False  True \n",
      "Actual Labels              \n",
      "0.0            11756    669\n",
      "0.5             2760   7162\n",
      "1.0              114   4431\n",
      "cutoff            False     True \n",
      "Actual Labels                    \n",
      "0.0            0.946157  0.053843\n",
      "0.5            0.278170  0.721830\n",
      "1.0            0.025083  0.974917\n"
     ]
    }
   ],
   "source": [
    "evaluate_cutoff(val_1_pd, \"Outputs\", k)"
   ]
  },
  {
   "cell_type": "code",
   "execution_count": 22,
   "id": "2d291f76-d082-46c5-b3a0-8f0d8fb0c500",
   "metadata": {},
   "outputs": [
    {
     "name": "stdout",
     "output_type": "stream",
     "text": [
      "cutoff         False  True \n",
      "Actual Labels              \n",
      "0.0            12166    854\n",
      "0.5             2416   7032\n",
      "1.0              158   4425\n",
      "cutoff            False     True \n",
      "Actual Labels                    \n",
      "0.0            0.934409  0.065591\n",
      "0.5            0.255715  0.744285\n",
      "1.0            0.034475  0.965525\n"
     ]
    }
   ],
   "source": [
    "evaluate_cutoff(val_2_pd, \"Outputs\", k)"
   ]
  },
  {
   "cell_type": "code",
   "execution_count": 63,
   "id": "0389ec95-67e1-4733-86e2-08a1f4b3dab2",
   "metadata": {},
   "outputs": [
    {
     "name": "stdout",
     "output_type": "stream",
     "text": [
      "cutoff         False  True \n",
      "Actual Labels              \n",
      "0.0             6583    480\n",
      "0.5             2314   7186\n",
      "1.0               78   2428\n",
      "cutoff            False     True \n",
      "Actual Labels                    \n",
      "0.0            0.932040  0.067960\n",
      "0.5            0.243579  0.756421\n",
      "1.0            0.031125  0.968875\n"
     ]
    },
    {
     "data": {
      "text/plain": [
       "(cutoff         False  True \n",
       " Actual Labels              \n",
       " 0.0             6583    480\n",
       " 0.5             2314   7186\n",
       " 1.0               78   2428,\n",
       " cutoff            False     True \n",
       " Actual Labels                    \n",
       " 0.0            0.932040  0.067960\n",
       " 0.5            0.243579  0.756421\n",
       " 1.0            0.031125  0.968875)"
      ]
     },
     "execution_count": 63,
     "metadata": {},
     "output_type": "execute_result"
    }
   ],
   "source": [
    "evaluate_cutoff(val_heart_set_pd, \"Outputs\", k)"
   ]
  },
  {
   "cell_type": "code",
   "execution_count": 24,
   "id": "582897b9-e0d4-4147-8e00-bbbf1151de98",
   "metadata": {},
   "outputs": [
    {
     "name": "stdout",
     "output_type": "stream",
     "text": [
      "cutoff         False  True \n",
      "Actual Labels              \n",
      "0.0             1993    337\n",
      "0.5              608    883\n",
      "1.0               52    527\n",
      "cutoff            False     True \n",
      "Actual Labels                    \n",
      "0.0            0.855365  0.144635\n",
      "0.5            0.407780  0.592220\n",
      "1.0            0.089810  0.910190\n"
     ]
    }
   ],
   "source": [
    "evaluate_cutoff(val_HIV_set_pd, \"Outputs\", k)"
   ]
  },
  {
   "cell_type": "code",
   "execution_count": null,
   "id": "5a1febda-4531-41f6-b4b9-78520e37e3f7",
   "metadata": {},
   "outputs": [],
   "source": []
  },
  {
   "cell_type": "code",
   "execution_count": 12,
   "id": "a1a46656-9b3c-4ccc-8f1f-65dfddc9db15",
   "metadata": {},
   "outputs": [],
   "source": [
    "def calculate_norm(df_relevance, output_column):\n",
    "    df_tmp = df_relevance.copy()\n",
    "    groups = [df1 for _, df1 in df_tmp.groupby(\"Objective\")]\n",
    "    for i in range(0, len(groups)):\n",
    "        maximum = groups[i][output_column].max()\n",
    "        minimum = groups[i][output_column].min()\n",
    "        groups[i][\"Normed relevance\"] = (groups[i][output_column] - minimum)/(maximum - minimum)\n",
    "        p95 = groups[i][output_column].quantile(0.95)\n",
    "        p90 = groups[i][output_column].quantile(0.90)\n",
    "        groups[i][\"Normed relevance 95\"] = (groups[i][output_column] - minimum)/(p95 - minimum)\n",
    "        groups[i].loc[groups[i][\"Normed relevance 95\"] > 1, 'Normed relevance 95'] = 1 \n",
    "        groups[i][\"Normed relevance 90\"] = (groups[i][output_column] - minimum)/(p90 - minimum)\n",
    "        groups[i].loc[groups[i][\"Normed relevance 90\"] > 1, 'Normed relevance 90'] = 1\n",
    "    df_norm = pd.concat(groups, ignore_index = True)\n",
    "    return df_norm.copy()\n",
    "    "
   ]
  },
  {
   "cell_type": "code",
   "execution_count": null,
   "id": "9d3c5006-67a4-4ea8-ad94-6d8cd8af0173",
   "metadata": {},
   "outputs": [],
   "source": []
  },
  {
   "cell_type": "code",
   "execution_count": 13,
   "id": "5ca4c930-7472-4554-a3cb-a7f6c3e23ac5",
   "metadata": {},
   "outputs": [],
   "source": [
    "val_1_pd_n9095 = calculate_norm(val_1_pd, \"Outputs\")\n",
    "val_2_pd_n9095 = calculate_norm(val_2_pd, \"Outputs\")\n",
    "val_heart_pd_n9095 = calculate_norm(val_heart_set_pd, \"Outputs\")\n",
    "val_HIV_pd_n9095 = calculate_norm(val_HIV_set_pd, \"Outputs\")"
   ]
  },
  {
   "cell_type": "code",
   "execution_count": null,
   "id": "7e2e311d-d8c5-4507-bc27-0e4f2358fc90",
   "metadata": {},
   "outputs": [],
   "source": [
    "len(val_heart_set_pd)"
   ]
  },
  {
   "cell_type": "code",
   "execution_count": 26,
   "id": "59e49135-c70c-41bb-b043-cc90322228ef",
   "metadata": {},
   "outputs": [
    {
     "name": "stdout",
     "output_type": "stream",
     "text": [
      "******************************************\n",
      "Val 1\n",
      "******************************************\n"
     ]
    },
    {
     "data": {
      "image/png": "[encoded data removed]",
      "text/plain": [
       "<Figure size 640x480 with 1 Axes>"
      ]
     },
     "metadata": {},
     "output_type": "display_data"
    },
    {
     "name": "stdout",
     "output_type": "stream",
     "text": [
      "******************************************\n",
      "Val 2\n",
      "******************************************\n"
     ]
    },
    {
     "data": {
      "image/png": "[encoded data removed]",
      "text/plain": [
       "<Figure size 640x480 with 1 Axes>"
      ]
     },
     "metadata": {},
     "output_type": "display_data"
    },
    {
     "name": "stdout",
     "output_type": "stream",
     "text": [
      "******************************************\n",
      "Val Heart\n",
      "******************************************\n"
     ]
    },
    {
     "data": {
      "image/png": "[encoded data removed]",
      "text/plain": [
       "<Figure size 640x480 with 1 Axes>"
      ]
     },
     "metadata": {},
     "output_type": "display_data"
    },
    {
     "name": "stdout",
     "output_type": "stream",
     "text": [
      "******************************************\n",
      "Val HIV\n",
      "******************************************\n"
     ]
    },
    {
     "data": {
      "image/png": "[encoded data removed]",
      "text/plain": [
       "<Figure size 640x480 with 1 Axes>"
      ]
     },
     "metadata": {},
     "output_type": "display_data"
    }
   ],
   "source": [
    "print(\"******************************************\")\n",
    "print(\"Val 1\")\n",
    "print(\"******************************************\")\n",
    "roc_analysis(val_1_pd_n9095, \"Normed relevance\", save = True)\n",
    "print(\"******************************************\")\n",
    "print(\"Val 2\")\n",
    "print(\"******************************************\")\n",
    "roc_analysis(val_2_pd_n9095, \"Normed relevance\")\n",
    "print(\"******************************************\")\n",
    "print(\"Val Heart\")\n",
    "print(\"******************************************\")\n",
    "roc_analysis(val_heart_pd_n9095, \"Normed relevance\")\n",
    "print(\"******************************************\")\n",
    "print(\"Val HIV\")\n",
    "print(\"******************************************\")\n",
    "roc_analysis(val_HIV_pd_n9095, \"Normed relevance\")"
   ]
  },
  {
   "cell_type": "code",
   "execution_count": 31,
   "id": "4cf9e7b7-ac9a-43da-8bd3-460910652480",
   "metadata": {},
   "outputs": [
    {
     "name": "stdout",
     "output_type": "stream",
     "text": [
      "cutoff         False  True \n",
      "Actual Labels              \n",
      "0.0            11473    952\n",
      "0.5             2548   7374\n",
      "1.0              114   4431\n",
      "cutoff            False     True \n",
      "Actual Labels                    \n",
      "0.0            0.923380  0.076620\n",
      "0.5            0.256803  0.743197\n",
      "1.0            0.025083  0.974917\n"
     ]
    }
   ],
   "source": [
    "evaluate_cutoff(val_1_pd_n9095, \"Normed relevance\", 0.528)"
   ]
  },
  {
   "cell_type": "code",
   "execution_count": 32,
   "id": "ad93dfc3-0c11-46fc-b164-445a83137a1b",
   "metadata": {},
   "outputs": [
    {
     "name": "stdout",
     "output_type": "stream",
     "text": [
      "cutoff         False  True \n",
      "Actual Labels              \n",
      "0.0            11949   1071\n",
      "0.5             2124   7324\n",
      "1.0              136   4447\n",
      "cutoff            False     True \n",
      "Actual Labels                    \n",
      "0.0            0.917742  0.082258\n",
      "0.5            0.224809  0.775191\n",
      "1.0            0.029675  0.970325\n"
     ]
    }
   ],
   "source": [
    "evaluate_cutoff(val_2_pd_n9095, \"Normed relevance\", 0.528)"
   ]
  },
  {
   "cell_type": "code",
   "execution_count": 33,
   "id": "52a7105a-5dce-4169-91ca-28c0b1f62b10",
   "metadata": {},
   "outputs": [
    {
     "name": "stdout",
     "output_type": "stream",
     "text": [
      "cutoff         False  True \n",
      "Actual Labels              \n",
      "0.0             6375    599\n",
      "0.5             1865   7564\n",
      "1.0               63   2373\n",
      "cutoff            False     True \n",
      "Actual Labels                    \n",
      "0.0            0.914110  0.085890\n",
      "0.5            0.197794  0.802206\n",
      "1.0            0.025862  0.974138\n"
     ]
    }
   ],
   "source": [
    "evaluate_cutoff(val_heart_pd_n9095, \"Normed relevance\", 0.528)"
   ]
  },
  {
   "cell_type": "code",
   "execution_count": 34,
   "id": "811c6688-27ac-43e2-b29c-b25ed11d8ebd",
   "metadata": {},
   "outputs": [
    {
     "name": "stdout",
     "output_type": "stream",
     "text": [
      "cutoff         False  True \n",
      "Actual Labels              \n",
      "0.0             1938    392\n",
      "0.5              511    980\n",
      "1.0               40    539\n",
      "cutoff            False     True \n",
      "Actual Labels                    \n",
      "0.0            0.831760  0.168240\n",
      "0.5            0.342723  0.657277\n",
      "1.0            0.069085  0.930915\n"
     ]
    }
   ],
   "source": [
    "evaluate_cutoff(val_HIV_pd_n9095, \"Normed relevance\", 0.528)"
   ]
  },
  {
   "cell_type": "code",
   "execution_count": null,
   "id": "4942bc1e-fd58-467d-be6e-edb5e99bc902",
   "metadata": {},
   "outputs": [],
   "source": []
  },
  {
   "cell_type": "code",
   "execution_count": null,
   "id": "2724c93c-ce91-4f66-8e83-354854c50018",
   "metadata": {},
   "outputs": [],
   "source": []
  },
  {
   "cell_type": "code",
   "execution_count": 37,
   "id": "8beae074-32f6-47de-a531-2cffffe40286",
   "metadata": {},
   "outputs": [
    {
     "data": {
      "text/plain": [
       "'https://www.cochranelibrary.com/cdsr/doi/10.1002/14651858.CD008454.pub2/full'"
      ]
     },
     "execution_count": 37,
     "metadata": {},
     "output_type": "execute_result"
    }
   ],
   "source": [
    "val_1_pd_n9095[\"Review_URL\"][0]"
   ]
  },
  {
   "cell_type": "code",
   "execution_count": 66,
   "id": "23b99548-edb2-4266-aaf2-cfcefb622aa0",
   "metadata": {},
   "outputs": [],
   "source": [
    "master_review_list = pd.read_csv(review_data_folder + \"\\\\processed\\\\\" + \"20240331_cochrane_review_list.csv\")"
   ]
  },
  {
   "cell_type": "code",
   "execution_count": 50,
   "id": "3787ef9b-91ba-48ef-b098-6fa861a8f367",
   "metadata": {},
   "outputs": [],
   "source": [
    "val_1 = val_1_pd_n9095.merge(master_review_list[[\"Review_URL\",\"Cochrane Review Group Code\"]], on=\"Review_URL\", how = \"left\")\n",
    "val_2 = val_2_pd_n9095.merge(master_review_list[[\"Review_URL\",\"Cochrane Review Group Code\"]], on=\"Review_URL\", how = \"left\")"
   ]
  },
  {
   "cell_type": "code",
   "execution_count": 51,
   "id": "2d5abb63-a050-41c9-89ea-c1f400174e4e",
   "metadata": {},
   "outputs": [
    {
     "data": {
      "text/plain": [
       "Cochrane Review Group Code\n",
       "Airways                                              1926\n",
       "Kidney and Transplant                                1532\n",
       "Pain, Palliative and Supportive Care                 1364\n",
       "Pregnancy and Childbirth                             1284\n",
       "Neonatal                                             1220\n",
       "Developmental, Psychosocial and Learning Problems    1081\n",
       "Hepato-Biliary                                       1046\n",
       "Infectious Diseases                                   792\n",
       "Consumers and Communication                           768\n",
       "Gynaecological, Neuro-oncology and Orphan Cancer      697\n",
       "Gynaecology and Fertility                             664\n",
       "Common Mental Disorders                               642\n",
       "Haematology                                           642\n",
       "Wounds                                                616\n",
       "Stroke                                                604\n",
       "Hypertension                                          582\n",
       "ENT                                                   571\n",
       "Musculoskeletal                                       569\n",
       "Gut                                                   564\n",
       "Colorectal                                            528\n",
       "Injuries                                              508\n",
       "Schizophrenia                                         491\n",
       "Oral Health                                           470\n",
       "Work                                                  468\n",
       "Effective Practice and Organisation of Care           449\n",
       "Neuromuscular                                         449\n",
       "Multiple Sclerosis and Rare Diseases of the CNS       441\n",
       "Vascular                                              405\n",
       "Public Health                                         388\n",
       "Skin                                                  375\n",
       "Metabolic and Endocrine Disorders                     373\n",
       "Cystic Fibrosis and Genetic Disorders                 357\n",
       "Tobacco Addiction                                     352\n",
       "Drugs and Alcohol                                     342\n",
       "Back and Neck                                         341\n",
       "Anaesthesia                                           328\n",
       "Acute Respiratory Infections                          308\n",
       "Breast Cancer                                         307\n",
       "Eyes and Vision                                       293\n",
       "Epilepsy                                              269\n",
       "Bone, Joint and Muscle Trauma                         264\n",
       "Urology                                               244\n",
       "Movement Disorders                                    190\n",
       "Childhood Cancer                                      184\n",
       "Incontinence                                          183\n",
       "Dementia and Cognitive Improvement                    162\n",
       "Emergency and Critical Care                           151\n",
       "Methodology                                            59\n",
       "Fertility Regulation                                   49\n",
       "Name: count, dtype: int64"
      ]
     },
     "execution_count": 51,
     "metadata": {},
     "output_type": "execute_result"
    }
   ],
   "source": [
    "val_1[\"Cochrane Review Group Code\"].value_counts()"
   ]
  },
  {
   "cell_type": "code",
   "execution_count": 54,
   "id": "c0640ed0-4f69-4538-83c8-c2ec24a29767",
   "metadata": {},
   "outputs": [
    {
     "data": {
      "text/plain": [
       "Cochrane Review Group Code\n",
       "Airways                                              1427\n",
       "Pregnancy and Childbirth                             1218\n",
       "Infectious Diseases                                  1078\n",
       "Neonatal                                             1064\n",
       "Developmental, Psychosocial and Learning Problems    1032\n",
       "Gynaecological, Neuro-oncology and Orphan Cancer      996\n",
       "Stroke                                                988\n",
       "Dementia and Cognitive Improvement                    957\n",
       "Wounds                                                947\n",
       "Schizophrenia                                         915\n",
       "Eyes and Vision                                       844\n",
       "Gynaecology and Fertility                             804\n",
       "Common Mental Disorders                               781\n",
       "Bone, Joint and Muscle Trauma                         763\n",
       "Hepato-Biliary                                        752\n",
       "Pain, Palliative and Supportive Care                  746\n",
       "Skin                                                  727\n",
       "Effective Practice and Organisation of Care           723\n",
       "Metabolic and Endocrine Disorders                     710\n",
       "Kidney and Transplant                                 642\n",
       "Gut                                                   581\n",
       "Cystic Fibrosis and Genetic Disorders                 576\n",
       "Consumers and Communication                           575\n",
       "Emergency and Critical Care                           542\n",
       "Oral Health                                           456\n",
       "Colorectal                                            453\n",
       "Vascular                                              433\n",
       "Tobacco Addiction                                     432\n",
       "Incontinence                                          417\n",
       "Neuromuscular                                         385\n",
       "Musculoskeletal                                       368\n",
       "Anaesthesia                                           333\n",
       "Injuries                                              285\n",
       "Acute Respiratory Infections                          278\n",
       "Work                                                  260\n",
       "Drugs and Alcohol                                     256\n",
       "Urology                                               235\n",
       "Childhood Cancer                                      226\n",
       "Haematology                                           204\n",
       "ENT                                                   201\n",
       "Epilepsy                                              182\n",
       "Multiple Sclerosis and Rare Diseases of the CNS       173\n",
       "Fertility Regulation                                  159\n",
       "Movement Disorders                                    151\n",
       "Methodology                                           146\n",
       "Back and Neck                                         145\n",
       "Hypertension                                          127\n",
       "Sexually Transmitted Infections                       111\n",
       "Lung Cancer                                            91\n",
       "Public Health                                          87\n",
       "Breast Cancer                                          69\n",
       "Name: count, dtype: int64"
      ]
     },
     "execution_count": 54,
     "metadata": {},
     "output_type": "execute_result"
    }
   ],
   "source": [
    "val_2[\"Cochrane Review Group Code\"].value_counts()"
   ]
  },
  {
   "cell_type": "code",
   "execution_count": 53,
   "id": "f2e45ce7-c513-4449-9466-e37b39d3956d",
   "metadata": {},
   "outputs": [],
   "source": [
    "recode_dict = {\"ENT; Oral Health\":\"ENT\"}\n",
    "val_2[\"Cochrane Review Group Code\"] = val_2[\"Cochrane Review Group Code\"].replace(recode_dict)"
   ]
  },
  {
   "cell_type": "code",
   "execution_count": 58,
   "id": "6965ebe5-9aef-49db-b9c5-84a4cb6b7016",
   "metadata": {},
   "outputs": [],
   "source": [
    "val = pd.concat([val_1, val_2], ignore_index = True)"
   ]
  },
  {
   "cell_type": "code",
   "execution_count": 61,
   "id": "bdd6ab5d-6145-4b00-a3e5-5ecd9842b620",
   "metadata": {},
   "outputs": [],
   "source": [
    "unique_counts = val.groupby(\"Cochrane Review Group Code\")[\"Review_URL\"].nunique()"
   ]
  },
  {
   "cell_type": "code",
   "execution_count": 62,
   "id": "55d5ff9d-73e9-4438-a73f-26c1fe34d1ec",
   "metadata": {},
   "outputs": [
    {
     "name": "stdout",
     "output_type": "stream",
     "text": [
      "Cochrane Review Group Code\n",
      "Acute Respiratory Infections                         13\n",
      "Airways                                              49\n",
      "Anaesthesia                                          10\n",
      "Back and Neck                                         4\n",
      "Bone, Joint and Muscle Trauma                        12\n",
      "Breast Cancer                                         6\n",
      "Childhood Cancer                                      7\n",
      "Colorectal                                           18\n",
      "Common Mental Disorders                              21\n",
      "Consumers and Communication                           7\n",
      "Cystic Fibrosis and Genetic Disorders                23\n",
      "Dementia and Cognitive Improvement                   15\n",
      "Developmental, Psychosocial and Learning Problems    24\n",
      "Drugs and Alcohol                                     8\n",
      "ENT                                                  18\n",
      "Effective Practice and Organisation of Care          14\n",
      "Emergency and Critical Care                          12\n",
      "Epilepsy                                             13\n",
      "Eyes and Vision                                      20\n",
      "Fertility Regulation                                  5\n",
      "Gut                                                  24\n",
      "Gynaecological, Neuro-oncology and Orphan Cancer     27\n",
      "Gynaecology and Fertility                            25\n",
      "Haematology                                          12\n",
      "Hepato-Biliary                                       23\n",
      "Hypertension                                          9\n",
      "Incontinence                                          7\n",
      "Infectious Diseases                                  24\n",
      "Injuries                                             18\n",
      "Kidney and Transplant                                25\n",
      "Lung Cancer                                           2\n",
      "Metabolic and Endocrine Disorders                    14\n",
      "Methodology                                           2\n",
      "Movement Disorders                                   12\n",
      "Multiple Sclerosis and Rare Diseases of the CNS      11\n",
      "Musculoskeletal                                      15\n",
      "Neonatal                                             50\n",
      "Neuromuscular                                        16\n",
      "Oral Health                                          14\n",
      "Pain, Palliative and Supportive Care                 31\n",
      "Pregnancy and Childbirth                             60\n",
      "Public Health                                         4\n",
      "Schizophrenia                                        24\n",
      "Sexually Transmitted Infections                       2\n",
      "Skin                                                 11\n",
      "Stroke                                               25\n",
      "Tobacco Addiction                                     5\n",
      "Urology                                               8\n",
      "Vascular                                             16\n",
      "Work                                                  7\n",
      "Wounds                                               23\n",
      "Name: Review_URL, dtype: int64\n"
     ]
    }
   ],
   "source": [
    "print(unique_counts)"
   ]
  },
  {
   "cell_type": "code",
   "execution_count": 95,
   "id": "c558c6b3-5d5b-4519-85b7-f0e3f42ea11a",
   "metadata": {},
   "outputs": [
    {
     "name": "stdout",
     "output_type": "stream",
     "text": [
      "Acute Respiratory Infections\n",
      "13\n",
      "cutoff         False  True \n",
      "Actual Labels              \n",
      "0.0              332     19\n",
      "0.5               43     95\n",
      "1.0                6     91\n",
      "cutoff            False     True \n",
      "Actual Labels                    \n",
      "0.0            0.945869  0.054131\n",
      "0.5            0.311594  0.688406\n",
      "1.0            0.061856  0.938144\n",
      "Airways\n",
      "49\n",
      "cutoff         False  True \n",
      "Actual Labels              \n",
      "0.0              911     53\n",
      "0.5              576   1302\n",
      "1.0               11    500\n",
      "cutoff            False     True \n",
      "Actual Labels                    \n",
      "0.0            0.945021  0.054979\n",
      "0.5            0.306709  0.693291\n",
      "1.0            0.021526  0.978474\n",
      "Anaesthesia\n",
      "10\n",
      "cutoff         False  True \n",
      "Actual Labels              \n",
      "0.0              243     18\n",
      "0.5               18    111\n",
      "1.0                2    269\n",
      "cutoff            False     True \n",
      "Actual Labels                    \n",
      "0.0            0.931034  0.068966\n",
      "0.5            0.139535  0.860465\n",
      "1.0            0.007380  0.992620\n",
      "Back and Neck\n",
      "4\n",
      "cutoff         False  True \n",
      "Actual Labels              \n",
      "0.0              142     10\n",
      "0.5                9     93\n",
      "1.0                1    231\n",
      "cutoff            False     True \n",
      "Actual Labels                    \n",
      "0.0            0.934211  0.065789\n",
      "0.5            0.088235  0.911765\n",
      "1.0            0.004310  0.995690\n",
      "Bone, Joint and Muscle Trauma\n",
      "12\n",
      "cutoff         False  True \n",
      "Actual Labels              \n",
      "0.0              351     33\n",
      "0.5               46    354\n",
      "1.0                0    243\n",
      "cutoff            False     True \n",
      "Actual Labels                    \n",
      "0.0            0.914062  0.085938\n",
      "0.5            0.115000  0.885000\n",
      "1.0            0.000000  1.000000\n",
      "Breast Cancer\n",
      "6\n",
      "cutoff         False  True \n",
      "Actual Labels              \n",
      "0.0              141     13\n",
      "0.5                8    129\n",
      "1.0                1     84\n",
      "cutoff            False     True \n",
      "Actual Labels                    \n",
      "0.0            0.915584  0.084416\n",
      "0.5            0.058394  0.941606\n",
      "1.0            0.011765  0.988235\n",
      "Childhood Cancer\n",
      "7\n",
      "cutoff         False  True \n",
      "Actual Labels              \n",
      "0.0              164      3\n",
      "0.5              168     43\n",
      "1.0                7     25\n",
      "cutoff            False     True \n",
      "Actual Labels                    \n",
      "0.0            0.982036  0.017964\n",
      "0.5            0.796209  0.203791\n",
      "1.0            0.218750  0.781250\n",
      "Colorectal\n",
      "18\n",
      "cutoff         False  True \n",
      "Actual Labels              \n",
      "0.0              398     72\n",
      "0.5              109    240\n",
      "1.0               19    143\n",
      "cutoff            False     True \n",
      "Actual Labels                    \n",
      "0.0            0.846809  0.153191\n",
      "0.5            0.312321  0.687679\n",
      "1.0            0.117284  0.882716\n",
      "Common Mental Disorders\n",
      "21\n",
      "cutoff         False  True \n",
      "Actual Labels              \n",
      "0.0              737     33\n",
      "0.5               32    250\n",
      "1.0               10    361\n",
      "cutoff            False     True \n",
      "Actual Labels                    \n",
      "0.0            0.957143  0.042857\n",
      "0.5            0.113475  0.886525\n",
      "1.0            0.026954  0.973046\n",
      "Consumers and Communication\n",
      "7\n",
      "cutoff         False  True \n",
      "Actual Labels              \n",
      "0.0              428     78\n",
      "0.5              117    539\n",
      "1.0                3    178\n",
      "cutoff            False     True \n",
      "Actual Labels                    \n",
      "0.0            0.845850  0.154150\n",
      "0.5            0.178354  0.821646\n",
      "1.0            0.016575  0.983425\n",
      "Cystic Fibrosis and Genetic Disorders\n",
      "23\n",
      "cutoff         False  True \n",
      "Actual Labels              \n",
      "0.0              463     21\n",
      "0.5              141    234\n",
      "1.0                1     73\n",
      "cutoff            False     True \n",
      "Actual Labels                    \n",
      "0.0            0.956612  0.043388\n",
      "0.5            0.376000  0.624000\n",
      "1.0            0.013514  0.986486\n",
      "Dementia and Cognitive Improvement\n",
      "15\n",
      "cutoff         False  True \n",
      "Actual Labels              \n",
      "0.0              434     21\n",
      "0.5              213    342\n",
      "1.0                8    101\n",
      "cutoff            False     True \n",
      "Actual Labels                    \n",
      "0.0            0.953846  0.046154\n",
      "0.5            0.383784  0.616216\n",
      "1.0            0.073394  0.926606\n",
      "Developmental, Psychosocial and Learning Problems\n",
      "24\n",
      "cutoff         False  True \n",
      "Actual Labels              \n",
      "0.0             1239     74\n",
      "0.5              192    357\n",
      "1.0                2    249\n",
      "cutoff            False     True \n",
      "Actual Labels                    \n",
      "0.0            0.943641  0.056359\n",
      "0.5            0.349727  0.650273\n",
      "1.0            0.007968  0.992032\n",
      "Drugs and Alcohol\n",
      "8\n",
      "cutoff         False  True \n",
      "Actual Labels              \n",
      "0.0              228     13\n",
      "0.5               57    157\n",
      "1.0                7    136\n",
      "cutoff            False     True \n",
      "Actual Labels                    \n",
      "0.0            0.946058  0.053942\n",
      "0.5            0.266355  0.733645\n",
      "1.0            0.048951  0.951049\n",
      "ENT\n",
      "18\n",
      "cutoff         False  True \n",
      "Actual Labels              \n",
      "0.0              464     19\n",
      "0.5              108    125\n",
      "1.0                2     54\n",
      "cutoff            False     True \n",
      "Actual Labels                    \n",
      "0.0            0.960663  0.039337\n",
      "0.5            0.463519  0.536481\n",
      "1.0            0.035714  0.964286\n",
      "Effective Practice and Organisation of Care\n",
      "14\n",
      "cutoff         False  True \n",
      "Actual Labels              \n",
      "0.0              308     28\n",
      "0.5               57    441\n",
      "1.0                4    334\n",
      "cutoff            False     True \n",
      "Actual Labels                    \n",
      "0.0            0.916667  0.083333\n",
      "0.5            0.114458  0.885542\n",
      "1.0            0.011834  0.988166\n",
      "Emergency and Critical Care\n",
      "12\n",
      "cutoff         False  True \n",
      "Actual Labels              \n",
      "0.0              348     26\n",
      "0.5               28    129\n",
      "1.0                2    160\n",
      "cutoff            False     True \n",
      "Actual Labels                    \n",
      "0.0            0.930481  0.069519\n",
      "0.5            0.178344  0.821656\n",
      "1.0            0.012346  0.987654\n",
      "Epilepsy\n",
      "13\n",
      "cutoff         False  True \n",
      "Actual Labels              \n",
      "0.0              244     21\n",
      "0.5               54     71\n",
      "1.0                4     57\n",
      "cutoff            False     True \n",
      "Actual Labels                    \n",
      "0.0            0.920755  0.079245\n",
      "0.5            0.432000  0.568000\n",
      "1.0            0.065574  0.934426\n",
      "Eyes and Vision\n",
      "20\n",
      "cutoff         False  True \n",
      "Actual Labels              \n",
      "0.0              591     44\n",
      "0.5              137    257\n",
      "1.0                8    100\n",
      "cutoff            False     True \n",
      "Actual Labels                    \n",
      "0.0            0.930709  0.069291\n",
      "0.5            0.347716  0.652284\n",
      "1.0            0.074074  0.925926\n",
      "Fertility Regulation\n",
      "5\n",
      "cutoff         False  True \n",
      "Actual Labels              \n",
      "0.0               85     18\n",
      "0.5                9     45\n",
      "1.0                0     51\n",
      "cutoff            False     True \n",
      "Actual Labels                    \n",
      "0.0            0.825243  0.174757\n",
      "0.5            0.166667  0.833333\n",
      "1.0            0.000000  1.000000\n",
      "Gut\n",
      "24\n",
      "cutoff         False  True \n",
      "Actual Labels              \n",
      "0.0              687     39\n",
      "0.5               64    187\n",
      "1.0                3    165\n",
      "cutoff            False     True \n",
      "Actual Labels                    \n",
      "0.0            0.946281  0.053719\n",
      "0.5            0.254980  0.745020\n",
      "1.0            0.017857  0.982143\n",
      "Gynaecological, Neuro-oncology and Orphan Cancer\n",
      "27\n",
      "cutoff         False  True \n",
      "Actual Labels              \n",
      "0.0              786     63\n",
      "0.5              270    412\n",
      "1.0                3    159\n",
      "cutoff            False     True \n",
      "Actual Labels                    \n",
      "0.0            0.925795  0.074205\n",
      "0.5            0.395894  0.604106\n",
      "1.0            0.018519  0.981481\n",
      "Gynaecology and Fertility\n",
      "25\n",
      "cutoff         False  True \n",
      "Actual Labels              \n",
      "0.0              563     28\n",
      "0.5              198    368\n",
      "1.0                5    306\n",
      "cutoff            False     True \n",
      "Actual Labels                    \n",
      "0.0            0.952623  0.047377\n",
      "0.5            0.349823  0.650177\n",
      "1.0            0.016077  0.983923\n",
      "Haematology\n",
      "12\n",
      "cutoff         False  True \n",
      "Actual Labels              \n",
      "0.0              478     15\n",
      "0.5              160    105\n",
      "1.0                2     86\n",
      "cutoff            False     True \n",
      "Actual Labels                    \n",
      "0.0            0.969574  0.030426\n",
      "0.5            0.603774  0.396226\n",
      "1.0            0.022727  0.977273\n",
      "Hepato-Biliary\n",
      "23\n",
      "cutoff         False  True \n",
      "Actual Labels              \n",
      "0.0              941     45\n",
      "0.5              106    429\n",
      "1.0               10    267\n",
      "cutoff            False     True \n",
      "Actual Labels                    \n",
      "0.0            0.954361  0.045639\n",
      "0.5            0.198131  0.801869\n",
      "1.0            0.036101  0.963899\n",
      "Hypertension\n",
      "9\n",
      "cutoff         False  True \n",
      "Actual Labels              \n",
      "0.0              225      9\n",
      "0.5               57    286\n",
      "1.0                0    132\n",
      "cutoff            False     True \n",
      "Actual Labels                    \n",
      "0.0            0.961538  0.038462\n",
      "0.5            0.166181  0.833819\n",
      "1.0            0.000000  1.000000\n",
      "Incontinence\n",
      "7\n",
      "cutoff         False  True \n",
      "Actual Labels              \n",
      "0.0              231     35\n",
      "0.5               48    181\n",
      "1.0                2    103\n",
      "cutoff            False     True \n",
      "Actual Labels                    \n",
      "0.0            0.868421  0.131579\n",
      "0.5            0.209607  0.790393\n",
      "1.0            0.019048  0.980952\n",
      "Infectious Diseases\n",
      "24\n",
      "cutoff         False  True \n",
      "Actual Labels              \n",
      "0.0              613     54\n",
      "0.5              190    678\n",
      "1.0               29    306\n",
      "cutoff            False     True \n",
      "Actual Labels                    \n",
      "0.0            0.919040  0.080960\n",
      "0.5            0.218894  0.781106\n",
      "1.0            0.086567  0.913433\n",
      "Injuries\n",
      "18\n",
      "cutoff         False  True \n",
      "Actual Labels              \n",
      "0.0              257     27\n",
      "0.5               80    229\n",
      "1.0                4    196\n",
      "cutoff           False    True \n",
      "Actual Labels                  \n",
      "0.0            0.90493  0.09507\n",
      "0.5            0.25890  0.74110\n",
      "1.0            0.02000  0.98000\n",
      "Kidney and Transplant\n",
      "25\n",
      "cutoff         False  True \n",
      "Actual Labels              \n",
      "0.0              642     35\n",
      "0.5              207    836\n",
      "1.0               11    443\n",
      "cutoff            False     True \n",
      "Actual Labels                    \n",
      "0.0            0.948301  0.051699\n",
      "0.5            0.198466  0.801534\n",
      "1.0            0.024229  0.975771\n",
      "Lung Cancer\n",
      "2\n",
      "cutoff         False  True \n",
      "Actual Labels              \n",
      "0.0               14      2\n",
      "0.5               38     35\n",
      "1.0                0      2\n",
      "cutoff            False     True \n",
      "Actual Labels                    \n",
      "0.0            0.875000  0.125000\n",
      "0.5            0.520548  0.479452\n",
      "1.0            0.000000  1.000000\n",
      "Metabolic and Endocrine Disorders\n",
      "14\n",
      "cutoff         False  True \n",
      "Actual Labels              \n",
      "0.0              645    117\n",
      "0.5               53    184\n",
      "1.0                2     82\n",
      "cutoff            False     True \n",
      "Actual Labels                    \n",
      "0.0            0.846457  0.153543\n",
      "0.5            0.223629  0.776371\n",
      "1.0            0.023810  0.976190\n",
      "Methodology\n",
      "2\n",
      "cutoff         False  True \n",
      "Actual Labels              \n",
      "0.0               75     13\n",
      "0.5                2     85\n",
      "1.0                0     30\n",
      "cutoff            False     True \n",
      "Actual Labels                    \n",
      "0.0            0.852273  0.147727\n",
      "0.5            0.022989  0.977011\n",
      "1.0            0.000000  1.000000\n",
      "Movement Disorders\n",
      "12\n",
      "cutoff         False  True \n",
      "Actual Labels              \n",
      "0.0              157     15\n",
      "0.5               52     83\n",
      "1.0                5     29\n",
      "cutoff            False     True \n",
      "Actual Labels                    \n",
      "0.0            0.912791  0.087209\n",
      "0.5            0.385185  0.614815\n",
      "1.0            0.147059  0.852941\n",
      "Multiple Sclerosis and Rare Diseases of the CNS\n",
      "11\n",
      "cutoff         False  True \n",
      "Actual Labels              \n",
      "0.0              372     14\n",
      "0.5              100     69\n",
      "1.0                0     59\n",
      "cutoff            False     True \n",
      "Actual Labels                    \n",
      "0.0            0.963731  0.036269\n",
      "0.5            0.591716  0.408284\n",
      "1.0            0.000000  1.000000\n",
      "Musculoskeletal\n",
      "15\n",
      "cutoff         False  True \n",
      "Actual Labels              \n",
      "0.0              435     17\n",
      "0.5               38    195\n",
      "1.0                5    247\n",
      "cutoff            False     True \n",
      "Actual Labels                    \n",
      "0.0            0.962389  0.037611\n",
      "0.5            0.163090  0.836910\n",
      "1.0            0.019841  0.980159\n",
      "Neonatal\n",
      "50\n",
      "cutoff         False  True \n",
      "Actual Labels              \n",
      "0.0             1344     51\n",
      "0.5              207    390\n",
      "1.0               13    279\n",
      "cutoff            False     True \n",
      "Actual Labels                    \n",
      "0.0            0.963441  0.036559\n",
      "0.5            0.346734  0.653266\n",
      "1.0            0.044521  0.955479\n",
      "Neuromuscular\n",
      "16\n",
      "cutoff         False  True \n",
      "Actual Labels              \n",
      "0.0              559     18\n",
      "0.5               88     89\n",
      "1.0                6     74\n",
      "cutoff            False     True \n",
      "Actual Labels                    \n",
      "0.0            0.968804  0.031196\n",
      "0.5            0.497175  0.502825\n",
      "1.0            0.075000  0.925000\n",
      "Oral Health\n",
      "14\n",
      "cutoff         False  True \n",
      "Actual Labels              \n",
      "0.0              481      9\n",
      "0.5               61    242\n",
      "1.0                1    132\n",
      "cutoff            False     True \n",
      "Actual Labels                    \n",
      "0.0            0.981633  0.018367\n",
      "0.5            0.201320  0.798680\n",
      "1.0            0.007519  0.992481\n",
      "Pain, Palliative and Supportive Care\n",
      "31\n",
      "cutoff         False  True \n",
      "Actual Labels              \n",
      "0.0             1000     44\n",
      "0.5              148    571\n",
      "1.0                3    344\n",
      "cutoff            False     True \n",
      "Actual Labels                    \n",
      "0.0            0.957854  0.042146\n",
      "0.5            0.205841  0.794159\n",
      "1.0            0.008646  0.991354\n",
      "Pregnancy and Childbirth\n",
      "60\n",
      "cutoff         False  True \n",
      "Actual Labels              \n",
      "0.0             1204     54\n",
      "0.5              100    686\n",
      "1.0               18    440\n",
      "cutoff            False     True \n",
      "Actual Labels                    \n",
      "0.0            0.957075  0.042925\n",
      "0.5            0.127226  0.872774\n",
      "1.0            0.039301  0.960699\n",
      "Public Health\n",
      "4\n",
      "cutoff         False  True \n",
      "Actual Labels              \n",
      "0.0              123      5\n",
      "0.5               37    255\n",
      "1.0                0     55\n",
      "cutoff            False     True \n",
      "Actual Labels                    \n",
      "0.0            0.960938  0.039062\n",
      "0.5            0.126712  0.873288\n",
      "1.0            0.000000  1.000000\n",
      "Schizophrenia\n",
      "24\n",
      "cutoff         False  True \n",
      "Actual Labels              \n",
      "0.0              686     36\n",
      "0.5              105    443\n",
      "1.0                3    133\n",
      "cutoff            False     True \n",
      "Actual Labels                    \n",
      "0.0            0.950139  0.049861\n",
      "0.5            0.191606  0.808394\n",
      "1.0            0.022059  0.977941\n",
      "Sexually Transmitted Infections\n",
      "2\n",
      "cutoff         False  True \n",
      "Actual Labels              \n",
      "0.0               57      0\n",
      "0.5                1     24\n",
      "1.0                0     29\n",
      "cutoff         False  True \n",
      "Actual Labels              \n",
      "0.0             1.00   0.00\n",
      "0.5             0.04   0.96\n",
      "1.0             0.00   1.00\n",
      "Skin\n",
      "11\n",
      "cutoff         False  True \n",
      "Actual Labels              \n",
      "0.0              543     45\n",
      "0.5               43    176\n",
      "1.0                6    289\n",
      "cutoff            False     True \n",
      "Actual Labels                    \n",
      "0.0            0.923469  0.076531\n",
      "0.5            0.196347  0.803653\n",
      "1.0            0.020339  0.979661\n",
      "Stroke\n",
      "25\n",
      "cutoff         False  True \n",
      "Actual Labels              \n",
      "0.0              834     39\n",
      "0.5               81    347\n",
      "1.0               13    278\n",
      "cutoff            False     True \n",
      "Actual Labels                    \n",
      "0.0            0.955326  0.044674\n",
      "0.5            0.189252  0.810748\n",
      "1.0            0.044674  0.955326\n",
      "Tobacco Addiction\n",
      "5\n",
      "cutoff         False  True \n",
      "Actual Labels              \n",
      "0.0              113     11\n",
      "0.5               61    364\n",
      "1.0                7    228\n",
      "cutoff            False     True \n",
      "Actual Labels                    \n",
      "0.0            0.911290  0.088710\n",
      "0.5            0.143529  0.856471\n",
      "1.0            0.029787  0.970213\n",
      "Urology\n",
      "8\n",
      "cutoff         False  True \n",
      "Actual Labels              \n",
      "0.0              196      4\n",
      "0.5              133    110\n",
      "1.0                0     36\n",
      "cutoff            False     True \n",
      "Actual Labels                    \n",
      "0.0            0.980000  0.020000\n",
      "0.5            0.547325  0.452675\n",
      "1.0            0.000000  1.000000\n",
      "Vascular\n",
      "16\n",
      "cutoff         False  True \n",
      "Actual Labels              \n",
      "0.0              410     20\n",
      "0.5               84    190\n",
      "1.0                1    133\n",
      "cutoff            False     True \n",
      "Actual Labels                    \n",
      "0.0            0.953488  0.046512\n",
      "0.5            0.306569  0.693431\n",
      "1.0            0.007463  0.992537\n",
      "Work\n",
      "7\n",
      "cutoff         False  True \n",
      "Actual Labels              \n",
      "0.0              306     15\n",
      "0.5               90    202\n",
      "1.0               10    105\n",
      "cutoff            False     True \n",
      "Actual Labels                    \n",
      "0.0            0.953271  0.046729\n",
      "0.5            0.308219  0.691781\n",
      "1.0            0.086957  0.913043\n",
      "Wounds\n",
      "23\n",
      "cutoff         False  True \n",
      "Actual Labels              \n",
      "0.0              694     27\n",
      "0.5              152    429\n",
      "1.0               12    249\n",
      "cutoff            False     True \n",
      "Actual Labels                    \n",
      "0.0            0.962552  0.037448\n",
      "0.5            0.261618  0.738382\n",
      "1.0            0.045977  0.954023\n"
     ]
    }
   ],
   "source": [
    "ntab_all = pd.DataFrame(columns = [])\n",
    "ptab_all = pd.DataFrame(columns = [])\n",
    "\n",
    "grouped_val = [df for _, df in val.groupby(\"Cochrane Review Group Code\")]\n",
    "for topic in grouped_val:\n",
    "    print(topic[\"Cochrane Review Group Code\"].iloc[0])\n",
    "    print(topic[\"Review_URL\"].nunique())\n",
    "    ntab, ptab = evaluate_cutoff(topic, \"Outputs\", k)\n",
    "    ntab[\"N\"] = topic[\"Review_URL\"].nunique()\n",
    "    ntab[\"Cochrane Review Group Code\"] = topic[\"Cochrane Review Group Code\"].iloc[0]\n",
    "    ptab[\"Cochrane Review Group Code\"] = topic[\"Cochrane Review Group Code\"].iloc[0]\n",
    "    ntab[\"type\"] = 0\n",
    "    ptab[\"type\"] = 1\n",
    "    ntab_all = pd.concat([ntab_all, ntab], ignore_index = True)\n",
    "    ptab_all = pd.concat([ptab_all, ptab], ignore_index = True)"
   ]
  },
  {
   "cell_type": "code",
   "execution_count": null,
   "id": "be7e6c5e-da22-4385-844f-1de2c79d8644",
   "metadata": {},
   "outputs": [],
   "source": []
  },
  {
   "cell_type": "code",
   "execution_count": 143,
   "id": "9de874a6-0df1-448c-bf86-fdbd47aaba36",
   "metadata": {},
   "outputs": [],
   "source": [
    "grouped_ptab = [df for _, df in ptab_all.groupby(\"Cochrane Review Group Code\")]"
   ]
  },
  {
   "cell_type": "code",
   "execution_count": 144,
   "id": "6331c337-0ca0-4148-b907-ff1d19ea5204",
   "metadata": {},
   "outputs": [],
   "source": [
    "grouped_ptab = sorted(grouped_ptab, key = lambda x: x[False].iloc[-1], reverse = True)"
   ]
  },
  {
   "cell_type": "code",
   "execution_count": 145,
   "id": "ee8efd45-9687-4da8-a2b2-04bda7c6e670",
   "metadata": {},
   "outputs": [],
   "source": [
    "grouped_ptab = pd.concat(grouped_ptab, ignore_index = True)"
   ]
  },
  {
   "cell_type": "code",
   "execution_count": 146,
   "id": "20ed18d4-e380-420c-81ae-dd89a683d80c",
   "metadata": {},
   "outputs": [],
   "source": [
    "grouped_ptab.to_csv(data_folder + \"\\\\\" + \"ptab.csv\")"
   ]
  },
  {
   "cell_type": "code",
   "execution_count": 147,
   "id": "fb89f10e-968d-4c85-af47-22a1f8c1968a",
   "metadata": {},
   "outputs": [],
   "source": [
    "ntab_all.to_csv(data_folder + \"\\\\\" + \"ntab.csv\")"
   ]
  },
  {
   "cell_type": "code",
   "execution_count": null,
   "id": "541f8f35-76f2-4a3b-8ec9-95e077be70e1",
   "metadata": {},
   "outputs": [],
   "source": []
  },
  {
   "cell_type": "code",
   "execution_count": null,
   "id": "daa929ef-6784-4398-b4c5-db0d23c8b13b",
   "metadata": {},
   "outputs": [],
   "source": [
    "############ Descriptive statistics for Dev set 20240429 ############"
   ]
  },
  {
   "cell_type": "code",
   "execution_count": 64,
   "id": "9eb64999-547d-4ae6-887f-9b6d62158351",
   "metadata": {},
   "outputs": [],
   "source": [
    "dev_file_location = \"20240417_dev_set_shuffled.csv\"\n",
    "dev_file = pd.read_csv(data_folder + \"\\\\\" + dev_file_location)"
   ]
  },
  {
   "cell_type": "code",
   "execution_count": 67,
   "id": "d7d2c3f1-4e1d-4be8-afa6-428ebfab9f19",
   "metadata": {},
   "outputs": [],
   "source": [
    "dev_file = dev_file.merge(master_review_list[[\"Review_URL\",\"Cochrane Review Group Code\"]], on=\"Review_URL\", how = \"left\")"
   ]
  },
  {
   "cell_type": "code",
   "execution_count": 68,
   "id": "af3dae89-7b34-489d-8b38-8e501bb4366d",
   "metadata": {},
   "outputs": [
    {
     "data": {
      "text/plain": [
       "Cochrane Review Group Code\n",
       "Pregnancy and Childbirth                                                      28465\n",
       "Airways                                                                       20697\n",
       "Neonatal                                                                      16977\n",
       "Pain, Palliative and Supportive Care                                          16253\n",
       "Hepato-Biliary                                                                16166\n",
       "Effective Practice and Organisation of Care                                   15476\n",
       "Developmental, Psychosocial and Learning Problems                             14569\n",
       "Common Mental Disorders                                                       14245\n",
       "Schizophrenia                                                                 14204\n",
       "Gynaecological, Neuro-oncology and Orphan Cancer                              13914\n",
       "Gut                                                                           13714\n",
       "Infectious Diseases                                                           12377\n",
       "Kidney and Transplant                                                         12324\n",
       "Gynaecology and Fertility                                                     12304\n",
       "Musculoskeletal                                                               11954\n",
       "Eyes and Vision                                                               11808\n",
       "Oral Health                                                                   11398\n",
       "Skin                                                                          11209\n",
       "Stroke                                                                        10415\n",
       "Metabolic and Endocrine Disorders                                             10213\n",
       "Anaesthesia                                                                   10134\n",
       "Acute Respiratory Infections                                                   9707\n",
       "Cystic Fibrosis and Genetic Disorders                                          9618\n",
       "Dementia and Cognitive Improvement                                             9540\n",
       "Consumers and Communication                                                    8930\n",
       "Wounds                                                                         8650\n",
       "Vascular                                                                       8028\n",
       "Neuromuscular                                                                  7116\n",
       "ENT                                                                            7091\n",
       "Bone, Joint and Muscle Trauma                                                  6719\n",
       "Emergency and Critical Care                                                    6658\n",
       "Tobacco Addiction                                                              6484\n",
       "Colorectal                                                                     6321\n",
       "Injuries                                                                       6296\n",
       "Haematology                                                                    6161\n",
       "Urology                                                                        6037\n",
       "Hypertension                                                                   5665\n",
       "Drugs and Alcohol                                                              5179\n",
       "Back and Neck                                                                  5171\n",
       "Incontinence                                                                   4956\n",
       "Breast Cancer                                                                  4394\n",
       "Fertility Regulation                                                           3834\n",
       "Work                                                                           3626\n",
       "Epilepsy                                                                       3548\n",
       "Methodology                                                                    3245\n",
       "Public Health                                                                  3215\n",
       "Multiple Sclerosis and Rare Diseases of the CNS                                2839\n",
       "Childhood Cancer                                                               2763\n",
       "Movement Disorders                                                             2589\n",
       "Lung Cancer                                                                    1768\n",
       "Sexually Transmitted Infections                                                1248\n",
       "Back and Neck; Musculoskeletal                                                  176\n",
       "Heart; Stroke                                                                   137\n",
       "Heart; Vascular                                                                  93\n",
       "Common Mental Disorders; Developmental, Psychosocial and Learning Problems       80\n",
       "Infectious Diseases; Haematology                                                 69\n",
       "Gynaecological, Neuro-oncology and Orphan Cancer; Childhood Cancer               60\n",
       "Gynaecology and Fertility; Incontinence                                          55\n",
       "ENT; Oral Health                                                                 51\n",
       "Gynaecological, Neuro-oncology and Orphan Cancer; Haematology                    42\n",
       "Name: count, dtype: int64"
      ]
     },
     "execution_count": 68,
     "metadata": {},
     "output_type": "execute_result"
    }
   ],
   "source": [
    "dev_file[\"Cochrane Review Group Code\"].value_counts()"
   ]
  },
  {
   "cell_type": "code",
   "execution_count": 69,
   "id": "89539a1e-4225-435b-83b6-89f62fc7454f",
   "metadata": {},
   "outputs": [],
   "source": [
    "recode_dict = {\"Infectious Diseases; Haematology\":\"Infectious Diseases\", \"Gynaecology and Fertility; Incontinence\":\"Gynaecology and Fertility\", \"Common Mental Disorders; Developmental, Psychosocial and Learning Problems\":\"Common Mental Disorders\", \"Gynaecological, Neuro-oncology and Orphan Cancer; Haematology\":\"Gynaecological, Neuro-oncology and Orphan Cancer\", \"Gynaecological, Neuro-oncology and Orphan Cancer; Childhood Cancer\":\"Gynaecological, Neuro-oncology and Orphan Cancer\", \"ENT; Oral Health\":\"ENT\",  \"Back and Neck; Musculoskeletal\": \"Back and Neck\"}\n",
    "dev_file[\"Cochrane Review Group Code\"] = dev_file[\"Cochrane Review Group Code\"].replace(recode_dict)"
   ]
  },
  {
   "cell_type": "code",
   "execution_count": 70,
   "id": "0f7d897c-5bf9-4774-a3f4-8002e8b3136d",
   "metadata": {},
   "outputs": [],
   "source": [
    "dev_heart_file = dev_file[dev_file[\"Cochrane Review Group Code\"].isin([\"Heart; Stroke\",\"Heart; Vascular\"])].copy()\n",
    "dev_file = dev_file[~dev_file[\"Cochrane Review Group Code\"].isin([\"Heart; Stroke\",\"Heart; Vascular\"])].copy()"
   ]
  },
  {
   "cell_type": "code",
   "execution_count": 71,
   "id": "9e1191fa-df91-4f28-8333-fc84760bb9a6",
   "metadata": {},
   "outputs": [],
   "source": [
    "dev_study_count = pd.DataFrame(dev_file[\"Cochrane Review Group Code\"].value_counts()).reset_index()"
   ]
  },
  {
   "cell_type": "code",
   "execution_count": 72,
   "id": "2d5f6ac1-5455-47ea-8b14-d058aaeedd67",
   "metadata": {},
   "outputs": [],
   "source": [
    "dev_review_count = pd.DataFrame(dev_file.groupby(\"Cochrane Review Group Code\")[\"Review_URL\"].nunique()).reset_index()"
   ]
  },
  {
   "cell_type": "code",
   "execution_count": 73,
   "id": "b6f5b4bc-4a34-4513-94bf-07ee52759cff",
   "metadata": {},
   "outputs": [
    {
     "data": {
      "text/html": [
       "<div>\n",
       "<style scoped>\n",
       "    .dataframe tbody tr th:only-of-type {\n",
       "        vertical-align: middle;\n",
       "    }\n",
       "\n",
       "    .dataframe tbody tr th {\n",
       "        vertical-align: top;\n",
       "    }\n",
       "\n",
       "    .dataframe thead th {\n",
       "        text-align: right;\n",
       "    }\n",
       "</style>\n",
       "<table border=\"1\" class=\"dataframe\">\n",
       "  <thead>\n",
       "    <tr style=\"text-align: right;\">\n",
       "      <th></th>\n",
       "      <th>Cochrane Review Group Code</th>\n",
       "      <th>count</th>\n",
       "      <th>Review_URL</th>\n",
       "    </tr>\n",
       "  </thead>\n",
       "  <tbody>\n",
       "    <tr>\n",
       "      <th>0</th>\n",
       "      <td>Pregnancy and Childbirth</td>\n",
       "      <td>28465</td>\n",
       "      <td>560</td>\n",
       "    </tr>\n",
       "    <tr>\n",
       "      <th>1</th>\n",
       "      <td>Airways</td>\n",
       "      <td>20697</td>\n",
       "      <td>349</td>\n",
       "    </tr>\n",
       "    <tr>\n",
       "      <th>2</th>\n",
       "      <td>Neonatal</td>\n",
       "      <td>16977</td>\n",
       "      <td>412</td>\n",
       "    </tr>\n",
       "    <tr>\n",
       "      <th>3</th>\n",
       "      <td>Pain, Palliative and Supportive Care</td>\n",
       "      <td>16253</td>\n",
       "      <td>246</td>\n",
       "    </tr>\n",
       "    <tr>\n",
       "      <th>4</th>\n",
       "      <td>Hepato-Biliary</td>\n",
       "      <td>16166</td>\n",
       "      <td>223</td>\n",
       "    </tr>\n",
       "    <tr>\n",
       "      <th>5</th>\n",
       "      <td>Effective Practice and Organisation of Care</td>\n",
       "      <td>15476</td>\n",
       "      <td>163</td>\n",
       "    </tr>\n",
       "    <tr>\n",
       "      <th>6</th>\n",
       "      <td>Developmental, Psychosocial and Learning Problems</td>\n",
       "      <td>14569</td>\n",
       "      <td>170</td>\n",
       "    </tr>\n",
       "    <tr>\n",
       "      <th>7</th>\n",
       "      <td>Common Mental Disorders</td>\n",
       "      <td>14325</td>\n",
       "      <td>178</td>\n",
       "    </tr>\n",
       "    <tr>\n",
       "      <th>8</th>\n",
       "      <td>Schizophrenia</td>\n",
       "      <td>14204</td>\n",
       "      <td>219</td>\n",
       "    </tr>\n",
       "    <tr>\n",
       "      <th>9</th>\n",
       "      <td>Gynaecological, Neuro-oncology and Orphan Cancer</td>\n",
       "      <td>14016</td>\n",
       "      <td>201</td>\n",
       "    </tr>\n",
       "    <tr>\n",
       "      <th>10</th>\n",
       "      <td>Gut</td>\n",
       "      <td>13714</td>\n",
       "      <td>203</td>\n",
       "    </tr>\n",
       "    <tr>\n",
       "      <th>11</th>\n",
       "      <td>Infectious Diseases</td>\n",
       "      <td>12446</td>\n",
       "      <td>185</td>\n",
       "    </tr>\n",
       "    <tr>\n",
       "      <th>12</th>\n",
       "      <td>Gynaecology and Fertility</td>\n",
       "      <td>12359</td>\n",
       "      <td>231</td>\n",
       "    </tr>\n",
       "    <tr>\n",
       "      <th>13</th>\n",
       "      <td>Kidney and Transplant</td>\n",
       "      <td>12324</td>\n",
       "      <td>198</td>\n",
       "    </tr>\n",
       "    <tr>\n",
       "      <th>14</th>\n",
       "      <td>Musculoskeletal</td>\n",
       "      <td>11954</td>\n",
       "      <td>208</td>\n",
       "    </tr>\n",
       "    <tr>\n",
       "      <th>15</th>\n",
       "      <td>Eyes and Vision</td>\n",
       "      <td>11808</td>\n",
       "      <td>235</td>\n",
       "    </tr>\n",
       "    <tr>\n",
       "      <th>16</th>\n",
       "      <td>Oral Health</td>\n",
       "      <td>11398</td>\n",
       "      <td>162</td>\n",
       "    </tr>\n",
       "    <tr>\n",
       "      <th>17</th>\n",
       "      <td>Skin</td>\n",
       "      <td>11209</td>\n",
       "      <td>111</td>\n",
       "    </tr>\n",
       "    <tr>\n",
       "      <th>18</th>\n",
       "      <td>Stroke</td>\n",
       "      <td>10415</td>\n",
       "      <td>196</td>\n",
       "    </tr>\n",
       "    <tr>\n",
       "      <th>19</th>\n",
       "      <td>Metabolic and Endocrine Disorders</td>\n",
       "      <td>10213</td>\n",
       "      <td>122</td>\n",
       "    </tr>\n",
       "    <tr>\n",
       "      <th>20</th>\n",
       "      <td>Anaesthesia</td>\n",
       "      <td>10134</td>\n",
       "      <td>129</td>\n",
       "    </tr>\n",
       "    <tr>\n",
       "      <th>21</th>\n",
       "      <td>Acute Respiratory Infections</td>\n",
       "      <td>9707</td>\n",
       "      <td>157</td>\n",
       "    </tr>\n",
       "    <tr>\n",
       "      <th>22</th>\n",
       "      <td>Cystic Fibrosis and Genetic Disorders</td>\n",
       "      <td>9618</td>\n",
       "      <td>187</td>\n",
       "    </tr>\n",
       "    <tr>\n",
       "      <th>23</th>\n",
       "      <td>Dementia and Cognitive Improvement</td>\n",
       "      <td>9540</td>\n",
       "      <td>148</td>\n",
       "    </tr>\n",
       "    <tr>\n",
       "      <th>24</th>\n",
       "      <td>Consumers and Communication</td>\n",
       "      <td>8930</td>\n",
       "      <td>74</td>\n",
       "    </tr>\n",
       "    <tr>\n",
       "      <th>25</th>\n",
       "      <td>Wounds</td>\n",
       "      <td>8650</td>\n",
       "      <td>155</td>\n",
       "    </tr>\n",
       "    <tr>\n",
       "      <th>26</th>\n",
       "      <td>Vascular</td>\n",
       "      <td>8028</td>\n",
       "      <td>184</td>\n",
       "    </tr>\n",
       "    <tr>\n",
       "      <th>27</th>\n",
       "      <td>ENT</td>\n",
       "      <td>7142</td>\n",
       "      <td>139</td>\n",
       "    </tr>\n",
       "    <tr>\n",
       "      <th>28</th>\n",
       "      <td>Neuromuscular</td>\n",
       "      <td>7116</td>\n",
       "      <td>132</td>\n",
       "    </tr>\n",
       "    <tr>\n",
       "      <th>29</th>\n",
       "      <td>Bone, Joint and Muscle Trauma</td>\n",
       "      <td>6719</td>\n",
       "      <td>124</td>\n",
       "    </tr>\n",
       "    <tr>\n",
       "      <th>30</th>\n",
       "      <td>Emergency and Critical Care</td>\n",
       "      <td>6658</td>\n",
       "      <td>107</td>\n",
       "    </tr>\n",
       "    <tr>\n",
       "      <th>31</th>\n",
       "      <td>Tobacco Addiction</td>\n",
       "      <td>6484</td>\n",
       "      <td>67</td>\n",
       "    </tr>\n",
       "    <tr>\n",
       "      <th>32</th>\n",
       "      <td>Colorectal</td>\n",
       "      <td>6321</td>\n",
       "      <td>107</td>\n",
       "    </tr>\n",
       "    <tr>\n",
       "      <th>33</th>\n",
       "      <td>Injuries</td>\n",
       "      <td>6296</td>\n",
       "      <td>133</td>\n",
       "    </tr>\n",
       "    <tr>\n",
       "      <th>34</th>\n",
       "      <td>Haematology</td>\n",
       "      <td>6161</td>\n",
       "      <td>88</td>\n",
       "    </tr>\n",
       "    <tr>\n",
       "      <th>35</th>\n",
       "      <td>Urology</td>\n",
       "      <td>6037</td>\n",
       "      <td>88</td>\n",
       "    </tr>\n",
       "    <tr>\n",
       "      <th>36</th>\n",
       "      <td>Hypertension</td>\n",
       "      <td>5665</td>\n",
       "      <td>73</td>\n",
       "    </tr>\n",
       "    <tr>\n",
       "      <th>37</th>\n",
       "      <td>Back and Neck</td>\n",
       "      <td>5347</td>\n",
       "      <td>81</td>\n",
       "    </tr>\n",
       "    <tr>\n",
       "      <th>38</th>\n",
       "      <td>Drugs and Alcohol</td>\n",
       "      <td>5179</td>\n",
       "      <td>69</td>\n",
       "    </tr>\n",
       "    <tr>\n",
       "      <th>39</th>\n",
       "      <td>Incontinence</td>\n",
       "      <td>4956</td>\n",
       "      <td>84</td>\n",
       "    </tr>\n",
       "    <tr>\n",
       "      <th>40</th>\n",
       "      <td>Breast Cancer</td>\n",
       "      <td>4394</td>\n",
       "      <td>77</td>\n",
       "    </tr>\n",
       "    <tr>\n",
       "      <th>41</th>\n",
       "      <td>Fertility Regulation</td>\n",
       "      <td>3834</td>\n",
       "      <td>85</td>\n",
       "    </tr>\n",
       "    <tr>\n",
       "      <th>42</th>\n",
       "      <td>Work</td>\n",
       "      <td>3626</td>\n",
       "      <td>40</td>\n",
       "    </tr>\n",
       "    <tr>\n",
       "      <th>43</th>\n",
       "      <td>Epilepsy</td>\n",
       "      <td>3548</td>\n",
       "      <td>90</td>\n",
       "    </tr>\n",
       "    <tr>\n",
       "      <th>44</th>\n",
       "      <td>Methodology</td>\n",
       "      <td>3245</td>\n",
       "      <td>35</td>\n",
       "    </tr>\n",
       "    <tr>\n",
       "      <th>45</th>\n",
       "      <td>Public Health</td>\n",
       "      <td>3215</td>\n",
       "      <td>26</td>\n",
       "    </tr>\n",
       "    <tr>\n",
       "      <th>46</th>\n",
       "      <td>Multiple Sclerosis and Rare Diseases of the CNS</td>\n",
       "      <td>2839</td>\n",
       "      <td>54</td>\n",
       "    </tr>\n",
       "    <tr>\n",
       "      <th>47</th>\n",
       "      <td>Childhood Cancer</td>\n",
       "      <td>2763</td>\n",
       "      <td>35</td>\n",
       "    </tr>\n",
       "    <tr>\n",
       "      <th>48</th>\n",
       "      <td>Movement Disorders</td>\n",
       "      <td>2589</td>\n",
       "      <td>59</td>\n",
       "    </tr>\n",
       "    <tr>\n",
       "      <th>49</th>\n",
       "      <td>Lung Cancer</td>\n",
       "      <td>1768</td>\n",
       "      <td>38</td>\n",
       "    </tr>\n",
       "    <tr>\n",
       "      <th>50</th>\n",
       "      <td>Sexually Transmitted Infections</td>\n",
       "      <td>1248</td>\n",
       "      <td>21</td>\n",
       "    </tr>\n",
       "  </tbody>\n",
       "</table>\n",
       "</div>"
      ],
      "text/plain": [
       "                           Cochrane Review Group Code  count  Review_URL\n",
       "0                            Pregnancy and Childbirth  28465         560\n",
       "1                                             Airways  20697         349\n",
       "2                                            Neonatal  16977         412\n",
       "3                Pain, Palliative and Supportive Care  16253         246\n",
       "4                                      Hepato-Biliary  16166         223\n",
       "5         Effective Practice and Organisation of Care  15476         163\n",
       "6   Developmental, Psychosocial and Learning Problems  14569         170\n",
       "7                             Common Mental Disorders  14325         178\n",
       "8                                       Schizophrenia  14204         219\n",
       "9    Gynaecological, Neuro-oncology and Orphan Cancer  14016         201\n",
       "10                                                Gut  13714         203\n",
       "11                                Infectious Diseases  12446         185\n",
       "12                          Gynaecology and Fertility  12359         231\n",
       "13                              Kidney and Transplant  12324         198\n",
       "14                                    Musculoskeletal  11954         208\n",
       "15                                    Eyes and Vision  11808         235\n",
       "16                                        Oral Health  11398         162\n",
       "17                                               Skin  11209         111\n",
       "18                                             Stroke  10415         196\n",
       "19                  Metabolic and Endocrine Disorders  10213         122\n",
       "20                                        Anaesthesia  10134         129\n",
       "21                       Acute Respiratory Infections   9707         157\n",
       "22              Cystic Fibrosis and Genetic Disorders   9618         187\n",
       "23                 Dementia and Cognitive Improvement   9540         148\n",
       "24                        Consumers and Communication   8930          74\n",
       "25                                             Wounds   8650         155\n",
       "26                                           Vascular   8028         184\n",
       "27                                                ENT   7142         139\n",
       "28                                      Neuromuscular   7116         132\n",
       "29                      Bone, Joint and Muscle Trauma   6719         124\n",
       "30                        Emergency and Critical Care   6658         107\n",
       "31                                  Tobacco Addiction   6484          67\n",
       "32                                         Colorectal   6321         107\n",
       "33                                           Injuries   6296         133\n",
       "34                                        Haematology   6161          88\n",
       "35                                            Urology   6037          88\n",
       "36                                       Hypertension   5665          73\n",
       "37                                      Back and Neck   5347          81\n",
       "38                                  Drugs and Alcohol   5179          69\n",
       "39                                       Incontinence   4956          84\n",
       "40                                      Breast Cancer   4394          77\n",
       "41                               Fertility Regulation   3834          85\n",
       "42                                               Work   3626          40\n",
       "43                                           Epilepsy   3548          90\n",
       "44                                        Methodology   3245          35\n",
       "45                                      Public Health   3215          26\n",
       "46    Multiple Sclerosis and Rare Diseases of the CNS   2839          54\n",
       "47                                   Childhood Cancer   2763          35\n",
       "48                                 Movement Disorders   2589          59\n",
       "49                                        Lung Cancer   1768          38\n",
       "50                    Sexually Transmitted Infections   1248          21"
      ]
     },
     "execution_count": 73,
     "metadata": {},
     "output_type": "execute_result"
    }
   ],
   "source": [
    "dev_study_count.merge(dev_review_count, on = \"Cochrane Review Group Code\", how = \"left\")"
   ]
  },
  {
   "cell_type": "code",
   "execution_count": 74,
   "id": "5c9034d2-cce6-48cf-ad63-597111cb280f",
   "metadata": {},
   "outputs": [],
   "source": [
    "dev_file_0 = dev_file[dev_file[\"label\"] == 0].copy()\n",
    "dev_file_05 = dev_file[dev_file[\"label\"] == 0.5].copy()\n",
    "dev_file_1 = dev_file[dev_file[\"label\"] == 1].copy()\n",
    "\n",
    "dev_study_count_0 = pd.DataFrame(dev_file_0[\"Cochrane Review Group Code\"].value_counts()).reset_index()\n",
    "dev_study_count_05 = pd.DataFrame(dev_file_05[\"Cochrane Review Group Code\"].value_counts()).reset_index()\n",
    "dev_study_count_1 = pd.DataFrame(dev_file_1[\"Cochrane Review Group Code\"].value_counts()).reset_index()"
   ]
  },
  {
   "cell_type": "code",
   "execution_count": 75,
   "id": "b760f8ef-03ac-4387-95a2-13e14dd0bbde",
   "metadata": {},
   "outputs": [],
   "source": [
    "dev_study_count_0.rename(columns = {'count':'count0'}, inplace = True)\n",
    "dev_study_count_05.rename(columns = {'count':'count05'}, inplace = True)\n",
    "dev_study_count_1.rename(columns = {'count':'count1'}, inplace = True)"
   ]
  },
  {
   "cell_type": "code",
   "execution_count": 77,
   "id": "1d9d6f6d-d487-4cd8-aaf9-c5f1b478311c",
   "metadata": {},
   "outputs": [],
   "source": [
    "dev_study_count.merge(dev_review_count, on = \"Cochrane Review Group Code\", how = \"left\").merge(dev_study_count_0, on = \"Cochrane Review Group Code\", how = \"left\").merge(dev_study_count_05, on = \"Cochrane Review Group Code\", how = \"left\").merge(dev_study_count_1, on = \"Cochrane Review Group Code\", how = \"left\").to_csv(data_folder +\"\\\\\"+ \"20240501_dev_descriptive.csv\")"
   ]
  },
  {
   "cell_type": "code",
   "execution_count": 17,
   "id": "10df22bb-259f-4f3f-91d4-311612d9ef2b",
   "metadata": {},
   "outputs": [],
   "source": [
    "dev_file.to_csv(data_folder + \"\\\\ \" + \"20240504_dev_set_shuffled.csv\")\n",
    "dev_heart_file.to_csv(data_folder + \"\\\\\" + \"20240504_val_heart_set_additional.csv\")"
   ]
  },
  {
   "cell_type": "code",
   "execution_count": 18,
   "id": "1ee3bd4d-3769-453f-bb84-3661fa75efbc",
   "metadata": {},
   "outputs": [
    {
     "data": {
      "text/plain": [
       "Index(['Unnamed: 0.5', 'index', 'Unnamed: 0.4', 'Review_URL', 'Objective',\n",
       "       'Selection_criteria', 'Title', 'Abstract_clean', 'label', 'obj_sel',\n",
       "       'tit_abs', 'Background', 'Unnamed: 0.3', 'Unnamed: 0.2', 'Unnamed: 0.1',\n",
       "       'Unnamed: 0', 'abstract words', 'Review_Title',\n",
       "       'Cochrane Review Group Code'],\n",
       "      dtype='object')"
      ]
     },
     "execution_count": 18,
     "metadata": {},
     "output_type": "execute_result"
    }
   ],
   "source": [
    "dev_heart_file.columns"
   ]
  },
  {
   "cell_type": "code",
   "execution_count": 23,
   "id": "55a2e80b-b62a-4b36-a8cd-3d9c2a3904cc",
   "metadata": {},
   "outputs": [
    {
     "data": {
      "text/plain": [
       "Index(['Unnamed: 0.5', 'index', 'Unnamed: 0.4', 'Review_URL', 'Objective',\n",
       "       'Selection_criteria', 'Title', 'Abstract_clean', 'label', 'obj_sel',\n",
       "       'tit_abs', 'Background', 'Unnamed: 0.3', 'Unnamed: 0.2', 'Unnamed: 0.1',\n",
       "       'Unnamed: 0', 'abstract words', 'Review_Title',\n",
       "       'Cochrane Review Group Code'],\n",
       "      dtype='object')"
      ]
     },
     "execution_count": 23,
     "metadata": {},
     "output_type": "execute_result"
    }
   ],
   "source": [
    "dev_heart_file.columns"
   ]
  },
  {
   "cell_type": "code",
   "execution_count": 24,
   "id": "ca71532e-31a7-4d5c-abaf-ce043c5b7b97",
   "metadata": {},
   "outputs": [
    {
     "data": {
      "text/plain": [
       "Index(['Unnamed: 0.4', 'Unnamed: 0.3', 'Review_URL', 'Objective',\n",
       "       'Selection_criteria', 'Title', 'Abstract_clean', 'label', 'obj_sel',\n",
       "       'tit_abs', 'Background', 'Unnamed: 0.2', 'Unnamed: 0.1', 'Unnamed: 0',\n",
       "       'Review_Title'],\n",
       "      dtype='object')"
      ]
     },
     "execution_count": 24,
     "metadata": {},
     "output_type": "execute_result"
    }
   ],
   "source": [
    "val_heart_file.columns"
   ]
  },
  {
   "cell_type": "code",
   "execution_count": 29,
   "id": "dbe49c72-0d65-485b-8948-fd3cf1b465d9",
   "metadata": {},
   "outputs": [],
   "source": [
    "val_heart_file = val_heart_file[['Review_URL', 'Objective',\n",
    "       'Selection_criteria', 'Title', 'Abstract_clean', 'label', 'obj_sel',\n",
    "       'tit_abs', 'Background', 'Review_Title']].copy()"
   ]
  },
  {
   "cell_type": "code",
   "execution_count": 30,
   "id": "0cf92757-d4a0-404a-920b-885250ad8589",
   "metadata": {},
   "outputs": [],
   "source": [
    "dev_heart_file = dev_heart_file[['Review_URL', 'Objective',\n",
    "       'Selection_criteria', 'Title', 'Abstract_clean', 'label', 'obj_sel',\n",
    "       'tit_abs', 'Background', 'Review_Title']].copy()"
   ]
  },
  {
   "cell_type": "code",
   "execution_count": 33,
   "id": "6c41360f-6790-4307-a7ef-79ed8d873015",
   "metadata": {},
   "outputs": [
    {
     "data": {
      "text/plain": [
       "18839"
      ]
     },
     "execution_count": 33,
     "metadata": {},
     "output_type": "execute_result"
    }
   ],
   "source": [
    "len(val_heart_file)"
   ]
  },
  {
   "cell_type": "code",
   "execution_count": 36,
   "id": "35424732-a557-4f81-a26e-18043d5d01df",
   "metadata": {},
   "outputs": [],
   "source": [
    "val_heart_file = pd.concat([val_heart_file, dev_heart_file], ignore_index = True).copy()"
   ]
  },
  {
   "cell_type": "code",
   "execution_count": 37,
   "id": "dc884992-4728-4efe-a4c1-2fbcdf998e63",
   "metadata": {},
   "outputs": [],
   "source": [
    "val_heart_file.to_csv(data_folder + \"\\\\\" + \"20240504_val_heart_set.csv\")"
   ]
  },
  {
   "cell_type": "code",
   "execution_count": 78,
   "id": "770334c6-9c12-4762-bb8f-8cd0a70573e3",
   "metadata": {},
   "outputs": [],
   "source": [
    "val_heart_file = pd.read_csv(data_folder + \"\\\\\" + \"20240504_val_heart_set.csv\")"
   ]
  },
  {
   "cell_type": "code",
   "execution_count": 79,
   "id": "84739495-5b58-4daf-9e5a-bd10c46216d3",
   "metadata": {},
   "outputs": [],
   "source": [
    "def data_descriptive(file_location):\n",
    "    file = pd.read_csv(data_folder + \"\\\\\" + file_location)\n",
    "    master_review_list = pd.read_csv(review_data_folder + \"\\\\processed\\\\\" + \"20240331_cochrane_review_list.csv\")\n",
    "    file = file.merge(master_review_list[[\"Review_URL\",\"Cochrane Review Group Code\"]], on=\"Review_URL\", how = \"left\")\n",
    "    recode_dict = {\"Infectious Diseases; Haematology\":\"Infectious Diseases\", \"Gynaecology and Fertility; Incontinence\":\"Gynaecology and Fertility\", \"Common Mental Disorders; Developmental, Psychosocial and Learning Problems\":\"Common Mental Disorders\", \"Gynaecological, Neuro-oncology and Orphan Cancer; Haematology\":\"Gynaecological, Neuro-oncology and Orphan Cancer\", \"Gynaecological, Neuro-oncology and Orphan Cancer; Childhood Cancer\":\"Gynaecological, Neuro-oncology and Orphan Cancer\", \"ENT; Oral Health\":\"ENT\",  \"Back and Neck; Musculoskeletal\": \"Back and Neck\"}\n",
    "    file[\"Cochrane Review Group Code\"] = file[\"Cochrane Review Group Code\"].replace(recode_dict)\n",
    "        \n",
    "    study_count = pd.DataFrame(file[\"Cochrane Review Group Code\"].value_counts()).reset_index()\n",
    "    \n",
    "    review_count = pd.DataFrame(file.groupby(\"Cochrane Review Group Code\")[\"Review_URL\"].nunique()).reset_index()\n",
    "    \n",
    "    study_count.merge(review_count, on = \"Cochrane Review Group Code\", how = \"left\")\n",
    "    \n",
    "    file_0 = file[file[\"label\"] == 0].copy()\n",
    "    file_05 = file[file[\"label\"] == 0.5].copy()\n",
    "    file_1 = file[file[\"label\"] == 1].copy()\n",
    "    \n",
    "    study_count_0 = pd.DataFrame(file_0[\"Cochrane Review Group Code\"].value_counts()).reset_index()\n",
    "    study_count_05 = pd.DataFrame(file_05[\"Cochrane Review Group Code\"].value_counts()).reset_index()\n",
    "    study_count_1 = pd.DataFrame(file_1[\"Cochrane Review Group Code\"].value_counts()).reset_index()\n",
    "    \n",
    "    study_count_0.rename(columns = {'count':'count0'}, inplace = True)\n",
    "    study_count_05.rename(columns = {'count':'count05'}, inplace = True)\n",
    "    study_count_1.rename(columns = {'count':'count1'}, inplace = True)\n",
    "    \n",
    "    study_count.merge(review_count, on = \"Cochrane Review Group Code\", how = \"left\").merge(study_count_0, on = \"Cochrane Review Group Code\", how = \"left\").merge(study_count_05, on = \"Cochrane Review Group Code\", how = \"left\").merge(study_count_1, on = \"Cochrane Review Group Code\", how = \"left\").to_csv(data_folder +\"\\\\\"+ \"tmp_descriptive.csv\")"
   ]
  },
  {
   "cell_type": "code",
   "execution_count": 82,
   "id": "b77d42bf-2783-46a5-b2f0-2006402b68f3",
   "metadata": {},
   "outputs": [],
   "source": [
    "data_descriptive(\"20240419_val_HIV_rti_bg_obj_sel_output.csv\")"
   ]
  }
 ],
 "metadata": {
  "kernelspec": {
   "display_name": "Python 3 (ipykernel)",
   "language": "python",
   "name": "python3"
  },
  "language_info": {
   "codemirror_mode": {
    "name": "ipython",
    "version": 3
   },
   "file_extension": ".py",
   "mimetype": "text/x-python",
   "name": "python",
   "nbconvert_exporter": "python",
   "pygments_lexer": "ipython3",
   "version": "3.9.16"
  }
 },
 "nbformat": 4,
 "nbformat_minor": 5
}
